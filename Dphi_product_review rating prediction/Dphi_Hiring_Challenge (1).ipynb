{
  "nbformat": 4,
  "nbformat_minor": 0,
  "metadata": {
    "colab": {
      "name": "Dphi Hiring Challenge.ipynb",
      "provenance": [],
      "collapsed_sections": []
    },
    "kernelspec": {
      "display_name": "Python 3",
      "name": "python3"
    }
  },
  "cells": [
    {
      "cell_type": "markdown",
      "metadata": {
        "id": "4f_p9A7XfrXk"
      },
      "source": [
        "**Problem Overview**\n",
        "\n",
        "Online product reviews provided by consumers who previously purchased products have become a major information source for consumers and marketers regarding product quality. Research has shown that consumer online product ratings reflect both the customers' experience with the product and the influence of others' ratings.\n",
        "\n",
        "**Objective**\n",
        "\n",
        "You are required to build a machine learning model to predict the product rating out of 5.\n",
        "\n",
        "**Evaluation Criteria**\n",
        "\n",
        "Submissions are evaluated using Root Mean Squared Error (MSE)."
      ]
    },
    {
      "cell_type": "markdown",
      "metadata": {
        "id": "d-9MoXbLjF4I"
      },
      "source": [
        "***Step 1: Import necessary libraries***"
      ]
    },
    {
      "cell_type": "code",
      "metadata": {
        "colab": {
          "base_uri": "https://localhost:8080/"
        },
        "id": "15Q4XP905gRg",
        "collapsed": true,
        "outputId": "fb4971bc-1a77-47d4-e4a0-761e8d04c231"
      },
      "source": [
        "import pandas as pd\n",
        "import numpy as np\n",
        "import matplotlib.pyplot as plt\n",
        "import seaborn as sns\n",
        "import nltk\n",
        "from nltk.corpus import stopwords\n",
        "from nltk.stem.porter import PorterStemmer\n",
        "nltk.download('punkt')\n",
        "nltk.download('averaged_perceptron_tagger')\n",
        "from collections import Counter\n",
        "from sklearn.feature_extraction.text import TfidfVectorizer\n",
        "from sklearn.metrics import confusion_matrix\n",
        "from sklearn.metrics import accuracy_score\n",
        "from sklearn.svm import LinearSVC\n",
        "from sklearn.model_selection import train_test_split\n",
        "from nltk.tokenize import word_tokenize\n",
        "nltk.download('stopwords')\n",
        "import copy\n",
        "from textblob import TextBlob\n",
        "from sklearn.utils import resample\n",
        "from wordcloud import WordCloud\n",
        "import re\n",
        "from sklearn.ensemble import GradientBoostingClassifier\n",
        "from sklearn.linear_model import LogisticRegression\n",
        "\n"
      ],
      "execution_count": null,
      "outputs": [
        {
          "output_type": "stream",
          "text": [
            "[nltk_data] Downloading package punkt to /root/nltk_data...\n",
            "[nltk_data]   Package punkt is already up-to-date!\n",
            "[nltk_data] Downloading package averaged_perceptron_tagger to\n",
            "[nltk_data]     /root/nltk_data...\n",
            "[nltk_data]   Package averaged_perceptron_tagger is already up-to-\n",
            "[nltk_data]       date!\n",
            "[nltk_data] Downloading package stopwords to /root/nltk_data...\n",
            "[nltk_data]   Package stopwords is already up-to-date!\n"
          ],
          "name": "stdout"
        }
      ]
    },
    {
      "cell_type": "markdown",
      "metadata": {
        "id": "kEGY540wjQAQ"
      },
      "source": [
        "***Step 2: Data Inspection***"
      ]
    },
    {
      "cell_type": "code",
      "metadata": {
        "colab": {
          "base_uri": "https://localhost:8080/"
        },
        "id": "HHfwh76_5vTO",
        "collapsed": true,
        "outputId": "87f6c2cc-1e3d-4ff3-eb8e-e5d594ba790f"
      },
      "source": [
        "pr_data  = pd.read_csv(\"https://raw.githubusercontent.com/dphi-official/Datasets/master/product_ratings/train_set_label.csv\" )\n",
        "pr_data.info()"
      ],
      "execution_count": null,
      "outputs": [
        {
          "output_type": "stream",
          "text": [
            "<class 'pandas.core.frame.DataFrame'>\n",
            "RangeIndex: 7486 entries, 0 to 7485\n",
            "Data columns (total 17 columns):\n",
            " #   Column                                       Non-Null Count  Dtype  \n",
            "---  ------                                       --------------  -----  \n",
            " 0   uniq_id                                      7486 non-null   object \n",
            " 1   product_name                                 7486 non-null   object \n",
            " 2   manufacturer                                 7481 non-null   object \n",
            " 3   price                                        6417 non-null   object \n",
            " 4   number_available_in_stock                    5587 non-null   object \n",
            " 5   number_of_reviews                            7486 non-null   object \n",
            " 6   number_of_answered_questions                 6909 non-null   float64\n",
            " 7   amazon_category_and_sub_category             7000 non-null   object \n",
            " 8   customers_who_bought_this_item_also_bought   6665 non-null   object \n",
            " 9   description                                  7013 non-null   object \n",
            " 10  product_information                          7441 non-null   object \n",
            " 11  product_description                          7013 non-null   object \n",
            " 12  items_customers_buy_after_viewing_this_item  5179 non-null   object \n",
            " 13  customer_questions_and_answers               669 non-null    object \n",
            " 14  customer_reviews                             7483 non-null   object \n",
            " 15  sellers                                      5172 non-null   object \n",
            " 16  average_review_rating                        7486 non-null   float64\n",
            "dtypes: float64(2), object(15)\n",
            "memory usage: 994.4+ KB\n"
          ],
          "name": "stdout"
        }
      ]
    },
    {
      "cell_type": "code",
      "metadata": {
        "colab": {
          "base_uri": "https://localhost:8080/",
          "height": 398
        },
        "id": "xkOWhW-H38XZ",
        "collapsed": true,
        "outputId": "b14ad408-3904-4473-d4d0-74b85b33438f"
      },
      "source": [
        "pr_data[\"average_review_rating\"].value_counts().plot(kind=\"bar\",figsize=(12,6))"
      ],
      "execution_count": null,
      "outputs": [
        {
          "output_type": "execute_result",
          "data": {
            "text/plain": [
              "<matplotlib.axes._subplots.AxesSubplot at 0x7f9be92c4588>"
            ]
          },
          "metadata": {
            "tags": []
          },
          "execution_count": 13
        },
        {
          "output_type": "display_data",
          "data": {
            "image/png": "[encoded data removed]",
            "text/plain": [
              "<Figure size 864x432 with 1 Axes>"
            ]
          },
          "metadata": {
            "tags": [],
            "needs_background": "light"
          }
        }
      ]
    },
    {
      "cell_type": "code",
      "metadata": {
        "colab": {
          "base_uri": "https://localhost:8080/"
        },
        "id": "283eArM5dlf-",
        "cellView": "form",
        "collapsed": true,
        "outputId": "1d7a286d-b6e3-443c-e7f9-95d3786240b2"
      },
      "source": [
        "#@title\n",
        "nltk.download('stopwords')\n",
        "words=stopwords.words(\"english\")\n",
        "len(words)"
      ],
      "execution_count": null,
      "outputs": [
        {
          "output_type": "stream",
          "text": [
            "[nltk_data] Downloading package stopwords to /root/nltk_data...\n",
            "[nltk_data]   Package stopwords is already up-to-date!\n"
          ],
          "name": "stdout"
        },
        {
          "output_type": "execute_result",
          "data": {
            "text/plain": [
              "179"
            ]
          },
          "metadata": {
            "tags": []
          },
          "execution_count": 14
        }
      ]
    },
    {
      "cell_type": "markdown",
      "metadata": {
        "id": "0U8Wjua6DMWw"
      },
      "source": [
        "***Step 3 : Clean the Text - Remove html tags,special characters,symbols and case conversion***"
      ]
    },
    {
      "cell_type": "code",
      "metadata": {
        "id": "skz5vk5s6CTo"
      },
      "source": [
        "import re\n",
        "def clean_text(text):\n",
        "    text = re.sub(r\"won't\",\"will not\",text)\n",
        "    text = re.sub(r\"can\\'t\",\"can not\",text)\n",
        "    text = re.sub(r\"n\\'t\",\"not\",text)\n",
        "    text = re.sub(r\"\\'re\",\"are\",text)\n",
        "    text = re.sub(r\"\\'s\",\"is\",text)\n",
        "    text = re.sub(r\"\\'d\",\"would\",text)\n",
        "    text = re.sub(r\"\\'ll\",\"will\",text)\n",
        "    text = re.sub(r\"\\'t\",\"not\",text)\n",
        "    text = re.sub(r\"\\'ve\",\"have\",text)\n",
        "    text = re.sub(\"r\\'m\",\"am\",text)\n",
        "    text = text.replace(\"\\\\r\",\" \")\n",
        "    text = text.replace(\"\\\\n\",\" \")\n",
        "    text = text.replace('\\\\\"',' ')\n",
        "    text = re.sub(\"(@£[A-Za-z0-9]+)|([^A-Za-z0-9']+)|(\\w+:\\/\\/S+)\",' ',text)\n",
        "    text = text.lower().strip()\n",
        "    text = ' '.join(e for e in text.split() if e not in stopwords.words(\"english\"))\n",
        "    return text"
      ],
      "execution_count": null,
      "outputs": []
    },
    {
      "cell_type": "code",
      "metadata": {
        "colab": {
          "base_uri": "https://localhost:8080/"
        },
        "id": "ChlgK9Tzdp9e",
        "collapsed": true,
        "outputId": "8850612a-ec09-4b2d-f62c-f06b8ea0b78b"
      },
      "source": [
        "data = pr_data.copy() #create a copy\n",
        "data.isna().sum() #check for missing values"
      ],
      "execution_count": null,
      "outputs": [
        {
          "output_type": "execute_result",
          "data": {
            "text/plain": [
              "uniq_id                                           0\n",
              "product_name                                      0\n",
              "manufacturer                                      5\n",
              "price                                          1069\n",
              "number_available_in_stock                      1899\n",
              "number_of_reviews                                 0\n",
              "number_of_answered_questions                    577\n",
              "amazon_category_and_sub_category                486\n",
              "customers_who_bought_this_item_also_bought      821\n",
              "description                                     473\n",
              "product_information                              45\n",
              "product_description                             473\n",
              "items_customers_buy_after_viewing_this_item    2307\n",
              "customer_questions_and_answers                 6817\n",
              "customer_reviews                                  3\n",
              "sellers                                        2314\n",
              "average_review_rating                             0\n",
              "dtype: int64"
            ]
          },
          "metadata": {
            "tags": []
          },
          "execution_count": 16
        }
      ]
    },
    {
      "cell_type": "markdown",
      "metadata": {
        "id": "XO6LsecCDzc_"
      },
      "source": [
        "**Drop the column customer_questions_and_answers as it contains lot of missing values.\n",
        "Also drop description column as it is repeated again as product_description**"
      ]
    },
    {
      "cell_type": "code",
      "metadata": {
        "id": "QAOM5uFjdt1N"
      },
      "source": [
        "data = data.drop(columns = ['customer_questions_and_answers'])\n",
        "data = data.drop(columns = ['description'])"
      ],
      "execution_count": null,
      "outputs": []
    },
    {
      "cell_type": "code",
      "metadata": {
        "id": "BCiA4cuxdxKb"
      },
      "source": [
        "data = data.dropna()"
      ],
      "execution_count": null,
      "outputs": []
    },
    {
      "cell_type": "code",
      "metadata": {
        "id": "dUQIL0SKd0PW"
      },
      "source": [
        "data[\"number_of_reviews\"] = data[\"number_of_reviews\"].astype(str)\n",
        "data.price = data.price.str.replace('[#,£,&]','') #Replace the price symbol by space."
      ],
      "execution_count": null,
      "outputs": []
    },
    {
      "cell_type": "code",
      "metadata": {
        "id": "L9XP39AKd3f8"
      },
      "source": [
        "data[\"product_name\"]= data[\"product_name\"].apply(clean_text) # All the columns that contain text are cleaned using the defined function clean_text\n",
        "data[\"manufacturer\"]= data[\"manufacturer\"].apply(clean_text)\n",
        "data[\"amazon_category_and_sub_category\"]= data[\"amazon_category_and_sub_category\"].apply(clean_text)\n",
        "data[\"customers_who_bought_this_item_also_bought\"]= data[\"customers_who_bought_this_item_also_bought\"].apply(clean_text)\n",
        "data[\"product_description\"]= data[\"product_description\"].apply(clean_text)\n",
        "data[\"product_information\"]= data[\"product_information\"].apply(clean_text)\n",
        "data[\"sellers\"] = data[\"sellers\"].apply(clean_text)"
      ],
      "execution_count": null,
      "outputs": []
    },
    {
      "cell_type": "markdown",
      "metadata": {
        "id": "OwApjZyyEy4S"
      },
      "source": [
        "**Combine the columns containing text into a single column named Review.**"
      ]
    },
    {
      "cell_type": "code",
      "metadata": {
        "id": "vsHa8C4ld_Fa"
      },
      "source": [
        "data['Review'] = (data['product_name'].map(str)+' '+data['manufacturer'].map(str) +' '+data['amazon_category_and_sub_category'].map(str)+' '+data['product_information'].map(str)+' '+data['product_description'].map(str)+' '+data['customer_reviews'].map(str)+' '+data['sellers']).apply(lambda row: row.strip())"
      ],
      "execution_count": null,
      "outputs": []
    },
    {
      "cell_type": "code",
      "metadata": {
        "colab": {
          "base_uri": "https://localhost:8080/"
        },
        "id": "LBUPsE3GeH_H",
        "outputId": "fc5fb9d9-36b5-4e9a-c606-e35630ab12e1"
      },
      "source": [
        "from nltk.corpus import stopwords\n",
        "from nltk.stem import PorterStemmer\n",
        "from nltk.stem import WordNetLemmatizer\n",
        "w = WordNetLemmatizer()\n",
        "nltk.download('wordnet')\n",
        "from sklearn.feature_extraction.text import CountVectorizer\n",
        "cv = CountVectorizer()"
      ],
      "execution_count": null,
      "outputs": [
        {
          "output_type": "stream",
          "text": [
            "[nltk_data] Downloading package wordnet to /root/nltk_data...\n",
            "[nltk_data]   Package wordnet is already up-to-date!\n"
          ],
          "name": "stdout"
        }
      ]
    },
    {
      "cell_type": "code",
      "metadata": {
        "id": "d0zxzXX8eMKM"
      },
      "source": [
        "data.Review = data.Review.apply(lambda x: \" \".join(w.lemmatize(word,'v') for word in x.split())) # Lemmatization"
      ],
      "execution_count": null,
      "outputs": []
    },
    {
      "cell_type": "markdown",
      "metadata": {
        "id": "IWhdirWXmSV_"
      },
      "source": [
        "***Step 4: Building the Model***"
      ]
    },
    {
      "cell_type": "code",
      "metadata": {
        "id": "6OAzQc56eRlX"
      },
      "source": [
        "y = data['average_review_rating'] # Target column"
      ],
      "execution_count": null,
      "outputs": []
    },
    {
      "cell_type": "code",
      "metadata": {
        "id": "E23TtETSeX47"
      },
      "source": [
        "X = data[['Review']] "
      ],
      "execution_count": null,
      "outputs": []
    },
    {
      "cell_type": "code",
      "metadata": {
        "id": "A1ZPG3axeiX8"
      },
      "source": [
        "Xtrain, Xtest, ytrain, ytest = train_test_split(X,y, test_size=0.20, random_state=42) # Split into 80% training and 20% test data"
      ],
      "execution_count": null,
      "outputs": []
    },
    {
      "cell_type": "code",
      "metadata": {
        "id": "8aBt_QoTenIs"
      },
      "source": [
        "print('Xtrain shape',Xtrain.shape) # Check for all the shapes\n",
        "print('Xtest shape',Xtest.shape)\n",
        "print('ytrain shape',ytest.shape)\n",
        "print('ytest shape',ytest.shape)"
      ],
      "execution_count": null,
      "outputs": []
    },
    {
      "cell_type": "code",
      "metadata": {
        "colab": {
          "base_uri": "https://localhost:8080/"
        },
        "id": "OQyEUZvEiTp1",
        "collapsed": true,
        "cellView": "form",
        "outputId": "256a019a-5f3b-4386-84b9-bb054bfbe70f"
      },
      "source": [
        "#@title\n",
        "y"
      ],
      "execution_count": null,
      "outputs": [
        {
          "output_type": "execute_result",
          "data": {
            "text/plain": [
              "3       5.0\n",
              "4       4.2\n",
              "10      4.8\n",
              "13      4.5\n",
              "14      4.8\n",
              "       ... \n",
              "7473    4.0\n",
              "7476    4.0\n",
              "7477    5.0\n",
              "7479    5.0\n",
              "7480    4.3\n",
              "Name: average_review_rating, Length: 2062, dtype: float64"
            ]
          },
          "metadata": {
            "tags": []
          },
          "execution_count": 27
        }
      ]
    },
    {
      "cell_type": "code",
      "metadata": {
        "id": "Xv8raXCEe1Gz"
      },
      "source": [
        "from sklearn.pipeline import FeatureUnion\n",
        "from sklearn.pipeline import Pipeline\n",
        "from sklearn.base import BaseEstimator, TransformerMixin\n",
        "from sklearn.naive_bayes import MultinomialNB\n",
        "from sklearn.preprocessing import FunctionTransformer\n",
        "from sklearn.tree import DecisionTreeRegressor\n",
        "from sklearn.neighbors import KNeighborsRegressor\n",
        "\n",
        "from sklearn.preprocessing import FunctionTransformer\n",
        "get_data=FunctionTransformer(lambda x: x['Review'], validate=False)"
      ],
      "execution_count": null,
      "outputs": []
    },
    {
      "cell_type": "code",
      "metadata": {
        "id": "6_u2yZuue8YS"
      },
      "source": [
        "textdata=get_data.fit_transform(Xtrain)"
      ],
      "execution_count": null,
      "outputs": []
    },
    {
      "cell_type": "code",
      "metadata": {
        "id": "DHfpuvM_gKzv"
      },
      "source": [
        "join_features = FeatureUnion(\n",
        "            transformer_list = [\n",
        "                ('text1_features', Pipeline([\n",
        "                    ('selector', get_data),\n",
        "                    ('vectorizer', CountVectorizer())\n",
        "                ]))\n",
        "             ]\n",
        "        )"
      ],
      "execution_count": null,
      "outputs": []
    },
    {
      "cell_type": "code",
      "metadata": {
        "id": "sx8yDsv4GWtZ"
      },
      "source": [
        "from sklearn.ensemble import RandomForestRegressor, ExtraTreesRegressor, GradientBoostingRegressor"
      ],
      "execution_count": null,
      "outputs": []
    },
    {
      "cell_type": "code",
      "metadata": {
        "id": "kVdJtlpXZbqA"
      },
      "source": [
        "from sklearn.linear_model import LinearRegression\n",
        "from xgboost.sklearn import XGBRegressor\n",
        "from sklearn.linear_model import SGDRegressor\n",
        "from sklearn.kernel_ridge import KernelRidge\n",
        "from sklearn.linear_model import ElasticNet\n",
        "from sklearn.svm import SVR"
      ],
      "execution_count": null,
      "outputs": []
    },
    {
      "cell_type": "code",
      "metadata": {
        "id": "DscIHCKtGRMI"
      },
      "source": [
        "dec_tree =Pipeline([\n",
        "        ('union', join_features),\n",
        "        ('clf',DecisionTreeRegressor(random_state=0))\n",
        "    ])"
      ],
      "execution_count": null,
      "outputs": []
    },
    {
      "cell_type": "code",
      "metadata": {
        "id": "CsU_nlVQg8jy"
      },
      "source": [
        "ran_for = Pipeline([\n",
        "        ('union', join_features),\n",
        "        ('clf', RandomForestRegressor(n_estimators=10))\n",
        "    ])"
      ],
      "execution_count": null,
      "outputs": []
    },
    {
      "cell_type": "code",
      "metadata": {
        "id": "8Y5R8kRPpnrP"
      },
      "source": [
        "extra_tree = Pipeline([\n",
        "        ('union', join_features),\n",
        "        ('clf', ExtraTreesRegressor(n_estimators=100, random_state=0))\n",
        "    ])\n"
      ],
      "execution_count": null,
      "outputs": []
    },
    {
      "cell_type": "code",
      "metadata": {
        "id": "XWH7Y5nirS39"
      },
      "source": [
        "grad_boost = Pipeline([\n",
        "        ('union', join_features),\n",
        "        ('clf', GradientBoostingRegressor(random_state=0))\n",
        "    ])"
      ],
      "execution_count": null,
      "outputs": []
    },
    {
      "cell_type": "code",
      "metadata": {
        "id": "VQoEVFKNWb5p"
      },
      "source": [
        "knn= Pipeline([\n",
        "        ('union', join_features),\n",
        "        ('clf', KNeighborsRegressor())\n",
        "    ])"
      ],
      "execution_count": null,
      "outputs": []
    },
    {
      "cell_type": "code",
      "metadata": {
        "id": "moLrOFN7aMgi"
      },
      "source": [
        "lin_reg = Pipeline([\n",
        "        ('union', join_features),\n",
        "        ('clf', LinearRegression())\n",
        "    ])"
      ],
      "execution_count": null,
      "outputs": []
    },
    {
      "cell_type": "code",
      "metadata": {
        "id": "FdEdQWFPasdr"
      },
      "source": [
        "xgb_reg = Pipeline([\n",
        "        ('union', join_features),\n",
        "        ('clf', XGBRegressor())\n",
        "    ])"
      ],
      "execution_count": null,
      "outputs": []
    },
    {
      "cell_type": "code",
      "metadata": {
        "id": "aJtBgMs_bMEk"
      },
      "source": [
        "sgd_reg = Pipeline([\n",
        "        ('union', join_features),\n",
        "        ('clf', SGDRegressor())\n",
        "    ])"
      ],
      "execution_count": null,
      "outputs": []
    },
    {
      "cell_type": "code",
      "metadata": {
        "id": "UvCGlLrfbTEk"
      },
      "source": [
        "ridge_reg = Pipeline([\n",
        "        ('union', join_features),\n",
        "        ('clf', KernelRidge())\n",
        "    ])"
      ],
      "execution_count": null,
      "outputs": []
    },
    {
      "cell_type": "code",
      "metadata": {
        "id": "O688iYqSbXn0"
      },
      "source": [
        "elastic_reg = Pipeline([\n",
        "        ('union', join_features),\n",
        "        ('clf', ElasticNet())\n",
        "    ])"
      ],
      "execution_count": null,
      "outputs": []
    },
    {
      "cell_type": "code",
      "metadata": {
        "id": "eQf439-ebzXD"
      },
      "source": [
        "svc_reg = Pipeline([\n",
        "        ('union', join_features),\n",
        "        ('clf',SVR())\n",
        "    ])"
      ],
      "execution_count": null,
      "outputs": []
    },
    {
      "cell_type": "code",
      "metadata": {
        "colab": {
          "base_uri": "https://localhost:8080/",
          "height": 407
        },
        "id": "f61tGDEekBoc",
        "outputId": "13c54356-cb51-494e-d3cc-4f0557d0c227"
      },
      "source": [
        "Xtrain"
      ],
      "execution_count": null,
      "outputs": [
        {
          "output_type": "execute_result",
          "data": {
            "text/html": [
              "<div>\n",
              "<style scoped>\n",
              "    .dataframe tbody tr th:only-of-type {\n",
              "        vertical-align: middle;\n",
              "    }\n",
              "\n",
              "    .dataframe tbody tr th {\n",
              "        vertical-align: top;\n",
              "    }\n",
              "\n",
              "    .dataframe thead th {\n",
              "        text-align: right;\n",
              "    }\n",
              "</style>\n",
              "<table border=\"1\" class=\"dataframe\">\n",
              "  <thead>\n",
              "    <tr style=\"text-align: right;\">\n",
              "      <th></th>\n",
              "      <th>Review</th>\n",
              "    </tr>\n",
              "  </thead>\n",
              "  <tbody>\n",
              "    <tr>\n",
              "      <th>4071</th>\n",
              "      <td>worlds apart flash 170cx kite worlds apart wor...</td>\n",
              "    </tr>\n",
              "    <tr>\n",
              "      <th>6966</th>\n",
              "      <td>orchard toy farmyard dominoes orchard toy game...</td>\n",
              "    </tr>\n",
              "    <tr>\n",
              "      <th>4983</th>\n",
              "      <td>christmas elf felt shoe adult fancy dress acce...</td>\n",
              "    </tr>\n",
              "    <tr>\n",
              "      <th>239</th>\n",
              "      <td>schmidt rummy travel schmidt game card game te...</td>\n",
              "    </tr>\n",
              "    <tr>\n",
              "      <th>6306</th>\n",
              "      <td>brainbox inventions green board game co game e...</td>\n",
              "    </tr>\n",
              "    <tr>\n",
              "      <th>...</th>\n",
              "      <td>...</td>\n",
              "    </tr>\n",
              "    <tr>\n",
              "      <th>6004</th>\n",
              "      <td>dragon shield standard sleeves black dragon sh...</td>\n",
              "    </tr>\n",
              "    <tr>\n",
              "      <th>3942</th>\n",
              "      <td>hama bead boy single pegboard 286 crazy grans ...</td>\n",
              "    </tr>\n",
              "    <tr>\n",
              "      <th>4046</th>\n",
              "      <td>schleich look smurf schleich figure playsets p...</td>\n",
              "    </tr>\n",
              "    <tr>\n",
              "      <th>4691</th>\n",
              "      <td>tobar 1 24 scale special edition ford mustang ...</td>\n",
              "    </tr>\n",
              "    <tr>\n",
              "      <th>3081</th>\n",
              "      <td>manhattan toy fraggle rock gobo hand puppet ma...</td>\n",
              "    </tr>\n",
              "  </tbody>\n",
              "</table>\n",
              "<p>1649 rows × 1 columns</p>\n",
              "</div>"
            ],
            "text/plain": [
              "                                                 Review\n",
              "4071  worlds apart flash 170cx kite worlds apart wor...\n",
              "6966  orchard toy farmyard dominoes orchard toy game...\n",
              "4983  christmas elf felt shoe adult fancy dress acce...\n",
              "239   schmidt rummy travel schmidt game card game te...\n",
              "6306  brainbox inventions green board game co game e...\n",
              "...                                                 ...\n",
              "6004  dragon shield standard sleeves black dragon sh...\n",
              "3942  hama bead boy single pegboard 286 crazy grans ...\n",
              "4046  schleich look smurf schleich figure playsets p...\n",
              "4691  tobar 1 24 scale special edition ford mustang ...\n",
              "3081  manhattan toy fraggle rock gobo hand puppet ma...\n",
              "\n",
              "[1649 rows x 1 columns]"
            ]
          },
          "metadata": {
            "tags": []
          },
          "execution_count": 46
        }
      ]
    },
    {
      "cell_type": "code",
      "metadata": {
        "colab": {
          "base_uri": "https://localhost:8080/"
        },
        "id": "qtrHCfSUhBW3",
        "collapsed": true,
        "outputId": "0d52386b-597b-4553-c2fd-01c580c88d91"
      },
      "source": [
        "dec_tree.fit(Xtrain,ytrain)"
      ],
      "execution_count": null,
      "outputs": [
        {
          "output_type": "execute_result",
          "data": {
            "text/plain": [
              "Pipeline(memory=None,\n",
              "         steps=[('union',\n",
              "                 FeatureUnion(n_jobs=None,\n",
              "                              transformer_list=[('text1_features',\n",
              "                                                 Pipeline(memory=None,\n",
              "                                                          steps=[('selector',\n",
              "                                                                  FunctionTransformer(accept_sparse=False,\n",
              "                                                                                      check_inverse=True,\n",
              "                                                                                      func=<function <lambda> at 0x7f9be8faaa60>,\n",
              "                                                                                      inv_kw_args=None,\n",
              "                                                                                      inverse_func=None,\n",
              "                                                                                      kw_args=None,\n",
              "                                                                                      validate=False)),\n",
              "                                                                 ('vectorizer',\n",
              "                                                                  CountVectorizer(analyzer='word',\n",
              "                                                                                  bi...\n",
              "                                                          verbose=False))],\n",
              "                              transformer_weights=None, verbose=False)),\n",
              "                ('clf',\n",
              "                 DecisionTreeRegressor(ccp_alpha=0.0, criterion='mse',\n",
              "                                       max_depth=None, max_features=None,\n",
              "                                       max_leaf_nodes=None,\n",
              "                                       min_impurity_decrease=0.0,\n",
              "                                       min_impurity_split=None,\n",
              "                                       min_samples_leaf=1, min_samples_split=2,\n",
              "                                       min_weight_fraction_leaf=0.0,\n",
              "                                       presort='deprecated', random_state=0,\n",
              "                                       splitter='best'))],\n",
              "         verbose=False)"
            ]
          },
          "metadata": {
            "tags": []
          },
          "execution_count": 47
        }
      ]
    },
    {
      "cell_type": "code",
      "metadata": {
        "id": "_kiMQWZVX0I8"
      },
      "source": [
        "y_test1 = dec_tree.predict(Xtest).round(1)"
      ],
      "execution_count": null,
      "outputs": []
    },
    {
      "cell_type": "code",
      "metadata": {
        "colab": {
          "base_uri": "https://localhost:8080/"
        },
        "id": "S_5vRanJpGJw",
        "collapsed": true,
        "outputId": "dc247fce-de74-4074-f95c-80d838c7dc70"
      },
      "source": [
        "ran_for.fit(Xtrain,ytrain)"
      ],
      "execution_count": null,
      "outputs": [
        {
          "output_type": "execute_result",
          "data": {
            "text/plain": [
              "Pipeline(memory=None,\n",
              "         steps=[('union',\n",
              "                 FeatureUnion(n_jobs=None,\n",
              "                              transformer_list=[('text1_features',\n",
              "                                                 Pipeline(memory=None,\n",
              "                                                          steps=[('selector',\n",
              "                                                                  FunctionTransformer(accept_sparse=False,\n",
              "                                                                                      check_inverse=True,\n",
              "                                                                                      func=<function <lambda> at 0x7f9be8faaa60>,\n",
              "                                                                                      inv_kw_args=None,\n",
              "                                                                                      inverse_func=None,\n",
              "                                                                                      kw_args=None,\n",
              "                                                                                      validate=False)),\n",
              "                                                                 ('vectorizer',\n",
              "                                                                  CountVectorizer(analyzer='word',\n",
              "                                                                                  bi...\n",
              "                 RandomForestRegressor(bootstrap=True, ccp_alpha=0.0,\n",
              "                                       criterion='mse', max_depth=None,\n",
              "                                       max_features='auto', max_leaf_nodes=None,\n",
              "                                       max_samples=None,\n",
              "                                       min_impurity_decrease=0.0,\n",
              "                                       min_impurity_split=None,\n",
              "                                       min_samples_leaf=1, min_samples_split=2,\n",
              "                                       min_weight_fraction_leaf=0.0,\n",
              "                                       n_estimators=10, n_jobs=None,\n",
              "                                       oob_score=False, random_state=None,\n",
              "                                       verbose=0, warm_start=False))],\n",
              "         verbose=False)"
            ]
          },
          "metadata": {
            "tags": []
          },
          "execution_count": 49
        }
      ]
    },
    {
      "cell_type": "code",
      "metadata": {
        "id": "kEM7sQciX5bu"
      },
      "source": [
        "y_test2 = ran_for.predict(Xtest).round(1)"
      ],
      "execution_count": null,
      "outputs": []
    },
    {
      "cell_type": "code",
      "metadata": {
        "colab": {
          "base_uri": "https://localhost:8080/"
        },
        "id": "WbYOMcPHp1o2",
        "collapsed": true,
        "outputId": "dfcdf452-9bf3-473e-a3f6-6186300e8b56"
      },
      "source": [
        "extra_tree.fit(Xtrain,ytrain)"
      ],
      "execution_count": null,
      "outputs": [
        {
          "output_type": "execute_result",
          "data": {
            "text/plain": [
              "Pipeline(memory=None,\n",
              "         steps=[('union',\n",
              "                 FeatureUnion(n_jobs=None,\n",
              "                              transformer_list=[('text1_features',\n",
              "                                                 Pipeline(memory=None,\n",
              "                                                          steps=[('selector',\n",
              "                                                                  FunctionTransformer(accept_sparse=False,\n",
              "                                                                                      check_inverse=True,\n",
              "                                                                                      func=<function <lambda> at 0x7f9be8faaa60>,\n",
              "                                                                                      inv_kw_args=None,\n",
              "                                                                                      inverse_func=None,\n",
              "                                                                                      kw_args=None,\n",
              "                                                                                      validate=False)),\n",
              "                                                                 ('vectorizer',\n",
              "                                                                  CountVectorizer(analyzer='word',\n",
              "                                                                                  bi...\n",
              "                 ExtraTreesRegressor(bootstrap=False, ccp_alpha=0.0,\n",
              "                                     criterion='mse', max_depth=None,\n",
              "                                     max_features='auto', max_leaf_nodes=None,\n",
              "                                     max_samples=None,\n",
              "                                     min_impurity_decrease=0.0,\n",
              "                                     min_impurity_split=None,\n",
              "                                     min_samples_leaf=1, min_samples_split=2,\n",
              "                                     min_weight_fraction_leaf=0.0,\n",
              "                                     n_estimators=100, n_jobs=None,\n",
              "                                     oob_score=False, random_state=0, verbose=0,\n",
              "                                     warm_start=False))],\n",
              "         verbose=False)"
            ]
          },
          "metadata": {
            "tags": []
          },
          "execution_count": 51
        }
      ]
    },
    {
      "cell_type": "code",
      "metadata": {
        "id": "fij2uLF_X9gV"
      },
      "source": [
        "y_test3 = extra_tree.predict(Xtest).round(1)"
      ],
      "execution_count": null,
      "outputs": []
    },
    {
      "cell_type": "code",
      "metadata": {
        "colab": {
          "base_uri": "https://localhost:8080/"
        },
        "id": "wpSUM87GreG1",
        "collapsed": true,
        "outputId": "7a009edd-fd5c-4091-9970-885cefa61b8e"
      },
      "source": [
        "grad_boost.fit(Xtrain,ytrain)"
      ],
      "execution_count": null,
      "outputs": [
        {
          "output_type": "execute_result",
          "data": {
            "text/plain": [
              "Pipeline(memory=None,\n",
              "         steps=[('union',\n",
              "                 FeatureUnion(n_jobs=None,\n",
              "                              transformer_list=[('text1_features',\n",
              "                                                 Pipeline(memory=None,\n",
              "                                                          steps=[('selector',\n",
              "                                                                  FunctionTransformer(accept_sparse=False,\n",
              "                                                                                      check_inverse=True,\n",
              "                                                                                      func=<function <lambda> at 0x7f9be8faaa60>,\n",
              "                                                                                      inv_kw_args=None,\n",
              "                                                                                      inverse_func=None,\n",
              "                                                                                      kw_args=None,\n",
              "                                                                                      validate=False)),\n",
              "                                                                 ('vectorizer',\n",
              "                                                                  CountVectorizer(analyzer='word',\n",
              "                                                                                  bi...\n",
              "                                           learning_rate=0.1, loss='ls',\n",
              "                                           max_depth=3, max_features=None,\n",
              "                                           max_leaf_nodes=None,\n",
              "                                           min_impurity_decrease=0.0,\n",
              "                                           min_impurity_split=None,\n",
              "                                           min_samples_leaf=1,\n",
              "                                           min_samples_split=2,\n",
              "                                           min_weight_fraction_leaf=0.0,\n",
              "                                           n_estimators=100,\n",
              "                                           n_iter_no_change=None,\n",
              "                                           presort='deprecated', random_state=0,\n",
              "                                           subsample=1.0, tol=0.0001,\n",
              "                                           validation_fraction=0.1, verbose=0,\n",
              "                                           warm_start=False))],\n",
              "         verbose=False)"
            ]
          },
          "metadata": {
            "tags": []
          },
          "execution_count": 53
        }
      ]
    },
    {
      "cell_type": "code",
      "metadata": {
        "id": "J4cQt4RpYArf"
      },
      "source": [
        "y_test4 = grad_boost.predict(Xtest).round(1)"
      ],
      "execution_count": null,
      "outputs": []
    },
    {
      "cell_type": "code",
      "metadata": {
        "id": "yDH8XQbDXLn7",
        "colab": {
          "base_uri": "https://localhost:8080/"
        },
        "collapsed": true,
        "outputId": "66d503ec-e7ee-4c19-ecbb-840f0c88f4d9"
      },
      "source": [
        "knn.fit(Xtrain,ytrain)"
      ],
      "execution_count": null,
      "outputs": [
        {
          "output_type": "execute_result",
          "data": {
            "text/plain": [
              "Pipeline(memory=None,\n",
              "         steps=[('union',\n",
              "                 FeatureUnion(n_jobs=None,\n",
              "                              transformer_list=[('text1_features',\n",
              "                                                 Pipeline(memory=None,\n",
              "                                                          steps=[('selector',\n",
              "                                                                  FunctionTransformer(accept_sparse=False,\n",
              "                                                                                      check_inverse=True,\n",
              "                                                                                      func=<function <lambda> at 0x7f9be8faaa60>,\n",
              "                                                                                      inv_kw_args=None,\n",
              "                                                                                      inverse_func=None,\n",
              "                                                                                      kw_args=None,\n",
              "                                                                                      validate=False)),\n",
              "                                                                 ('vectorizer',\n",
              "                                                                  CountVectorizer(analyzer='word',\n",
              "                                                                                  bi...\n",
              "                                                                                  ngram_range=(1,\n",
              "                                                                                               1),\n",
              "                                                                                  preprocessor=None,\n",
              "                                                                                  stop_words=None,\n",
              "                                                                                  strip_accents=None,\n",
              "                                                                                  token_pattern='(?u)\\\\b\\\\w\\\\w+\\\\b',\n",
              "                                                                                  tokenizer=None,\n",
              "                                                                                  vocabulary=None))],\n",
              "                                                          verbose=False))],\n",
              "                              transformer_weights=None, verbose=False)),\n",
              "                ('clf',\n",
              "                 KNeighborsRegressor(algorithm='auto', leaf_size=30,\n",
              "                                     metric='minkowski', metric_params=None,\n",
              "                                     n_jobs=None, n_neighbors=5, p=2,\n",
              "                                     weights='uniform'))],\n",
              "         verbose=False)"
            ]
          },
          "metadata": {
            "tags": []
          },
          "execution_count": 55
        }
      ]
    },
    {
      "cell_type": "code",
      "metadata": {
        "colab": {
          "base_uri": "https://localhost:8080/"
        },
        "id": "KdqkePVdp9VF",
        "collapsed": true,
        "outputId": "d6824afa-3796-44f2-b270-0ceb597b966b"
      },
      "source": [
        "y_test5 = knn.predict(Xtest).round(1)\n",
        "y_test5"
      ],
      "execution_count": null,
      "outputs": [
        {
          "output_type": "execute_result",
          "data": {
            "text/plain": [
              "array([4.9, 4.6, 4.8, 4.7, 4.8, 4.8, 5. , 4.3, 5. , 4.7, 4.6, 4.7, 4.7,\n",
              "       4.5, 4.8, 4.7, 4.5, 5. , 4.5, 4.4, 5. , 4.7, 4.8, 4.7, 5. , 4.8,\n",
              "       4.4, 4.7, 4.8, 4.7, 4.8, 4.9, 4.8, 5. , 4.8, 4.8, 4.8, 5. , 5. ,\n",
              "       4.8, 4.4, 4.7, 4.7, 5. , 4.8, 4.8, 4.9, 4.5, 5. , 4.7, 4.4, 4.8,\n",
              "       4.4, 4.8, 5. , 4.9, 4.9, 4.3, 5. , 4.9, 4.6, 4.6, 4.9, 4.5, 4.3,\n",
              "       4.9, 4.6, 4.7, 4.2, 4.6, 4.7, 4.8, 5. , 4.9, 4.8, 4.9, 5. , 4.7,\n",
              "       5. , 4.8, 4.6, 5. , 4.3, 4.9, 4.7, 4.8, 4.7, 4.8, 5. , 4.8, 4.8,\n",
              "       4.6, 4.5, 4.8, 4.7, 4.7, 4.4, 4.7, 4.9, 4.6, 5. , 4.9, 4.8, 4.7,\n",
              "       4.9, 4.8, 4.8, 4.6, 4.8, 5. , 4.4, 4.9, 5. , 4.8, 4.8, 4.6, 4.8,\n",
              "       4.8, 5. , 4.7, 4.4, 5. , 4.7, 4.5, 4.2, 4.9, 4.6, 5. , 4.8, 4.4,\n",
              "       4.5, 4.6, 5. , 4.6, 4.5, 5. , 4.5, 4.6, 4.8, 4.8, 4.6, 4.6, 4.9,\n",
              "       5. , 4.8, 4.6, 4.6, 4.7, 5. , 5. , 4.8, 5. , 4.4, 4.5, 4.9, 4.7,\n",
              "       5. , 4.8, 4.9, 4.5, 4.8, 4.7, 4.6, 5. , 5. , 4.4, 4.5, 4.9, 5. ,\n",
              "       4.7, 5. , 4.7, 4.4, 4.8, 5. , 4.8, 4.7, 4.6, 4.9, 5. , 4.6, 5. ,\n",
              "       5. , 4.8, 4.3, 4.9, 4.9, 4.5, 5. , 4.6, 4.8, 4.7, 4.9, 4.5, 4.7,\n",
              "       4.8, 4.8, 4.8, 4.9, 4.5, 4.8, 4.6, 4.6, 5. , 4.5, 4.8, 4.6, 5. ,\n",
              "       4.6, 4.8, 4.8, 4.9, 4.4, 4.7, 5. , 4.8, 4.4, 4.2, 4.5, 4.8, 4.8,\n",
              "       5. , 4.8, 4.6, 4.8, 5. , 4.7, 4.8, 4.5, 4.8, 4.7, 4.8, 4.6, 4.8,\n",
              "       4.5, 5. , 4.8, 5. , 4.6, 4.3, 4.6, 4.5, 4.6, 4.7, 4.6, 4.7, 4.6,\n",
              "       5. , 5. , 4.8, 5. , 4.6, 5. , 4.6, 4.6, 4.8, 4.3, 5. , 4.8, 4.6,\n",
              "       4.4, 4.8, 4.8, 4.8, 4.6, 4.8, 4.7, 4.5, 4.9, 4.5, 4.8, 4.7, 4.4,\n",
              "       4.8, 4.6, 4.6, 5. , 4.8, 5. , 4.5, 4.9, 4.8, 4.9, 4.7, 4.9, 4.5,\n",
              "       4.6, 4.9, 4.6, 5. , 4.7, 4.6, 4.8, 4.7, 4.6, 4.5, 4.7, 4.5, 4.6,\n",
              "       4.5, 5. , 4.5, 4.5, 4.7, 4.8, 4.5, 4.6, 4.6, 5. , 5. , 4.7, 4.5,\n",
              "       4.7, 5. , 4.8, 4.8, 5. , 4.8, 4.9, 4.9, 4.9, 4.8, 5. , 4.6, 4.5,\n",
              "       4.7, 4.8, 4.9, 4.9, 4.8, 4.9, 4.8, 4.4, 4.6, 5. , 5. , 4.8, 4.8,\n",
              "       4.8, 5. , 5. , 5. , 5. , 4.6, 4.8, 4.8, 5. , 4.9, 4.7, 5. , 4.9,\n",
              "       5. , 4.8, 4.8, 4.6, 4.5, 4.8, 4.5, 4.6, 4.6, 4.7, 4.3, 4.7, 4.6,\n",
              "       4.4, 4.4, 4.9, 5. , 4.3, 4.7, 4.6, 5. , 4.8, 4.5, 4.9, 4.9, 4.7,\n",
              "       4.8, 4.8, 4.7, 5. , 4.9, 4.7, 4.8, 5. , 4.5, 4.9, 4.4, 5. , 4.6,\n",
              "       4.7, 5. , 5. , 5. , 4.5, 5. , 4.7, 4.5, 5. , 4.4, 4.6, 4.5, 5. ,\n",
              "       4.8, 4.3, 4.6, 4.7, 4.8, 4.7, 4.7, 4.8, 4.4, 4.6])"
            ]
          },
          "metadata": {
            "tags": []
          },
          "execution_count": 56
        }
      ]
    },
    {
      "cell_type": "code",
      "metadata": {
        "colab": {
          "base_uri": "https://localhost:8080/"
        },
        "id": "kt7LwefxcRjk",
        "collapsed": true,
        "outputId": "eac63346-402f-4de6-a2e4-9c874db12c59"
      },
      "source": [
        "lin_reg.fit(Xtrain,ytrain)"
      ],
      "execution_count": null,
      "outputs": [
        {
          "output_type": "execute_result",
          "data": {
            "text/plain": [
              "Pipeline(memory=None,\n",
              "         steps=[('union',\n",
              "                 FeatureUnion(n_jobs=None,\n",
              "                              transformer_list=[('text1_features',\n",
              "                                                 Pipeline(memory=None,\n",
              "                                                          steps=[('selector',\n",
              "                                                                  FunctionTransformer(accept_sparse=False,\n",
              "                                                                                      check_inverse=True,\n",
              "                                                                                      func=<function <lambda> at 0x7f9be8faaa60>,\n",
              "                                                                                      inv_kw_args=None,\n",
              "                                                                                      inverse_func=None,\n",
              "                                                                                      kw_args=None,\n",
              "                                                                                      validate=False)),\n",
              "                                                                 ('vectorizer',\n",
              "                                                                  CountVectorizer(analyzer='word',\n",
              "                                                                                  bi...\n",
              "                                                                                  lowercase=True,\n",
              "                                                                                  max_df=1.0,\n",
              "                                                                                  max_features=None,\n",
              "                                                                                  min_df=1,\n",
              "                                                                                  ngram_range=(1,\n",
              "                                                                                               1),\n",
              "                                                                                  preprocessor=None,\n",
              "                                                                                  stop_words=None,\n",
              "                                                                                  strip_accents=None,\n",
              "                                                                                  token_pattern='(?u)\\\\b\\\\w\\\\w+\\\\b',\n",
              "                                                                                  tokenizer=None,\n",
              "                                                                                  vocabulary=None))],\n",
              "                                                          verbose=False))],\n",
              "                              transformer_weights=None, verbose=False)),\n",
              "                ('clf',\n",
              "                 LinearRegression(copy_X=True, fit_intercept=True, n_jobs=None,\n",
              "                                  normalize=False))],\n",
              "         verbose=False)"
            ]
          },
          "metadata": {
            "tags": []
          },
          "execution_count": 57
        }
      ]
    },
    {
      "cell_type": "code",
      "metadata": {
        "id": "w81y_wfLcbEw"
      },
      "source": [
        "y_test6 = lin_reg.predict(Xtest).round(1)"
      ],
      "execution_count": null,
      "outputs": []
    },
    {
      "cell_type": "code",
      "metadata": {
        "colab": {
          "base_uri": "https://localhost:8080/"
        },
        "id": "Pu3laPthehXr",
        "collapsed": true,
        "outputId": "bbbbc651-cc75-479c-b993-c682e7b04299"
      },
      "source": [
        "xgb_reg.fit(Xtrain,ytrain)"
      ],
      "execution_count": null,
      "outputs": [
        {
          "output_type": "stream",
          "text": [
            "[05:09:14] WARNING: /workspace/src/objective/regression_obj.cu:152: reg:linear is now deprecated in favor of reg:squarederror.\n"
          ],
          "name": "stdout"
        },
        {
          "output_type": "execute_result",
          "data": {
            "text/plain": [
              "Pipeline(memory=None,\n",
              "         steps=[('union',\n",
              "                 FeatureUnion(n_jobs=None,\n",
              "                              transformer_list=[('text1_features',\n",
              "                                                 Pipeline(memory=None,\n",
              "                                                          steps=[('selector',\n",
              "                                                                  FunctionTransformer(accept_sparse=False,\n",
              "                                                                                      check_inverse=True,\n",
              "                                                                                      func=<function <lambda> at 0x7f9be8faaa60>,\n",
              "                                                                                      inv_kw_args=None,\n",
              "                                                                                      inverse_func=None,\n",
              "                                                                                      kw_args=None,\n",
              "                                                                                      validate=False)),\n",
              "                                                                 ('vectorizer',\n",
              "                                                                  CountVectorizer(analyzer='word',\n",
              "                                                                                  bi...\n",
              "                              colsample_bylevel=1, colsample_bynode=1,\n",
              "                              colsample_bytree=1, gamma=0,\n",
              "                              importance_type='gain', learning_rate=0.1,\n",
              "                              max_delta_step=0, max_depth=3, min_child_weight=1,\n",
              "                              missing=None, n_estimators=100, n_jobs=1,\n",
              "                              nthread=None, objective='reg:linear',\n",
              "                              random_state=0, reg_alpha=0, reg_lambda=1,\n",
              "                              scale_pos_weight=1, seed=None, silent=None,\n",
              "                              subsample=1, verbosity=1))],\n",
              "         verbose=False)"
            ]
          },
          "metadata": {
            "tags": []
          },
          "execution_count": 59
        }
      ]
    },
    {
      "cell_type": "code",
      "metadata": {
        "id": "G6cZ11ZmfFXy"
      },
      "source": [
        "y_test7 = xgb_reg.predict(Xtest).round(1)"
      ],
      "execution_count": null,
      "outputs": []
    },
    {
      "cell_type": "code",
      "metadata": {
        "colab": {
          "base_uri": "https://localhost:8080/"
        },
        "id": "yiBsaPTtgovX",
        "collapsed": true,
        "outputId": "06d348a5-ada2-4d11-d3e1-98e5e877fb55"
      },
      "source": [
        "sgd_reg.fit(Xtrain,ytrain)"
      ],
      "execution_count": null,
      "outputs": [
        {
          "output_type": "execute_result",
          "data": {
            "text/plain": [
              "Pipeline(memory=None,\n",
              "         steps=[('union',\n",
              "                 FeatureUnion(n_jobs=None,\n",
              "                              transformer_list=[('text1_features',\n",
              "                                                 Pipeline(memory=None,\n",
              "                                                          steps=[('selector',\n",
              "                                                                  FunctionTransformer(accept_sparse=False,\n",
              "                                                                                      check_inverse=True,\n",
              "                                                                                      func=<function <lambda> at 0x7f9be8faaa60>,\n",
              "                                                                                      inv_kw_args=None,\n",
              "                                                                                      inverse_func=None,\n",
              "                                                                                      kw_args=None,\n",
              "                                                                                      validate=False)),\n",
              "                                                                 ('vectorizer',\n",
              "                                                                  CountVectorizer(analyzer='word',\n",
              "                                                                                  bi...\n",
              "                              transformer_weights=None, verbose=False)),\n",
              "                ('clf',\n",
              "                 SGDRegressor(alpha=0.0001, average=False, early_stopping=False,\n",
              "                              epsilon=0.1, eta0=0.01, fit_intercept=True,\n",
              "                              l1_ratio=0.15, learning_rate='invscaling',\n",
              "                              loss='squared_loss', max_iter=1000,\n",
              "                              n_iter_no_change=5, penalty='l2', power_t=0.25,\n",
              "                              random_state=None, shuffle=True, tol=0.001,\n",
              "                              validation_fraction=0.1, verbose=0,\n",
              "                              warm_start=False))],\n",
              "         verbose=False)"
            ]
          },
          "metadata": {
            "tags": []
          },
          "execution_count": 62
        }
      ]
    },
    {
      "cell_type": "code",
      "metadata": {
        "id": "7p4HoY04guTF"
      },
      "source": [
        "y_test8 = sgd_reg.predict(Xtest).round(1)"
      ],
      "execution_count": null,
      "outputs": []
    },
    {
      "cell_type": "code",
      "metadata": {
        "colab": {
          "base_uri": "https://localhost:8080/"
        },
        "id": "j7Mx56xngx_t",
        "collapsed": true,
        "outputId": "66607111-3ab1-47c9-adb5-3419dceadbf6"
      },
      "source": [
        "ridge_reg.fit(Xtrain,ytrain)"
      ],
      "execution_count": null,
      "outputs": [
        {
          "output_type": "execute_result",
          "data": {
            "text/plain": [
              "Pipeline(memory=None,\n",
              "         steps=[('union',\n",
              "                 FeatureUnion(n_jobs=None,\n",
              "                              transformer_list=[('text1_features',\n",
              "                                                 Pipeline(memory=None,\n",
              "                                                          steps=[('selector',\n",
              "                                                                  FunctionTransformer(accept_sparse=False,\n",
              "                                                                                      check_inverse=True,\n",
              "                                                                                      func=<function <lambda> at 0x7f9be8faaa60>,\n",
              "                                                                                      inv_kw_args=None,\n",
              "                                                                                      inverse_func=None,\n",
              "                                                                                      kw_args=None,\n",
              "                                                                                      validate=False)),\n",
              "                                                                 ('vectorizer',\n",
              "                                                                  CountVectorizer(analyzer='word',\n",
              "                                                                                  bi...\n",
              "                                                                                  lowercase=True,\n",
              "                                                                                  max_df=1.0,\n",
              "                                                                                  max_features=None,\n",
              "                                                                                  min_df=1,\n",
              "                                                                                  ngram_range=(1,\n",
              "                                                                                               1),\n",
              "                                                                                  preprocessor=None,\n",
              "                                                                                  stop_words=None,\n",
              "                                                                                  strip_accents=None,\n",
              "                                                                                  token_pattern='(?u)\\\\b\\\\w\\\\w+\\\\b',\n",
              "                                                                                  tokenizer=None,\n",
              "                                                                                  vocabulary=None))],\n",
              "                                                          verbose=False))],\n",
              "                              transformer_weights=None, verbose=False)),\n",
              "                ('clf',\n",
              "                 KernelRidge(alpha=1, coef0=1, degree=3, gamma=None,\n",
              "                             kernel='linear', kernel_params=None))],\n",
              "         verbose=False)"
            ]
          },
          "metadata": {
            "tags": []
          },
          "execution_count": 65
        }
      ]
    },
    {
      "cell_type": "code",
      "metadata": {
        "id": "MDFekFZzg5In"
      },
      "source": [
        "y_test9 = ridge_reg.predict(Xtest).round(1)"
      ],
      "execution_count": null,
      "outputs": []
    },
    {
      "cell_type": "code",
      "metadata": {
        "colab": {
          "base_uri": "https://localhost:8080/"
        },
        "id": "HuiGzKxVg8Jv",
        "collapsed": true,
        "outputId": "b7aa3d66-5399-481e-f762-c56d43b6f2e7"
      },
      "source": [
        "elastic_reg.fit(Xtrain,ytrain)"
      ],
      "execution_count": null,
      "outputs": [
        {
          "output_type": "execute_result",
          "data": {
            "text/plain": [
              "Pipeline(memory=None,\n",
              "         steps=[('union',\n",
              "                 FeatureUnion(n_jobs=None,\n",
              "                              transformer_list=[('text1_features',\n",
              "                                                 Pipeline(memory=None,\n",
              "                                                          steps=[('selector',\n",
              "                                                                  FunctionTransformer(accept_sparse=False,\n",
              "                                                                                      check_inverse=True,\n",
              "                                                                                      func=<function <lambda> at 0x7f9be8faaa60>,\n",
              "                                                                                      inv_kw_args=None,\n",
              "                                                                                      inverse_func=None,\n",
              "                                                                                      kw_args=None,\n",
              "                                                                                      validate=False)),\n",
              "                                                                 ('vectorizer',\n",
              "                                                                  CountVectorizer(analyzer='word',\n",
              "                                                                                  bi...\n",
              "                                                                                  strip_accents=None,\n",
              "                                                                                  token_pattern='(?u)\\\\b\\\\w\\\\w+\\\\b',\n",
              "                                                                                  tokenizer=None,\n",
              "                                                                                  vocabulary=None))],\n",
              "                                                          verbose=False))],\n",
              "                              transformer_weights=None, verbose=False)),\n",
              "                ('clf',\n",
              "                 ElasticNet(alpha=1.0, copy_X=True, fit_intercept=True,\n",
              "                            l1_ratio=0.5, max_iter=1000, normalize=False,\n",
              "                            positive=False, precompute=False, random_state=None,\n",
              "                            selection='cyclic', tol=0.0001,\n",
              "                            warm_start=False))],\n",
              "         verbose=False)"
            ]
          },
          "metadata": {
            "tags": []
          },
          "execution_count": 67
        }
      ]
    },
    {
      "cell_type": "code",
      "metadata": {
        "id": "YSs0Ed5LhC4T"
      },
      "source": [
        "y_test10 = elastic_reg.predict(Xtest).round(1)"
      ],
      "execution_count": null,
      "outputs": []
    },
    {
      "cell_type": "code",
      "metadata": {
        "colab": {
          "base_uri": "https://localhost:8080/"
        },
        "id": "JId8g4GRhOXU",
        "collapsed": true,
        "outputId": "d74e4e74-c140-40b4-c48f-e8e1f0200db5"
      },
      "source": [
        "svc_reg.fit(Xtrain,ytrain)"
      ],
      "execution_count": null,
      "outputs": [
        {
          "output_type": "execute_result",
          "data": {
            "text/plain": [
              "Pipeline(memory=None,\n",
              "         steps=[('union',\n",
              "                 FeatureUnion(n_jobs=None,\n",
              "                              transformer_list=[('text1_features',\n",
              "                                                 Pipeline(memory=None,\n",
              "                                                          steps=[('selector',\n",
              "                                                                  FunctionTransformer(accept_sparse=False,\n",
              "                                                                                      check_inverse=True,\n",
              "                                                                                      func=<function <lambda> at 0x7f9be8faaa60>,\n",
              "                                                                                      inv_kw_args=None,\n",
              "                                                                                      inverse_func=None,\n",
              "                                                                                      kw_args=None,\n",
              "                                                                                      validate=False)),\n",
              "                                                                 ('vectorizer',\n",
              "                                                                  CountVectorizer(analyzer='word',\n",
              "                                                                                  bi...\n",
              "                                                                                  ngram_range=(1,\n",
              "                                                                                               1),\n",
              "                                                                                  preprocessor=None,\n",
              "                                                                                  stop_words=None,\n",
              "                                                                                  strip_accents=None,\n",
              "                                                                                  token_pattern='(?u)\\\\b\\\\w\\\\w+\\\\b',\n",
              "                                                                                  tokenizer=None,\n",
              "                                                                                  vocabulary=None))],\n",
              "                                                          verbose=False))],\n",
              "                              transformer_weights=None, verbose=False)),\n",
              "                ('clf',\n",
              "                 SVR(C=1.0, cache_size=200, coef0=0.0, degree=3, epsilon=0.1,\n",
              "                     gamma='scale', kernel='rbf', max_iter=-1, shrinking=True,\n",
              "                     tol=0.001, verbose=False))],\n",
              "         verbose=False)"
            ]
          },
          "metadata": {
            "tags": []
          },
          "execution_count": 70
        }
      ]
    },
    {
      "cell_type": "code",
      "metadata": {
        "id": "-u4A2wX2hRwd"
      },
      "source": [
        "y_test11 = svc_reg.predict(Xtest).round(1)"
      ],
      "execution_count": null,
      "outputs": []
    },
    {
      "cell_type": "markdown",
      "metadata": {
        "id": "n4F8Hfyqma_X"
      },
      "source": [
        "***Step 5: Evaluation of model***"
      ]
    },
    {
      "cell_type": "code",
      "metadata": {
        "id": "FtKFvbg2m--b"
      },
      "source": [
        "from math import sqrt\n",
        "from sklearn.metrics import mean_squared_error\n",
        "rmse1 = np.sqrt(mean_squared_error(ytest, y_test1))\n",
        "rmse2 = np.sqrt(mean_squared_error(ytest, y_test2))\n",
        "rmse3 = np.sqrt(mean_squared_error(ytest, y_test3))\n",
        "rmse4 = np.sqrt(mean_squared_error(ytest, y_test4))\n",
        "rmse5 = np.sqrt(mean_squared_error(ytest, y_test5))\n",
        "rmse6 = np.sqrt(mean_squared_error(ytest, y_test6))\n",
        "rmse7 = np.sqrt(mean_squared_error(ytest, y_test7))\n",
        "rmse8 = np.sqrt(mean_squared_error(ytest, y_test8))\n",
        "rmse9 = np.sqrt(mean_squared_error(ytest, y_test9))\n",
        "rmse10 = np.sqrt(mean_squared_error(ytest, y_test10))\n",
        "rmse11 = np.sqrt(mean_squared_error(ytest, y_test11))"
      ],
      "execution_count": null,
      "outputs": []
    },
    {
      "cell_type": "code",
      "metadata": {
        "colab": {
          "base_uri": "https://localhost:8080/"
        },
        "id": "njWmq0hD6I4q",
        "collapsed": true,
        "outputId": "2ff57943-ddbf-40c8-a55a-680cea018f96"
      },
      "source": [
        "print('Decision_tree_regressor rmse:',rmse1)\n",
        "print('Random_forest_regressor rmse:',rmse2)\n",
        "print('Extra_trees_regressor rmse:',rmse3)\n",
        "print('Grad_boost_regressor rmse:',rmse4)\n",
        "print('knn_regressor rmse:',rmse5)\n",
        "print('linear_regressor rmse:',rmse6)\n",
        "print('xgb_regressor rmse:',rmse7)\n",
        "print('sgd_regressor rmse:',rmse8)\n",
        "print('ridge_regressor rmse:',rmse9)\n",
        "print('elastic_regressor rmse:',rmse10)\n",
        "print('svc_regressor rmse:',rmse11)"
      ],
      "execution_count": null,
      "outputs": [
        {
          "output_type": "stream",
          "text": [
            "Decision_tree_regressor rmse: 0.4080901006718294\n",
            "Random_forest_regressor rmse: 0.3137680085606656\n",
            "Extra_trees_regressor rmse: 0.2922733802684729\n",
            "Grad_boost_regressor rmse: 0.29979815647314667\n",
            "knn_regressor rmse: 0.37140528889591046\n",
            "linear_regressor rmse: 0.39300789535470915\n",
            "xgb_regressor rmse: 0.29671322784940685\n",
            "sgd_regressor rmse: 362029535057.49756\n",
            "ridge_regressor rmse: 0.5159677899739061\n",
            "elastic_regressor rmse: 0.35738490587084104\n",
            "svc_regressor rmse: 0.31938955090926846\n"
          ],
          "name": "stdout"
        }
      ]
    },
    {
      "cell_type": "markdown",
      "metadata": {
        "id": "wKdFZ4tc68IY"
      },
      "source": [
        "**Comparing the root mean square values of all the models, xgb regressor is chosen to predict for the given test data.**"
      ]
    },
    {
      "cell_type": "code",
      "metadata": {
        "id": "Sv8A9UwJ7RMY"
      },
      "source": [
        "new_test_data = pd.read_csv('https://raw.githubusercontent.com/dphi-official/Datasets/master/product_ratings/test_set_label.csv')"
      ],
      "execution_count": null,
      "outputs": []
    },
    {
      "cell_type": "code",
      "metadata": {
        "id": "AzGYQdLn7vQa"
      },
      "source": [
        "datanew = new_test_data.copy()\n",
        "datanew = datanew.drop(columns = ['customer_questions_and_answers'])\n",
        "datanew = datanew.drop(columns = ['description'])"
      ],
      "execution_count": null,
      "outputs": []
    },
    {
      "cell_type": "code",
      "metadata": {
        "id": "TvSckAzf7xRd"
      },
      "source": [
        "datanew[\"product_name\"]= datanew[\"product_name\"].apply(clean_text)"
      ],
      "execution_count": null,
      "outputs": []
    },
    {
      "cell_type": "code",
      "metadata": {
        "id": "-KmUmBKM7526"
      },
      "source": [
        "datanew = datanew.replace(np.nan, '', regex=True)"
      ],
      "execution_count": null,
      "outputs": []
    },
    {
      "cell_type": "code",
      "metadata": {
        "id": "nXlDZnAK7-Pd"
      },
      "source": [
        "datanew[\"manufacturer\"]= datanew[\"manufacturer\"].apply(clean_text)\n",
        "datanew[\"amazon_category_and_sub_category\"]= datanew[\"amazon_category_and_sub_category\"].apply(clean_text)\n",
        "datanew[\"customers_who_bought_this_item_also_bought\"]= datanew[\"customers_who_bought_this_item_also_bought\"].apply(clean_text)\n",
        "datanew[\"product_description\"]= datanew[\"product_description\"].apply(clean_text)\n",
        "datanew[\"product_information\"]= datanew[\"product_information\"].apply(clean_text)\n",
        "datanew[\"sellers\"] = datanew[\"sellers\"].apply(clean_text)\n",
        "datanew[\"customer_reviews\"] = datanew[\"customer_reviews\"].apply(clean_text)"
      ],
      "execution_count": null,
      "outputs": []
    },
    {
      "cell_type": "code",
      "metadata": {
        "id": "2sTsMXXz8bB8"
      },
      "source": [
        "datanew['Review'] = (datanew[\"product_name\"].map(str)+' '+datanew['manufacturer'].map(str) +' '+datanew['amazon_category_and_sub_category'].map(str)+' '+datanew['product_information'].map(str)+' '+datanew['product_description'].map(str)+' '+datanew['customer_reviews'].map(str)+' '+datanew['sellers']).apply(lambda row: row.strip())"
      ],
      "execution_count": null,
      "outputs": []
    },
    {
      "cell_type": "code",
      "metadata": {
        "id": "1spdQfce8dlw"
      },
      "source": [
        "datanew.Review = datanew.Review.apply(lambda x: \" \".join(w.lemmatize(word,'v') for word in x.split()))"
      ],
      "execution_count": null,
      "outputs": []
    },
    {
      "cell_type": "code",
      "metadata": {
        "id": "hHs_Jv6h8het"
      },
      "source": [
        "data2 = datanew[['Review']]"
      ],
      "execution_count": null,
      "outputs": []
    },
    {
      "cell_type": "code",
      "metadata": {
        "id": "iJPtxszq86SH"
      },
      "source": [
        "target = xgb_reg.predict(data2).round(1)"
      ],
      "execution_count": null,
      "outputs": []
    },
    {
      "cell_type": "code",
      "metadata": {
        "colab": {
          "base_uri": "https://localhost:8080/"
        },
        "id": "fTF3Nrx19FUc",
        "outputId": "6739ac2d-1ae5-4e22-91bc-2683a4b42b78"
      },
      "source": [
        "target"
      ],
      "execution_count": null,
      "outputs": [
        {
          "output_type": "execute_result",
          "data": {
            "text/plain": [
              "array([4.9, 4.6, 4.8, ..., 4.9, 4.9, 4.8])"
            ]
          },
          "metadata": {
            "tags": []
          },
          "execution_count": 94
        }
      ]
    },
    {
      "cell_type": "code",
      "metadata": {
        "id": "TE2v1cp19M1b"
      },
      "source": [
        "res = pd.DataFrame(target) #the final predictions of model on input features of new unseen test data\n",
        "res.index = new_test_data.index # its important for comparison. Here \"new_test_data\" is the new test dataset\n",
        "res.columns = [\"prediction\"]\n",
        "res.to_csv(\"prediction_results.csv\", index = False) \n"
      ],
      "execution_count": null,
      "outputs": []
    }
  ]
}