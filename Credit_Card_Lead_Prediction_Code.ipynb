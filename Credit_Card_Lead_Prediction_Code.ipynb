{
  "nbformat": 4,
  "nbformat_minor": 0,
  "metadata": {
    "colab": {
      "name": "3_Credit Card Lead Prediction.ipynb",
      "provenance": []
    },
    "kernelspec": {
      "name": "python3",
      "display_name": "Python 3"
    },
    "language_info": {
      "name": "python"
    }
  },
  "cells": [
    {
      "cell_type": "markdown",
      "metadata": {
        "id": "MMkC2FWLeeH7"
      },
      "source": [
        "**Credit Card Lead Prediction**\n",
        "\n",
        "**Problem Statement** : \n",
        "\n",
        "Happy Customer Bank is a mid-sized private bank that deals in all kinds of banking products, like Savings accounts, Current accounts, investment products, credit products, among other offerings.\n",
        "The bank also cross-sells products to its existing customers and to do so they use different kinds of communication like tele-calling, e-mails, recommendations on net banking, mobile banking, etc. \n",
        "In this case, the Happy Customer Bank wants to cross sell its credit cards to its existing customers. The bank has identified a set of customers that are eligible for taking these credit cards.\n",
        "Now, the bank is looking for your help in identifying customers that could show higher intent towards a recommended credit card, given:\n",
        "Customer details (gender, age, region etc.)\n",
        "Details of his/her relationship with the bank (Channel_Code,Vintage, 'Avg_Asset_Value etc.)\n",
        "\n",
        "\n",
        "\n",
        "\n",
        "\n",
        "\n",
        "\n",
        "**Step 1 : Import necessary libraries**"
      ]
    },
    {
      "cell_type": "code",
      "metadata": {
        "id": "BAvcbteFeqQz"
      },
      "source": [
        "import pandas as pd\n",
        "import numpy as np\n",
        "from sklearn.preprocessing import LabelEncoder\n",
        "import matplotlib.pyplot as plt\n",
        "%matplotlib inline\n",
        "import seaborn as sns\n",
        "from sklearn.model_selection import train_test_split\n",
        "from xgboost import XGBClassifier\n",
        "from lightgbm import LGBMClassifier\n",
        "from sklearn.model_selection import RandomizedSearchCV, GridSearchCV\n",
        "from sklearn.model_selection import StratifiedKFold\n",
        "from sklearn.metrics import roc_auc_score\n",
        "from hyperopt import hp, fmin, tpe,Trials,STATUS_OK\n",
        "from sklearn.tree import DecisionTreeClassifier\n",
        "from sklearn.ensemble import RandomForestClassifier\n",
        "from sklearn.ensemble import ExtraTreesClassifier"
      ],
      "execution_count": 74,
      "outputs": []
    },
    {
      "cell_type": "code",
      "metadata": {
        "colab": {
          "base_uri": "https://localhost:8080/"
        },
        "collapsed": true,
        "id": "b76lHy1EYGV1",
        "outputId": "7da94be0-e884-4848-8260-444c4a46bbd4"
      },
      "source": [
        "!pip install catboost\n",
        "from catboost import CatBoostClassifier"
      ],
      "execution_count": 75,
      "outputs": [
        {
          "output_type": "stream",
          "text": [
            "Requirement already satisfied: catboost in /usr/local/lib/python3.7/dist-packages (0.25.1)\n",
            "Requirement already satisfied: plotly in /usr/local/lib/python3.7/dist-packages (from catboost) (4.4.1)\n",
            "Requirement already satisfied: numpy>=1.16.0 in /usr/local/lib/python3.7/dist-packages (from catboost) (1.19.5)\n",
            "Requirement already satisfied: six in /usr/local/lib/python3.7/dist-packages (from catboost) (1.15.0)\n",
            "Requirement already satisfied: pandas>=0.24.0 in /usr/local/lib/python3.7/dist-packages (from catboost) (1.1.5)\n",
            "Requirement already satisfied: graphviz in /usr/local/lib/python3.7/dist-packages (from catboost) (0.10.1)\n",
            "Requirement already satisfied: matplotlib in /usr/local/lib/python3.7/dist-packages (from catboost) (3.2.2)\n",
            "Requirement already satisfied: scipy in /usr/local/lib/python3.7/dist-packages (from catboost) (1.4.1)\n",
            "Requirement already satisfied: retrying>=1.3.3 in /usr/local/lib/python3.7/dist-packages (from plotly->catboost) (1.3.3)\n",
            "Requirement already satisfied: python-dateutil>=2.7.3 in /usr/local/lib/python3.7/dist-packages (from pandas>=0.24.0->catboost) (2.8.1)\n",
            "Requirement already satisfied: pytz>=2017.2 in /usr/local/lib/python3.7/dist-packages (from pandas>=0.24.0->catboost) (2018.9)\n",
            "Requirement already satisfied: kiwisolver>=1.0.1 in /usr/local/lib/python3.7/dist-packages (from matplotlib->catboost) (1.3.1)\n",
            "Requirement already satisfied: pyparsing!=2.0.4,!=2.1.2,!=2.1.6,>=2.0.1 in /usr/local/lib/python3.7/dist-packages (from matplotlib->catboost) (2.4.7)\n",
            "Requirement already satisfied: cycler>=0.10 in /usr/local/lib/python3.7/dist-packages (from matplotlib->catboost) (0.10.0)\n"
          ],
          "name": "stdout"
        }
      ]
    },
    {
      "cell_type": "markdown",
      "metadata": {
        "id": "iksV7Wc5fN6f"
      },
      "source": [
        "**Step 2 : Data Inspection**"
      ]
    },
    {
      "cell_type": "code",
      "metadata": {
        "colab": {
          "base_uri": "https://localhost:8080/"
        },
        "id": "1FD_7jFsfRf2",
        "outputId": "2f78f119-5ae3-4c3c-c88e-20927115c18b"
      },
      "source": [
        "train = pd.read_csv(\"train_s3TEQDk.csv\")\n",
        "test = pd.read_csv(\"test_mSzZ8RL.csv\")\n",
        "train.shape,test.shape  # Number of rows and columns for train and test dataset"
      ],
      "execution_count": 144,
      "outputs": [
        {
          "output_type": "execute_result",
          "data": {
            "text/plain": [
              "((245725, 11), (105312, 10))"
            ]
          },
          "metadata": {
            "tags": []
          },
          "execution_count": 144
        }
      ]
    },
    {
      "cell_type": "code",
      "metadata": {
        "colab": {
          "base_uri": "https://localhost:8080/",
          "height": 224
        },
        "id": "7HrpGAxmfkot",
        "collapsed": true,
        "outputId": "0dbd216e-7351-4096-9586-71a0e16f304d"
      },
      "source": [
        "train.head() # Display the first five rows of train data"
      ],
      "execution_count": null,
      "outputs": [
        {
          "output_type": "execute_result",
          "data": {
            "text/html": [
              "<div>\n",
              "<style scoped>\n",
              "    .dataframe tbody tr th:only-of-type {\n",
              "        vertical-align: middle;\n",
              "    }\n",
              "\n",
              "    .dataframe tbody tr th {\n",
              "        vertical-align: top;\n",
              "    }\n",
              "\n",
              "    .dataframe thead th {\n",
              "        text-align: right;\n",
              "    }\n",
              "</style>\n",
              "<table border=\"1\" class=\"dataframe\">\n",
              "  <thead>\n",
              "    <tr style=\"text-align: right;\">\n",
              "      <th></th>\n",
              "      <th>ID</th>\n",
              "      <th>Gender</th>\n",
              "      <th>Age</th>\n",
              "      <th>Region_Code</th>\n",
              "      <th>Occupation</th>\n",
              "      <th>Channel_Code</th>\n",
              "      <th>Vintage</th>\n",
              "      <th>Credit_Product</th>\n",
              "      <th>Avg_Account_Balance</th>\n",
              "      <th>Is_Active</th>\n",
              "      <th>Is_Lead</th>\n",
              "    </tr>\n",
              "  </thead>\n",
              "  <tbody>\n",
              "    <tr>\n",
              "      <th>0</th>\n",
              "      <td>NNVBBKZB</td>\n",
              "      <td>Female</td>\n",
              "      <td>73</td>\n",
              "      <td>RG268</td>\n",
              "      <td>Other</td>\n",
              "      <td>X3</td>\n",
              "      <td>43</td>\n",
              "      <td>No</td>\n",
              "      <td>1045696</td>\n",
              "      <td>No</td>\n",
              "      <td>0</td>\n",
              "    </tr>\n",
              "    <tr>\n",
              "      <th>1</th>\n",
              "      <td>IDD62UNG</td>\n",
              "      <td>Female</td>\n",
              "      <td>30</td>\n",
              "      <td>RG277</td>\n",
              "      <td>Salaried</td>\n",
              "      <td>X1</td>\n",
              "      <td>32</td>\n",
              "      <td>No</td>\n",
              "      <td>581988</td>\n",
              "      <td>No</td>\n",
              "      <td>0</td>\n",
              "    </tr>\n",
              "    <tr>\n",
              "      <th>2</th>\n",
              "      <td>HD3DSEMC</td>\n",
              "      <td>Female</td>\n",
              "      <td>56</td>\n",
              "      <td>RG268</td>\n",
              "      <td>Self_Employed</td>\n",
              "      <td>X3</td>\n",
              "      <td>26</td>\n",
              "      <td>No</td>\n",
              "      <td>1484315</td>\n",
              "      <td>Yes</td>\n",
              "      <td>0</td>\n",
              "    </tr>\n",
              "    <tr>\n",
              "      <th>3</th>\n",
              "      <td>BF3NC7KV</td>\n",
              "      <td>Male</td>\n",
              "      <td>34</td>\n",
              "      <td>RG270</td>\n",
              "      <td>Salaried</td>\n",
              "      <td>X1</td>\n",
              "      <td>19</td>\n",
              "      <td>No</td>\n",
              "      <td>470454</td>\n",
              "      <td>No</td>\n",
              "      <td>0</td>\n",
              "    </tr>\n",
              "    <tr>\n",
              "      <th>4</th>\n",
              "      <td>TEASRWXV</td>\n",
              "      <td>Female</td>\n",
              "      <td>30</td>\n",
              "      <td>RG282</td>\n",
              "      <td>Salaried</td>\n",
              "      <td>X1</td>\n",
              "      <td>33</td>\n",
              "      <td>No</td>\n",
              "      <td>886787</td>\n",
              "      <td>No</td>\n",
              "      <td>0</td>\n",
              "    </tr>\n",
              "  </tbody>\n",
              "</table>\n",
              "</div>"
            ],
            "text/plain": [
              "         ID  Gender  Age  ... Avg_Account_Balance Is_Active Is_Lead\n",
              "0  NNVBBKZB  Female   73  ...             1045696        No       0\n",
              "1  IDD62UNG  Female   30  ...              581988        No       0\n",
              "2  HD3DSEMC  Female   56  ...             1484315       Yes       0\n",
              "3  BF3NC7KV    Male   34  ...              470454        No       0\n",
              "4  TEASRWXV  Female   30  ...              886787        No       0\n",
              "\n",
              "[5 rows x 11 columns]"
            ]
          },
          "metadata": {
            "tags": []
          },
          "execution_count": 5
        }
      ]
    },
    {
      "cell_type": "markdown",
      "metadata": {
        "id": "xFFjZ6qECaNp"
      },
      "source": [
        "**Step 3 : Check for missing values**"
      ]
    },
    {
      "cell_type": "code",
      "metadata": {
        "colab": {
          "base_uri": "https://localhost:8080/"
        },
        "id": "gAcx2Dhg445F",
        "outputId": "39fc9463-e4e3-4edb-c28b-43729c576a9b"
      },
      "source": [
        "train.isnull().sum() # Check for missing values"
      ],
      "execution_count": 5,
      "outputs": [
        {
          "output_type": "execute_result",
          "data": {
            "text/plain": [
              "ID                         0\n",
              "Gender                     0\n",
              "Age                        0\n",
              "Region_Code                0\n",
              "Occupation                 0\n",
              "Channel_Code               0\n",
              "Vintage                    0\n",
              "Credit_Product         29325\n",
              "Avg_Account_Balance        0\n",
              "Is_Active                  0\n",
              "Is_Lead                    0\n",
              "dtype: int64"
            ]
          },
          "metadata": {
            "tags": []
          },
          "execution_count": 5
        }
      ]
    },
    {
      "cell_type": "code",
      "metadata": {
        "id": "zSt0FQ7E4ob1"
      },
      "source": [
        "dataset = [train,test] # Credit_Product column has null values in both train and test dataset. Impute the missing values with 'Yes'\n",
        "for data in dataset:\n",
        "  data['Credit_Product']= data['Credit_Product'].replace(np.nan,'Yes')\n",
        " "
      ],
      "execution_count": 145,
      "outputs": []
    },
    {
      "cell_type": "code",
      "metadata": {
        "colab": {
          "base_uri": "https://localhost:8080/"
        },
        "id": "ipEkYmba4up6",
        "collapsed": true,
        "outputId": "60bf4b04-9f6d-4d98-c41d-7f03c3b9d361"
      },
      "source": [
        "train.isnull().sum() # Check again if missing values are removed."
      ],
      "execution_count": 79,
      "outputs": [
        {
          "output_type": "execute_result",
          "data": {
            "text/plain": [
              "ID                     0\n",
              "Gender                 0\n",
              "Age                    0\n",
              "Region_Code            0\n",
              "Occupation             0\n",
              "Channel_Code           0\n",
              "Vintage                0\n",
              "Credit_Product         0\n",
              "Avg_Account_Balance    0\n",
              "Is_Active              0\n",
              "Is_Lead                0\n",
              "dtype: int64"
            ]
          },
          "metadata": {
            "tags": []
          },
          "execution_count": 79
        }
      ]
    },
    {
      "cell_type": "markdown",
      "metadata": {
        "id": "2uRmiwk4DJ1i"
      },
      "source": [
        "**Step 4: Convert categorical data to numerical values**"
      ]
    },
    {
      "cell_type": "code",
      "metadata": {
        "id": "ZxVIz2_P5dlV"
      },
      "source": [
        "columns = ['Gender','Region_Code','Occupation','Channel_Code','Credit_Product','Is_Active']\n",
        "le = LabelEncoder() # Use label encoding technique\n",
        "dataset =[train,test]# convert categorical to numerical values\n",
        "for data in dataset:\n",
        "    for c in columns:\n",
        "        data[c] = le.fit_transform(data[c]) "
      ],
      "execution_count": 152,
      "outputs": []
    },
    {
      "cell_type": "markdown",
      "metadata": {
        "id": "zLd3HlQBDe7p"
      },
      "source": [
        " **Step 5: Data visualization**"
      ]
    },
    {
      "cell_type": "code",
      "metadata": {
        "colab": {
          "base_uri": "https://localhost:8080/",
          "height": 350
        },
        "collapsed": true,
        "id": "K1T7T_Z5Dq2T",
        "outputId": "50c92795-3012-4547-b26f-c9255d510a56"
      },
      "source": [
        "sns.countplot(train['Gender'],hue = train['Is_Lead']) "
      ],
      "execution_count": 135,
      "outputs": [
        {
          "output_type": "stream",
          "text": [
            "/usr/local/lib/python3.7/dist-packages/seaborn/_decorators.py:43: FutureWarning: Pass the following variable as a keyword arg: x. From version 0.12, the only valid positional argument will be `data`, and passing other arguments without an explicit keyword will result in an error or misinterpretation.\n",
            "  FutureWarning\n"
          ],
          "name": "stderr"
        },
        {
          "output_type": "execute_result",
          "data": {
            "text/plain": [
              "<matplotlib.axes._subplots.AxesSubplot at 0x7f6855513210>"
            ]
          },
          "metadata": {
            "tags": []
          },
          "execution_count": 135
        },
        {
          "output_type": "display_data",
          "data": {
            "image/png": "[encoded data removed]",
            "text/plain": [
              "<Figure size 432x288 with 1 Axes>"
            ]
          },
          "metadata": {
            "tags": [],
            "needs_background": "light"
          }
        }
      ]
    },
    {
      "cell_type": "code",
      "metadata": {
        "colab": {
          "base_uri": "https://localhost:8080/",
          "height": 350
        },
        "collapsed": true,
        "id": "VEgEGV8sDy6-",
        "outputId": "3f9fcb33-10ee-4ebc-a7e8-857eb64e1085"
      },
      "source": [
        "sns.distplot(train['Age'])"
      ],
      "execution_count": 136,
      "outputs": [
        {
          "output_type": "stream",
          "text": [
            "/usr/local/lib/python3.7/dist-packages/seaborn/distributions.py:2557: FutureWarning: `distplot` is a deprecated function and will be removed in a future version. Please adapt your code to use either `displot` (a figure-level function with similar flexibility) or `histplot` (an axes-level function for histograms).\n",
            "  warnings.warn(msg, FutureWarning)\n"
          ],
          "name": "stderr"
        },
        {
          "output_type": "execute_result",
          "data": {
            "text/plain": [
              "<matplotlib.axes._subplots.AxesSubplot at 0x7f6864084690>"
            ]
          },
          "metadata": {
            "tags": []
          },
          "execution_count": 136
        },
        {
          "output_type": "display_data",
          "data": {
            "image/png": "[encoded data removed]",
            "text/plain": [
              "<Figure size 432x288 with 1 Axes>"
            ]
          },
          "metadata": {
            "tags": [],
            "needs_background": "light"
          }
        }
      ]
    },
    {
      "cell_type": "code",
      "metadata": {
        "colab": {
          "base_uri": "https://localhost:8080/",
          "height": 350
        },
        "collapsed": true,
        "id": "fC5xRCRYD309",
        "outputId": "4806579e-35e0-4e14-e334-eaf093a455b3"
      },
      "source": [
        "sns.distplot(train['Vintage'])"
      ],
      "execution_count": 137,
      "outputs": [
        {
          "output_type": "stream",
          "text": [
            "/usr/local/lib/python3.7/dist-packages/seaborn/distributions.py:2557: FutureWarning: `distplot` is a deprecated function and will be removed in a future version. Please adapt your code to use either `displot` (a figure-level function with similar flexibility) or `histplot` (an axes-level function for histograms).\n",
            "  warnings.warn(msg, FutureWarning)\n"
          ],
          "name": "stderr"
        },
        {
          "output_type": "execute_result",
          "data": {
            "text/plain": [
              "<matplotlib.axes._subplots.AxesSubplot at 0x7f6867650c10>"
            ]
          },
          "metadata": {
            "tags": []
          },
          "execution_count": 137
        },
        {
          "output_type": "display_data",
          "data": {
            "image/png": "[encoded data removed]",
            "text/plain": [
              "<Figure size 432x288 with 1 Axes>"
            ]
          },
          "metadata": {
            "tags": [],
            "needs_background": "light"
          }
        }
      ]
    },
    {
      "cell_type": "code",
      "metadata": {
        "colab": {
          "base_uri": "https://localhost:8080/",
          "height": 362
        },
        "collapsed": true,
        "id": "fjHbtzcODsd5",
        "outputId": "25619b3d-4871-4d2f-c472-d1c1b1b6fbc9"
      },
      "source": [
        "sns.distplot(train['Avg_Account_Balance'])"
      ],
      "execution_count": 138,
      "outputs": [
        {
          "output_type": "stream",
          "text": [
            "/usr/local/lib/python3.7/dist-packages/seaborn/distributions.py:2557: FutureWarning: `distplot` is a deprecated function and will be removed in a future version. Please adapt your code to use either `displot` (a figure-level function with similar flexibility) or `histplot` (an axes-level function for histograms).\n",
            "  warnings.warn(msg, FutureWarning)\n"
          ],
          "name": "stderr"
        },
        {
          "output_type": "execute_result",
          "data": {
            "text/plain": [
              "<matplotlib.axes._subplots.AxesSubplot at 0x7f6867f7c6d0>"
            ]
          },
          "metadata": {
            "tags": []
          },
          "execution_count": 138
        },
        {
          "output_type": "display_data",
          "data": {
            "image/png": "[encoded data removed]",
            "text/plain": [
              "<Figure size 432x288 with 1 Axes>"
            ]
          },
          "metadata": {
            "tags": [],
            "needs_background": "light"
          }
        }
      ]
    },
    {
      "cell_type": "code",
      "metadata": {
        "id": "HiuFOdLC5vHT"
      },
      "source": [
        "dataset =[ train,test] # Avg_Account_Balance distribution is skewed towards left.\n",
        "for data in dataset: # Apply logarithmic transformation\n",
        "    data['Avg_Account_Balance'] = np.log(data['Avg_Account_Balance']) "
      ],
      "execution_count": 148,
      "outputs": []
    },
    {
      "cell_type": "code",
      "metadata": {
        "colab": {
          "base_uri": "https://localhost:8080/",
          "height": 224
        },
        "id": "LZrHWzcHYKFj",
        "cellView": "form",
        "collapsed": true,
        "outputId": "1b9ab04f-496f-462a-8e63-0977036a0260"
      },
      "source": [
        "#@title\n",
        "train.head()"
      ],
      "execution_count": 139,
      "outputs": [
        {
          "output_type": "execute_result",
          "data": {
            "text/html": [
              "<div>\n",
              "<style scoped>\n",
              "    .dataframe tbody tr th:only-of-type {\n",
              "        vertical-align: middle;\n",
              "    }\n",
              "\n",
              "    .dataframe tbody tr th {\n",
              "        vertical-align: top;\n",
              "    }\n",
              "\n",
              "    .dataframe thead th {\n",
              "        text-align: right;\n",
              "    }\n",
              "</style>\n",
              "<table border=\"1\" class=\"dataframe\">\n",
              "  <thead>\n",
              "    <tr style=\"text-align: right;\">\n",
              "      <th></th>\n",
              "      <th>ID</th>\n",
              "      <th>Gender</th>\n",
              "      <th>Age</th>\n",
              "      <th>Region_Code</th>\n",
              "      <th>Occupation</th>\n",
              "      <th>Channel_Code</th>\n",
              "      <th>Vintage</th>\n",
              "      <th>Credit_Product</th>\n",
              "      <th>Avg_Account_Balance</th>\n",
              "      <th>Is_Active</th>\n",
              "      <th>Is_Lead</th>\n",
              "    </tr>\n",
              "  </thead>\n",
              "  <tbody>\n",
              "    <tr>\n",
              "      <th>0</th>\n",
              "      <td>NNVBBKZB</td>\n",
              "      <td>0</td>\n",
              "      <td>73</td>\n",
              "      <td>18</td>\n",
              "      <td>1</td>\n",
              "      <td>2</td>\n",
              "      <td>43</td>\n",
              "      <td>0</td>\n",
              "      <td>1045696</td>\n",
              "      <td>0</td>\n",
              "      <td>0</td>\n",
              "    </tr>\n",
              "    <tr>\n",
              "      <th>1</th>\n",
              "      <td>IDD62UNG</td>\n",
              "      <td>0</td>\n",
              "      <td>30</td>\n",
              "      <td>27</td>\n",
              "      <td>2</td>\n",
              "      <td>0</td>\n",
              "      <td>32</td>\n",
              "      <td>0</td>\n",
              "      <td>581988</td>\n",
              "      <td>0</td>\n",
              "      <td>0</td>\n",
              "    </tr>\n",
              "    <tr>\n",
              "      <th>2</th>\n",
              "      <td>HD3DSEMC</td>\n",
              "      <td>0</td>\n",
              "      <td>56</td>\n",
              "      <td>18</td>\n",
              "      <td>3</td>\n",
              "      <td>2</td>\n",
              "      <td>26</td>\n",
              "      <td>0</td>\n",
              "      <td>1484315</td>\n",
              "      <td>1</td>\n",
              "      <td>0</td>\n",
              "    </tr>\n",
              "    <tr>\n",
              "      <th>3</th>\n",
              "      <td>BF3NC7KV</td>\n",
              "      <td>1</td>\n",
              "      <td>34</td>\n",
              "      <td>20</td>\n",
              "      <td>2</td>\n",
              "      <td>0</td>\n",
              "      <td>19</td>\n",
              "      <td>0</td>\n",
              "      <td>470454</td>\n",
              "      <td>0</td>\n",
              "      <td>0</td>\n",
              "    </tr>\n",
              "    <tr>\n",
              "      <th>4</th>\n",
              "      <td>TEASRWXV</td>\n",
              "      <td>0</td>\n",
              "      <td>30</td>\n",
              "      <td>32</td>\n",
              "      <td>2</td>\n",
              "      <td>0</td>\n",
              "      <td>33</td>\n",
              "      <td>0</td>\n",
              "      <td>886787</td>\n",
              "      <td>0</td>\n",
              "      <td>0</td>\n",
              "    </tr>\n",
              "  </tbody>\n",
              "</table>\n",
              "</div>"
            ],
            "text/plain": [
              "         ID  Gender  Age  ...  Avg_Account_Balance  Is_Active  Is_Lead\n",
              "0  NNVBBKZB       0   73  ...              1045696          0        0\n",
              "1  IDD62UNG       0   30  ...               581988          0        0\n",
              "2  HD3DSEMC       0   56  ...              1484315          1        0\n",
              "3  BF3NC7KV       1   34  ...               470454          0        0\n",
              "4  TEASRWXV       0   30  ...               886787          0        0\n",
              "\n",
              "[5 rows x 11 columns]"
            ]
          },
          "metadata": {
            "tags": []
          },
          "execution_count": 139
        }
      ]
    },
    {
      "cell_type": "code",
      "metadata": {
        "colab": {
          "base_uri": "https://localhost:8080/",
          "height": 317
        },
        "id": "Da5mFsIsYWY6",
        "collapsed": true,
        "outputId": "01b4d430-f148-4a2f-d7ea-1fa22e89e150"
      },
      "source": [
        "train.describe()"
      ],
      "execution_count": 140,
      "outputs": [
        {
          "output_type": "execute_result",
          "data": {
            "text/html": [
              "<div>\n",
              "<style scoped>\n",
              "    .dataframe tbody tr th:only-of-type {\n",
              "        vertical-align: middle;\n",
              "    }\n",
              "\n",
              "    .dataframe tbody tr th {\n",
              "        vertical-align: top;\n",
              "    }\n",
              "\n",
              "    .dataframe thead th {\n",
              "        text-align: right;\n",
              "    }\n",
              "</style>\n",
              "<table border=\"1\" class=\"dataframe\">\n",
              "  <thead>\n",
              "    <tr style=\"text-align: right;\">\n",
              "      <th></th>\n",
              "      <th>Gender</th>\n",
              "      <th>Age</th>\n",
              "      <th>Region_Code</th>\n",
              "      <th>Occupation</th>\n",
              "      <th>Channel_Code</th>\n",
              "      <th>Vintage</th>\n",
              "      <th>Credit_Product</th>\n",
              "      <th>Avg_Account_Balance</th>\n",
              "      <th>Is_Active</th>\n",
              "      <th>Is_Lead</th>\n",
              "    </tr>\n",
              "  </thead>\n",
              "  <tbody>\n",
              "    <tr>\n",
              "      <th>count</th>\n",
              "      <td>245725.000000</td>\n",
              "      <td>245725.000000</td>\n",
              "      <td>245725.000000</td>\n",
              "      <td>245725.000000</td>\n",
              "      <td>245725.000000</td>\n",
              "      <td>245725.000000</td>\n",
              "      <td>245725.000000</td>\n",
              "      <td>2.457250e+05</td>\n",
              "      <td>245725.000000</td>\n",
              "      <td>245725.000000</td>\n",
              "    </tr>\n",
              "    <tr>\n",
              "      <th>mean</th>\n",
              "      <td>0.546127</td>\n",
              "      <td>43.856307</td>\n",
              "      <td>19.873297</td>\n",
              "      <td>2.103282</td>\n",
              "      <td>0.902867</td>\n",
              "      <td>46.959141</td>\n",
              "      <td>0.412526</td>\n",
              "      <td>1.128403e+06</td>\n",
              "      <td>0.388381</td>\n",
              "      <td>0.237208</td>\n",
              "    </tr>\n",
              "    <tr>\n",
              "      <th>std</th>\n",
              "      <td>0.497869</td>\n",
              "      <td>14.828672</td>\n",
              "      <td>10.866718</td>\n",
              "      <td>0.853751</td>\n",
              "      <td>0.884840</td>\n",
              "      <td>32.353136</td>\n",
              "      <td>0.492290</td>\n",
              "      <td>8.529364e+05</td>\n",
              "      <td>0.487383</td>\n",
              "      <td>0.425372</td>\n",
              "    </tr>\n",
              "    <tr>\n",
              "      <th>min</th>\n",
              "      <td>0.000000</td>\n",
              "      <td>23.000000</td>\n",
              "      <td>0.000000</td>\n",
              "      <td>0.000000</td>\n",
              "      <td>0.000000</td>\n",
              "      <td>7.000000</td>\n",
              "      <td>0.000000</td>\n",
              "      <td>2.079000e+04</td>\n",
              "      <td>0.000000</td>\n",
              "      <td>0.000000</td>\n",
              "    </tr>\n",
              "    <tr>\n",
              "      <th>25%</th>\n",
              "      <td>0.000000</td>\n",
              "      <td>30.000000</td>\n",
              "      <td>11.000000</td>\n",
              "      <td>1.000000</td>\n",
              "      <td>0.000000</td>\n",
              "      <td>20.000000</td>\n",
              "      <td>0.000000</td>\n",
              "      <td>6.043100e+05</td>\n",
              "      <td>0.000000</td>\n",
              "      <td>0.000000</td>\n",
              "    </tr>\n",
              "    <tr>\n",
              "      <th>50%</th>\n",
              "      <td>1.000000</td>\n",
              "      <td>43.000000</td>\n",
              "      <td>19.000000</td>\n",
              "      <td>2.000000</td>\n",
              "      <td>1.000000</td>\n",
              "      <td>32.000000</td>\n",
              "      <td>0.000000</td>\n",
              "      <td>8.946010e+05</td>\n",
              "      <td>0.000000</td>\n",
              "      <td>0.000000</td>\n",
              "    </tr>\n",
              "    <tr>\n",
              "      <th>75%</th>\n",
              "      <td>1.000000</td>\n",
              "      <td>54.000000</td>\n",
              "      <td>30.000000</td>\n",
              "      <td>3.000000</td>\n",
              "      <td>2.000000</td>\n",
              "      <td>73.000000</td>\n",
              "      <td>1.000000</td>\n",
              "      <td>1.366666e+06</td>\n",
              "      <td>1.000000</td>\n",
              "      <td>0.000000</td>\n",
              "    </tr>\n",
              "    <tr>\n",
              "      <th>max</th>\n",
              "      <td>1.000000</td>\n",
              "      <td>85.000000</td>\n",
              "      <td>34.000000</td>\n",
              "      <td>3.000000</td>\n",
              "      <td>3.000000</td>\n",
              "      <td>135.000000</td>\n",
              "      <td>1.000000</td>\n",
              "      <td>1.035201e+07</td>\n",
              "      <td>1.000000</td>\n",
              "      <td>1.000000</td>\n",
              "    </tr>\n",
              "  </tbody>\n",
              "</table>\n",
              "</div>"
            ],
            "text/plain": [
              "              Gender            Age  ...      Is_Active        Is_Lead\n",
              "count  245725.000000  245725.000000  ...  245725.000000  245725.000000\n",
              "mean        0.546127      43.856307  ...       0.388381       0.237208\n",
              "std         0.497869      14.828672  ...       0.487383       0.425372\n",
              "min         0.000000      23.000000  ...       0.000000       0.000000\n",
              "25%         0.000000      30.000000  ...       0.000000       0.000000\n",
              "50%         1.000000      43.000000  ...       0.000000       0.000000\n",
              "75%         1.000000      54.000000  ...       1.000000       0.000000\n",
              "max         1.000000      85.000000  ...       1.000000       1.000000\n",
              "\n",
              "[8 rows x 10 columns]"
            ]
          },
          "metadata": {
            "tags": []
          },
          "execution_count": 140
        }
      ]
    },
    {
      "cell_type": "code",
      "metadata": {
        "collapsed": true,
        "colab": {
          "base_uri": "https://localhost:8080/"
        },
        "id": "1Ef1unl2EnL7",
        "outputId": "ef2813ff-0873-4a94-a5e8-79c6599f906d"
      },
      "source": [
        "train.info()"
      ],
      "execution_count": 141,
      "outputs": [
        {
          "output_type": "stream",
          "text": [
            "<class 'pandas.core.frame.DataFrame'>\n",
            "RangeIndex: 245725 entries, 0 to 245724\n",
            "Data columns (total 11 columns):\n",
            " #   Column               Non-Null Count   Dtype \n",
            "---  ------               --------------   ----- \n",
            " 0   ID                   245725 non-null  object\n",
            " 1   Gender               245725 non-null  int64 \n",
            " 2   Age                  245725 non-null  int64 \n",
            " 3   Region_Code          245725 non-null  int64 \n",
            " 4   Occupation           245725 non-null  int64 \n",
            " 5   Channel_Code         245725 non-null  int64 \n",
            " 6   Vintage              245725 non-null  int64 \n",
            " 7   Credit_Product       245725 non-null  int64 \n",
            " 8   Avg_Account_Balance  245725 non-null  int64 \n",
            " 9   Is_Active            245725 non-null  int64 \n",
            " 10  Is_Lead              245725 non-null  int64 \n",
            "dtypes: int64(10), object(1)\n",
            "memory usage: 20.6+ MB\n"
          ],
          "name": "stdout"
        }
      ]
    },
    {
      "cell_type": "markdown",
      "metadata": {
        "id": "cKfCtD7SEsYF"
      },
      "source": [
        "**Step 6: Building the model and Evaluation of model using roc_auc_score**"
      ]
    },
    {
      "cell_type": "code",
      "metadata": {
        "id": "srnzMnUh50_7"
      },
      "source": [
        "X= train.drop(columns = ['ID','Is_Lead'], axis=1) #input features \n",
        "y= train['Is_Lead']#target feature"
      ],
      "execution_count": 150,
      "outputs": []
    },
    {
      "cell_type": "code",
      "metadata": {
        "colab": {
          "base_uri": "https://localhost:8080/"
        },
        "collapsed": true,
        "id": "3OiUCS0E7-AE",
        "outputId": "041964cf-dfb1-4390-b49a-30b1c9e858dc"
      },
      "source": [
        "Folds= 10       # Stratified k fold with catboost model\n",
        "rocaucscore =[]\n",
        "fold = StratifiedKFold(n_splits=Folds, shuffle=True, random_state=2020)\n",
        "i = 1\n",
        "\n",
        "for train_index, test_index in fold.split(X, y):\n",
        "    x_train, x_val = X.iloc[train_index], X.iloc[test_index]\n",
        "    y_train, y_val = y.iloc[train_index], y.iloc[test_index]\n",
        "    \n",
        "    m =  CatBoostClassifier(n_estimators=20000,random_state=2020,eval_metric='AUC')\n",
        "    \n",
        "    m.fit(x_train, y_train,eval_set=[(x_val, y_val)], early_stopping_rounds=100,verbose=100)\n",
        "    \n",
        "    pred_y = m.predict_proba(x_val)[:,1] \n",
        "    \n",
        "    print(i, \" rocaucscore: \", roc_auc_score(y_val,pred_y))\n",
        "    rocaucscore.append(roc_auc_score(y_val,pred_y))\n",
        "    i = i + 1\n"
      ],
      "execution_count": 151,
      "outputs": [
        {
          "output_type": "stream",
          "text": [
            "Learning rate set to 0.032666\n",
            "0:\ttest: 0.8402449\tbest: 0.8402449 (0)\ttotal: 93.5ms\tremaining: 31m 10s\n",
            "100:\ttest: 0.8500497\tbest: 0.8500497 (100)\ttotal: 7.74s\tremaining: 25m 24s\n",
            "200:\ttest: 0.8513542\tbest: 0.8513542 (200)\ttotal: 15.2s\tremaining: 25m 1s\n",
            "300:\ttest: 0.8519208\tbest: 0.8519432 (298)\ttotal: 22.9s\tremaining: 24m 56s\n",
            "400:\ttest: 0.8521488\tbest: 0.8521488 (400)\ttotal: 30.6s\tremaining: 24m 54s\n",
            "500:\ttest: 0.8522393\tbest: 0.8522393 (500)\ttotal: 38.3s\tremaining: 24m 51s\n",
            "600:\ttest: 0.8521355\tbest: 0.8522716 (518)\ttotal: 46.1s\tremaining: 24m 48s\n",
            "Stopped by overfitting detector  (100 iterations wait)\n",
            "\n",
            "bestTest = 0.8522716335\n",
            "bestIteration = 518\n",
            "\n",
            "Shrink model to first 519 iterations.\n",
            "1  rocaucscore:  0.8522716335390761\n",
            "Learning rate set to 0.032666\n",
            "0:\ttest: 0.8402095\tbest: 0.8402095 (0)\ttotal: 79ms\tremaining: 26m 19s\n",
            "100:\ttest: 0.8489245\tbest: 0.8489245 (100)\ttotal: 7.82s\tremaining: 25m 40s\n",
            "200:\ttest: 0.8498166\tbest: 0.8498245 (199)\ttotal: 15.4s\tremaining: 25m 15s\n",
            "300:\ttest: 0.8499059\tbest: 0.8499838 (286)\ttotal: 23.1s\tremaining: 25m 11s\n",
            "400:\ttest: 0.8500574\tbest: 0.8500647 (390)\ttotal: 30.9s\tremaining: 25m 8s\n",
            "500:\ttest: 0.8502826\tbest: 0.8502998 (487)\ttotal: 38.6s\tremaining: 25m 2s\n",
            "Stopped by overfitting detector  (100 iterations wait)\n",
            "\n",
            "bestTest = 0.8502997828\n",
            "bestIteration = 487\n",
            "\n",
            "Shrink model to first 488 iterations.\n",
            "2  rocaucscore:  0.8502997827835815\n",
            "Learning rate set to 0.032666\n",
            "0:\ttest: 0.8371525\tbest: 0.8371525 (0)\ttotal: 75.4ms\tremaining: 25m 7s\n",
            "100:\ttest: 0.8464634\tbest: 0.8464634 (100)\ttotal: 7.83s\tremaining: 25m 42s\n",
            "200:\ttest: 0.8480484\tbest: 0.8480556 (198)\ttotal: 15.6s\tremaining: 25m 31s\n",
            "300:\ttest: 0.8483380\tbest: 0.8483433 (299)\ttotal: 23.3s\tremaining: 25m 23s\n",
            "400:\ttest: 0.8486080\tbest: 0.8486080 (400)\ttotal: 30.9s\tremaining: 25m 12s\n",
            "500:\ttest: 0.8487727\tbest: 0.8487877 (476)\ttotal: 38.7s\tremaining: 25m 6s\n",
            "600:\ttest: 0.8488812\tbest: 0.8488812 (600)\ttotal: 46.5s\tremaining: 25m\n",
            "700:\ttest: 0.8489325\tbest: 0.8489402 (681)\ttotal: 54.2s\tremaining: 24m 52s\n",
            "Stopped by overfitting detector  (100 iterations wait)\n",
            "\n",
            "bestTest = 0.8489402398\n",
            "bestIteration = 681\n",
            "\n",
            "Shrink model to first 682 iterations.\n",
            "3  rocaucscore:  0.8489402398211012\n",
            "Learning rate set to 0.032666\n",
            "0:\ttest: 0.8370864\tbest: 0.8370864 (0)\ttotal: 79.6ms\tremaining: 26m 32s\n",
            "100:\ttest: 0.8466766\tbest: 0.8466766 (100)\ttotal: 7.75s\tremaining: 25m 26s\n",
            "200:\ttest: 0.8481007\tbest: 0.8481095 (198)\ttotal: 15.2s\tremaining: 24m 59s\n",
            "300:\ttest: 0.8484767\tbest: 0.8484767 (300)\ttotal: 22.8s\tremaining: 24m 53s\n",
            "400:\ttest: 0.8486737\tbest: 0.8486756 (395)\ttotal: 30.6s\tremaining: 24m 53s\n",
            "500:\ttest: 0.8489654\tbest: 0.8489654 (500)\ttotal: 38.2s\tremaining: 24m 47s\n",
            "600:\ttest: 0.8489527\tbest: 0.8489885 (515)\ttotal: 46s\tremaining: 24m 43s\n",
            "Stopped by overfitting detector  (100 iterations wait)\n",
            "\n",
            "bestTest = 0.8489884739\n",
            "bestIteration = 515\n",
            "\n",
            "Shrink model to first 516 iterations.\n",
            "4  rocaucscore:  0.8489884739327485\n",
            "Learning rate set to 0.032666\n",
            "0:\ttest: 0.8373559\tbest: 0.8373559 (0)\ttotal: 93.3ms\tremaining: 31m 5s\n",
            "100:\ttest: 0.8485677\tbest: 0.8485677 (100)\ttotal: 7.7s\tremaining: 25m 17s\n",
            "200:\ttest: 0.8499020\tbest: 0.8499020 (200)\ttotal: 15.2s\tremaining: 24m 58s\n",
            "300:\ttest: 0.8501696\tbest: 0.8501779 (297)\ttotal: 22.9s\tremaining: 24m 57s\n",
            "400:\ttest: 0.8504757\tbest: 0.8504766 (399)\ttotal: 30.5s\tremaining: 24m 53s\n",
            "500:\ttest: 0.8504882\tbest: 0.8505114 (426)\ttotal: 38.3s\tremaining: 24m 50s\n",
            "Stopped by overfitting detector  (100 iterations wait)\n",
            "\n",
            "bestTest = 0.8505113859\n",
            "bestIteration = 426\n",
            "\n",
            "Shrink model to first 427 iterations.\n",
            "5  rocaucscore:  0.850511385922903\n",
            "Learning rate set to 0.032666\n",
            "0:\ttest: 0.8405593\tbest: 0.8405593 (0)\ttotal: 91.4ms\tremaining: 30m 27s\n",
            "100:\ttest: 0.8510180\tbest: 0.8510180 (100)\ttotal: 7.76s\tremaining: 25m 28s\n",
            "200:\ttest: 0.8520273\tbest: 0.8520273 (200)\ttotal: 15.3s\tremaining: 25m 3s\n",
            "300:\ttest: 0.8524138\tbest: 0.8524165 (297)\ttotal: 22.9s\tremaining: 24m 59s\n",
            "400:\ttest: 0.8525873\tbest: 0.8525967 (361)\ttotal: 30.5s\tremaining: 24m 52s\n",
            "500:\ttest: 0.8528083\tbest: 0.8528185 (491)\ttotal: 38.3s\tremaining: 24m 51s\n",
            "600:\ttest: 0.8528287\tbest: 0.8528399 (557)\ttotal: 46.1s\tremaining: 24m 47s\n",
            "700:\ttest: 0.8527799\tbest: 0.8528656 (634)\ttotal: 53.9s\tremaining: 24m 44s\n",
            "Stopped by overfitting detector  (100 iterations wait)\n",
            "\n",
            "bestTest = 0.8528656097\n",
            "bestIteration = 634\n",
            "\n",
            "Shrink model to first 635 iterations.\n",
            "6  rocaucscore:  0.8528656097427727\n",
            "Learning rate set to 0.032666\n",
            "0:\ttest: 0.8412023\tbest: 0.8412023 (0)\ttotal: 89.7ms\tremaining: 29m 53s\n",
            "100:\ttest: 0.8509154\tbest: 0.8509154 (100)\ttotal: 7.75s\tremaining: 25m 26s\n",
            "200:\ttest: 0.8524244\tbest: 0.8524252 (196)\ttotal: 15.3s\tremaining: 25m 11s\n",
            "300:\ttest: 0.8532061\tbest: 0.8532061 (300)\ttotal: 23s\tremaining: 25m 6s\n",
            "400:\ttest: 0.8535678\tbest: 0.8535864 (390)\ttotal: 30.8s\tremaining: 25m 6s\n",
            "500:\ttest: 0.8535227\tbest: 0.8536475 (456)\ttotal: 38.6s\tremaining: 25m 4s\n",
            "Stopped by overfitting detector  (100 iterations wait)\n",
            "\n",
            "bestTest = 0.8536474706\n",
            "bestIteration = 456\n",
            "\n",
            "Shrink model to first 457 iterations.\n",
            "7  rocaucscore:  0.8536474705536521\n",
            "Learning rate set to 0.032666\n",
            "0:\ttest: 0.8374221\tbest: 0.8374221 (0)\ttotal: 75.7ms\tremaining: 25m 12s\n",
            "100:\ttest: 0.8482008\tbest: 0.8482008 (100)\ttotal: 7.73s\tremaining: 25m 22s\n",
            "200:\ttest: 0.8499236\tbest: 0.8499236 (200)\ttotal: 15.4s\tremaining: 25m 15s\n",
            "300:\ttest: 0.8504421\tbest: 0.8504421 (300)\ttotal: 23s\tremaining: 25m 4s\n",
            "400:\ttest: 0.8505166\tbest: 0.8505748 (370)\ttotal: 30.7s\tremaining: 25m\n",
            "500:\ttest: 0.8507632\tbest: 0.8507632 (500)\ttotal: 38.5s\tremaining: 24m 58s\n",
            "600:\ttest: 0.8506612\tbest: 0.8507647 (563)\ttotal: 46.3s\tremaining: 24m 55s\n",
            "Stopped by overfitting detector  (100 iterations wait)\n",
            "\n",
            "bestTest = 0.8507647396\n",
            "bestIteration = 563\n",
            "\n",
            "Shrink model to first 564 iterations.\n",
            "8  rocaucscore:  0.8507647395543482\n",
            "Learning rate set to 0.032666\n",
            "0:\ttest: 0.8419513\tbest: 0.8419513 (0)\ttotal: 78.9ms\tremaining: 26m 17s\n",
            "100:\ttest: 0.8517355\tbest: 0.8517355 (100)\ttotal: 7.69s\tremaining: 25m 15s\n",
            "200:\ttest: 0.8532971\tbest: 0.8532997 (199)\ttotal: 15.2s\tremaining: 24m 53s\n",
            "300:\ttest: 0.8537865\tbest: 0.8537865 (300)\ttotal: 22.8s\tremaining: 24m 52s\n",
            "400:\ttest: 0.8539716\tbest: 0.8539716 (400)\ttotal: 30.6s\tremaining: 24m 56s\n",
            "500:\ttest: 0.8541659\tbest: 0.8541659 (500)\ttotal: 38.4s\tremaining: 24m 53s\n",
            "600:\ttest: 0.8541826\tbest: 0.8541846 (584)\ttotal: 46.2s\tremaining: 24m 50s\n",
            "700:\ttest: 0.8542181\tbest: 0.8542191 (674)\ttotal: 54s\tremaining: 24m 46s\n",
            "800:\ttest: 0.8542312\tbest: 0.8542448 (767)\ttotal: 1m 1s\tremaining: 24m 40s\n",
            "900:\ttest: 0.8542722\tbest: 0.8542906 (881)\ttotal: 1m 9s\tremaining: 24m 34s\n",
            "Stopped by overfitting detector  (100 iterations wait)\n",
            "\n",
            "bestTest = 0.8542906216\n",
            "bestIteration = 881\n",
            "\n",
            "Shrink model to first 882 iterations.\n",
            "9  rocaucscore:  0.8542906215609909\n",
            "Learning rate set to 0.032666\n",
            "0:\ttest: 0.8371788\tbest: 0.8371788 (0)\ttotal: 75ms\tremaining: 25m\n",
            "100:\ttest: 0.8478116\tbest: 0.8478116 (100)\ttotal: 7.75s\tremaining: 25m 26s\n",
            "200:\ttest: 0.8493660\tbest: 0.8493660 (200)\ttotal: 15.4s\tremaining: 25m 14s\n",
            "300:\ttest: 0.8497574\tbest: 0.8497574 (300)\ttotal: 23s\tremaining: 25m 2s\n",
            "400:\ttest: 0.8498087\tbest: 0.8498197 (396)\ttotal: 30.6s\tremaining: 24m 57s\n",
            "500:\ttest: 0.8499283\tbest: 0.8499458 (494)\ttotal: 38.4s\tremaining: 24m 55s\n",
            "600:\ttest: 0.8499426\tbest: 0.8500063 (523)\ttotal: 46.2s\tremaining: 24m 51s\n",
            "Stopped by overfitting detector  (100 iterations wait)\n",
            "\n",
            "bestTest = 0.8500062978\n",
            "bestIteration = 523\n",
            "\n",
            "Shrink model to first 524 iterations.\n",
            "10  rocaucscore:  0.8500062977706221\n"
          ],
          "name": "stdout"
        }
      ]
    },
    {
      "cell_type": "code",
      "metadata": {
        "colab": {
          "base_uri": "https://localhost:8080/"
        },
        "id": "O5fJAq219lvm",
        "outputId": "a1f40018-4fda-48bc-84c9-280989bfb415"
      },
      "source": [
        "pred8= m.predict_proba(x_val)[:,1]\n",
        "roc_auc_score(y_val,pred8)"
      ],
      "execution_count": 125,
      "outputs": [
        {
          "output_type": "execute_result",
          "data": {
            "text/plain": [
              "0.8513031914821949"
            ]
          },
          "metadata": {
            "tags": []
          },
          "execution_count": 125
        }
      ]
    },
    {
      "cell_type": "code",
      "metadata": {
        "id": "AxmC-kO5GU_E"
      },
      "source": [
        "test1 = test.copy()\n",
        "test1 = test1.drop('ID',axis=1)"
      ],
      "execution_count": null,
      "outputs": []
    },
    {
      "cell_type": "code",
      "metadata": {
        "id": "1J7jL9ks-D1B"
      },
      "source": [
        "pred8 = m.predict_proba(test1)[:,1]"
      ],
      "execution_count": 111,
      "outputs": []
    },
    {
      "cell_type": "code",
      "metadata": {
        "id": "RDhJKPjt91Rx"
      },
      "source": [
        "res = pd.DataFrame({\"ID\":test.ID.values,\"Is_Lead\": pred8}) #final predictions of model on input features of  new unseen test data\n",
        "res.index = test.index # test index for comparison.\n",
        "res.to_csv(\"new9.csv\", index=False) # save to csv file"
      ],
      "execution_count": 115,
      "outputs": []
    }
  ]
}