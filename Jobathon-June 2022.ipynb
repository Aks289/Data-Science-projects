{
 "cells": [
  {
   "cell_type": "markdown",
   "id": "e8e825b0",
   "metadata": {},
   "source": [
    "**Smart Lead Scoring Engine**\n",
    "\n",
    "Can you identify the potential leads for a D2C startup?\n",
    "\n",
    "**Problem Statement**\n",
    "\n",
    "A D2C startup develops products using cutting edge technologies like Web 3.0. Over the past few months, the company has started multiple marketing campaigns offline and digital both. As a result, the users have started showing interest in the product on the website. These users with intent to buy product(s) are generally known as leads (Potential Customers).\n",
    "\n",
    "Leads are captured in 2 ways - Directly and Indirectly.\n",
    "\n",
    "Direct leads are captured via forms embedded in the website while indirect leads are captured based on certain activity of a user on the platform such as time spent on the website, number of user sessions, etc.\n",
    "\n",
    "Now, the marketing & sales team wants to identify the leads who are more likely to buy the product so that the sales team can manage their bandwidth efficiently by targeting these potential leads and increase the sales in a shorter span of time.\n",
    "\n",
    "Now, as a data scientist, your task at hand is to predict the propensity to buy a product based on the user's past activities and user level information.\n",
    "\n",
    "Variable\n",
    "\n",
    "Description\n",
    "\n",
    "id : Unique identifier of a lead\n",
    "\n",
    "created_at : Date of lead dropped\n",
    "\n",
    "signup_date: Sign up date of the user on the website\n",
    "\n",
    "campaign_var (1 and 2) : campaign information of the lead\n",
    "\n",
    "products_purchased : No. of past products purchased at the time of dropping the lead\n",
    "\n",
    "useractivityvar (1 to 12): Derived activities of the user on the website\n",
    "\n",
    "buy: 0 or 1 indicating if the user will buy the product in next 3 months or not"
   ]
  },
  {
   "cell_type": "code",
   "execution_count": 79,
   "id": "57d46aa8",
   "metadata": {},
   "outputs": [],
   "source": [
    "#Import libraries\n",
    "import pandas as pd\n",
    "import numpy as np\n",
    "from sklearn.preprocessing import StandardScaler\n",
    "from sklearn.model_selection import train_test_split\n",
    "from imblearn.over_sampling import SMOTE\n",
    "from sklearn.ensemble import BaggingClassifier\n",
    "from sklearn.tree import DecisionTreeClassifier\n",
    "from sklearn.ensemble import RandomForestClassifier\n",
    "from sklearn.metrics import classification_report\n",
    "from sklearn.model_selection import GridSearchCV,RandomizedSearchCV\n",
    "from catboost import CatBoostClassifier\n",
    "import xgboost as xgb\n",
    "from sklearn.model_selection import StratifiedKFold,RepeatedStratifiedKFold,StratifiedShuffleSplit,GroupKFold\n",
    "from sklearn.ensemble import AdaBoostClassifier\n",
    "import matplotlib.pyplot as plt\n",
    "import seaborn as sns\n",
    "from sklearn.metrics import f1_score"
   ]
  },
  {
   "cell_type": "code",
   "execution_count": 2,
   "id": "ff96a52a",
   "metadata": {},
   "outputs": [],
   "source": [
    "# Load the dataset\n",
    "train = pd.read_csv(\"train_wn75k28.csv\")\n",
    "test = pd.read_csv(\"test_Wf7sxXF.csv\")"
   ]
  },
  {
   "cell_type": "code",
   "execution_count": 3,
   "id": "cb8f5769",
   "metadata": {},
   "outputs": [
    {
     "data": {
      "text/html": [
       "<div>\n",
       "<style scoped>\n",
       "    .dataframe tbody tr th:only-of-type {\n",
       "        vertical-align: middle;\n",
       "    }\n",
       "\n",
       "    .dataframe tbody tr th {\n",
       "        vertical-align: top;\n",
       "    }\n",
       "\n",
       "    .dataframe thead th {\n",
       "        text-align: right;\n",
       "    }\n",
       "</style>\n",
       "<table border=\"1\" class=\"dataframe\">\n",
       "  <thead>\n",
       "    <tr style=\"text-align: right;\">\n",
       "      <th></th>\n",
       "      <th>id</th>\n",
       "      <th>created_at</th>\n",
       "      <th>campaign_var_1</th>\n",
       "      <th>campaign_var_2</th>\n",
       "      <th>products_purchased</th>\n",
       "      <th>signup_date</th>\n",
       "      <th>user_activity_var_1</th>\n",
       "      <th>user_activity_var_2</th>\n",
       "      <th>user_activity_var_3</th>\n",
       "      <th>user_activity_var_4</th>\n",
       "      <th>user_activity_var_5</th>\n",
       "      <th>user_activity_var_6</th>\n",
       "      <th>user_activity_var_7</th>\n",
       "      <th>user_activity_var_8</th>\n",
       "      <th>user_activity_var_9</th>\n",
       "      <th>user_activity_var_10</th>\n",
       "      <th>user_activity_var_11</th>\n",
       "      <th>user_activity_var_12</th>\n",
       "      <th>buy</th>\n",
       "    </tr>\n",
       "  </thead>\n",
       "  <tbody>\n",
       "    <tr>\n",
       "      <th>0</th>\n",
       "      <td>1</td>\n",
       "      <td>2021-01-01</td>\n",
       "      <td>1</td>\n",
       "      <td>2</td>\n",
       "      <td>2.0</td>\n",
       "      <td>2020-09-24</td>\n",
       "      <td>0</td>\n",
       "      <td>0</td>\n",
       "      <td>0</td>\n",
       "      <td>0</td>\n",
       "      <td>0</td>\n",
       "      <td>0</td>\n",
       "      <td>1</td>\n",
       "      <td>1</td>\n",
       "      <td>0</td>\n",
       "      <td>0</td>\n",
       "      <td>0</td>\n",
       "      <td>0</td>\n",
       "      <td>0</td>\n",
       "    </tr>\n",
       "    <tr>\n",
       "      <th>1</th>\n",
       "      <td>2</td>\n",
       "      <td>2021-01-01</td>\n",
       "      <td>2</td>\n",
       "      <td>1</td>\n",
       "      <td>2.0</td>\n",
       "      <td>2020-09-19</td>\n",
       "      <td>1</td>\n",
       "      <td>0</td>\n",
       "      <td>1</td>\n",
       "      <td>0</td>\n",
       "      <td>0</td>\n",
       "      <td>0</td>\n",
       "      <td>1</td>\n",
       "      <td>0</td>\n",
       "      <td>0</td>\n",
       "      <td>0</td>\n",
       "      <td>0</td>\n",
       "      <td>0</td>\n",
       "      <td>0</td>\n",
       "    </tr>\n",
       "    <tr>\n",
       "      <th>2</th>\n",
       "      <td>3</td>\n",
       "      <td>2021-01-01</td>\n",
       "      <td>9</td>\n",
       "      <td>3</td>\n",
       "      <td>3.0</td>\n",
       "      <td>2021-08-11</td>\n",
       "      <td>1</td>\n",
       "      <td>0</td>\n",
       "      <td>0</td>\n",
       "      <td>0</td>\n",
       "      <td>0</td>\n",
       "      <td>0</td>\n",
       "      <td>0</td>\n",
       "      <td>0</td>\n",
       "      <td>0</td>\n",
       "      <td>0</td>\n",
       "      <td>0</td>\n",
       "      <td>0</td>\n",
       "      <td>0</td>\n",
       "    </tr>\n",
       "    <tr>\n",
       "      <th>3</th>\n",
       "      <td>4</td>\n",
       "      <td>2021-01-01</td>\n",
       "      <td>6</td>\n",
       "      <td>7</td>\n",
       "      <td>2.0</td>\n",
       "      <td>2017-10-04</td>\n",
       "      <td>0</td>\n",
       "      <td>0</td>\n",
       "      <td>0</td>\n",
       "      <td>0</td>\n",
       "      <td>0</td>\n",
       "      <td>0</td>\n",
       "      <td>0</td>\n",
       "      <td>0</td>\n",
       "      <td>0</td>\n",
       "      <td>0</td>\n",
       "      <td>0</td>\n",
       "      <td>0</td>\n",
       "      <td>0</td>\n",
       "    </tr>\n",
       "    <tr>\n",
       "      <th>4</th>\n",
       "      <td>5</td>\n",
       "      <td>2021-01-01</td>\n",
       "      <td>4</td>\n",
       "      <td>6</td>\n",
       "      <td>NaN</td>\n",
       "      <td>2020-06-08</td>\n",
       "      <td>0</td>\n",
       "      <td>0</td>\n",
       "      <td>0</td>\n",
       "      <td>0</td>\n",
       "      <td>0</td>\n",
       "      <td>0</td>\n",
       "      <td>1</td>\n",
       "      <td>0</td>\n",
       "      <td>0</td>\n",
       "      <td>0</td>\n",
       "      <td>1</td>\n",
       "      <td>0</td>\n",
       "      <td>0</td>\n",
       "    </tr>\n",
       "  </tbody>\n",
       "</table>\n",
       "</div>"
      ],
      "text/plain": [
       "   id  created_at  campaign_var_1  campaign_var_2  products_purchased  \\\n",
       "0   1  2021-01-01               1               2                 2.0   \n",
       "1   2  2021-01-01               2               1                 2.0   \n",
       "2   3  2021-01-01               9               3                 3.0   \n",
       "3   4  2021-01-01               6               7                 2.0   \n",
       "4   5  2021-01-01               4               6                 NaN   \n",
       "\n",
       "  signup_date  user_activity_var_1  user_activity_var_2  user_activity_var_3  \\\n",
       "0  2020-09-24                    0                    0                    0   \n",
       "1  2020-09-19                    1                    0                    1   \n",
       "2  2021-08-11                    1                    0                    0   \n",
       "3  2017-10-04                    0                    0                    0   \n",
       "4  2020-06-08                    0                    0                    0   \n",
       "\n",
       "   user_activity_var_4  user_activity_var_5  user_activity_var_6  \\\n",
       "0                    0                    0                    0   \n",
       "1                    0                    0                    0   \n",
       "2                    0                    0                    0   \n",
       "3                    0                    0                    0   \n",
       "4                    0                    0                    0   \n",
       "\n",
       "   user_activity_var_7  user_activity_var_8  user_activity_var_9  \\\n",
       "0                    1                    1                    0   \n",
       "1                    1                    0                    0   \n",
       "2                    0                    0                    0   \n",
       "3                    0                    0                    0   \n",
       "4                    1                    0                    0   \n",
       "\n",
       "   user_activity_var_10  user_activity_var_11  user_activity_var_12  buy  \n",
       "0                     0                     0                     0    0  \n",
       "1                     0                     0                     0    0  \n",
       "2                     0                     0                     0    0  \n",
       "3                     0                     0                     0    0  \n",
       "4                     0                     1                     0    0  "
      ]
     },
     "execution_count": 3,
     "metadata": {},
     "output_type": "execute_result"
    }
   ],
   "source": [
    "train.head()"
   ]
  },
  {
   "cell_type": "code",
   "execution_count": 4,
   "id": "172b7414",
   "metadata": {},
   "outputs": [
    {
     "name": "stdout",
     "output_type": "stream",
     "text": [
      "Train shape:(39161, 19)\n",
      "Test shape:(13184, 18)\n"
     ]
    }
   ],
   "source": [
    "#Check number of rows and columns in the train and test dataset\n",
    "print(f'Train shape:{train.shape}')\n",
    "print(f'Test shape:{test.shape}')\n",
    "#Test dataset will not contain the target variable"
   ]
  },
  {
   "cell_type": "code",
   "execution_count": 5,
   "id": "8e9da7f2",
   "metadata": {},
   "outputs": [
    {
     "name": "stdout",
     "output_type": "stream",
     "text": [
      "<class 'pandas.core.frame.DataFrame'>\n",
      "RangeIndex: 39161 entries, 0 to 39160\n",
      "Data columns (total 19 columns):\n",
      " #   Column                Non-Null Count  Dtype  \n",
      "---  ------                --------------  -----  \n",
      " 0   id                    39161 non-null  int64  \n",
      " 1   created_at            39161 non-null  object \n",
      " 2   campaign_var_1        39161 non-null  int64  \n",
      " 3   campaign_var_2        39161 non-null  int64  \n",
      " 4   products_purchased    18250 non-null  float64\n",
      " 5   signup_date           24048 non-null  object \n",
      " 6   user_activity_var_1   39161 non-null  int64  \n",
      " 7   user_activity_var_2   39161 non-null  int64  \n",
      " 8   user_activity_var_3   39161 non-null  int64  \n",
      " 9   user_activity_var_4   39161 non-null  int64  \n",
      " 10  user_activity_var_5   39161 non-null  int64  \n",
      " 11  user_activity_var_6   39161 non-null  int64  \n",
      " 12  user_activity_var_7   39161 non-null  int64  \n",
      " 13  user_activity_var_8   39161 non-null  int64  \n",
      " 14  user_activity_var_9   39161 non-null  int64  \n",
      " 15  user_activity_var_10  39161 non-null  int64  \n",
      " 16  user_activity_var_11  39161 non-null  int64  \n",
      " 17  user_activity_var_12  39161 non-null  int64  \n",
      " 18  buy                   39161 non-null  int64  \n",
      "dtypes: float64(1), int64(16), object(2)\n",
      "memory usage: 5.7+ MB\n"
     ]
    }
   ],
   "source": [
    "#Train data information\n",
    "train.info()"
   ]
  },
  {
   "cell_type": "markdown",
   "id": "3ec70209",
   "metadata": {},
   "source": [
    "**Most of the variables are categorical in nature eventhough it is represented in numeric form**"
   ]
  },
  {
   "cell_type": "code",
   "execution_count": 14,
   "id": "4f257fbf",
   "metadata": {},
   "outputs": [
    {
     "data": {
      "text/html": [
       "<div>\n",
       "<style scoped>\n",
       "    .dataframe tbody tr th:only-of-type {\n",
       "        vertical-align: middle;\n",
       "    }\n",
       "\n",
       "    .dataframe tbody tr th {\n",
       "        vertical-align: top;\n",
       "    }\n",
       "\n",
       "    .dataframe thead th {\n",
       "        text-align: right;\n",
       "    }\n",
       "</style>\n",
       "<table border=\"1\" class=\"dataframe\">\n",
       "  <thead>\n",
       "    <tr style=\"text-align: right;\">\n",
       "      <th></th>\n",
       "      <th>id</th>\n",
       "      <th>campaign_var_1</th>\n",
       "      <th>campaign_var_2</th>\n",
       "      <th>products_purchased</th>\n",
       "      <th>user_activity_var_1</th>\n",
       "      <th>user_activity_var_2</th>\n",
       "      <th>user_activity_var_3</th>\n",
       "      <th>user_activity_var_4</th>\n",
       "      <th>user_activity_var_5</th>\n",
       "      <th>user_activity_var_6</th>\n",
       "      <th>user_activity_var_7</th>\n",
       "      <th>user_activity_var_8</th>\n",
       "      <th>user_activity_var_9</th>\n",
       "      <th>user_activity_var_10</th>\n",
       "      <th>user_activity_var_11</th>\n",
       "      <th>user_activity_var_12</th>\n",
       "      <th>buy</th>\n",
       "    </tr>\n",
       "  </thead>\n",
       "  <tbody>\n",
       "    <tr>\n",
       "      <th>count</th>\n",
       "      <td>39161.000000</td>\n",
       "      <td>39161.000000</td>\n",
       "      <td>39161.000000</td>\n",
       "      <td>18250.000000</td>\n",
       "      <td>39161.000000</td>\n",
       "      <td>39161.000000</td>\n",
       "      <td>39161.000000</td>\n",
       "      <td>39161.000000</td>\n",
       "      <td>39161.000000</td>\n",
       "      <td>39161.000000</td>\n",
       "      <td>39161.000000</td>\n",
       "      <td>39161.000000</td>\n",
       "      <td>39161.000000</td>\n",
       "      <td>39161.000000</td>\n",
       "      <td>39161.000000</td>\n",
       "      <td>39161.000000</td>\n",
       "      <td>39161.000000</td>\n",
       "    </tr>\n",
       "    <tr>\n",
       "      <th>mean</th>\n",
       "      <td>19581.000000</td>\n",
       "      <td>6.523812</td>\n",
       "      <td>6.452746</td>\n",
       "      <td>2.154137</td>\n",
       "      <td>0.400092</td>\n",
       "      <td>0.006716</td>\n",
       "      <td>0.102832</td>\n",
       "      <td>0.011465</td>\n",
       "      <td>0.151503</td>\n",
       "      <td>0.499834</td>\n",
       "      <td>0.286612</td>\n",
       "      <td>0.174434</td>\n",
       "      <td>0.011440</td>\n",
       "      <td>0.000383</td>\n",
       "      <td>0.218942</td>\n",
       "      <td>0.000562</td>\n",
       "      <td>0.051020</td>\n",
       "    </tr>\n",
       "    <tr>\n",
       "      <th>std</th>\n",
       "      <td>11304.951283</td>\n",
       "      <td>3.472944</td>\n",
       "      <td>2.614296</td>\n",
       "      <td>0.779815</td>\n",
       "      <td>0.509194</td>\n",
       "      <td>0.081676</td>\n",
       "      <td>0.303743</td>\n",
       "      <td>0.106463</td>\n",
       "      <td>0.359681</td>\n",
       "      <td>0.558166</td>\n",
       "      <td>0.455784</td>\n",
       "      <td>0.379689</td>\n",
       "      <td>0.106346</td>\n",
       "      <td>0.019568</td>\n",
       "      <td>0.431544</td>\n",
       "      <td>0.023696</td>\n",
       "      <td>0.220042</td>\n",
       "    </tr>\n",
       "    <tr>\n",
       "      <th>min</th>\n",
       "      <td>1.000000</td>\n",
       "      <td>1.000000</td>\n",
       "      <td>1.000000</td>\n",
       "      <td>1.000000</td>\n",
       "      <td>0.000000</td>\n",
       "      <td>0.000000</td>\n",
       "      <td>0.000000</td>\n",
       "      <td>0.000000</td>\n",
       "      <td>0.000000</td>\n",
       "      <td>0.000000</td>\n",
       "      <td>0.000000</td>\n",
       "      <td>0.000000</td>\n",
       "      <td>0.000000</td>\n",
       "      <td>0.000000</td>\n",
       "      <td>0.000000</td>\n",
       "      <td>0.000000</td>\n",
       "      <td>0.000000</td>\n",
       "    </tr>\n",
       "    <tr>\n",
       "      <th>25%</th>\n",
       "      <td>9791.000000</td>\n",
       "      <td>4.000000</td>\n",
       "      <td>5.000000</td>\n",
       "      <td>2.000000</td>\n",
       "      <td>0.000000</td>\n",
       "      <td>0.000000</td>\n",
       "      <td>0.000000</td>\n",
       "      <td>0.000000</td>\n",
       "      <td>0.000000</td>\n",
       "      <td>0.000000</td>\n",
       "      <td>0.000000</td>\n",
       "      <td>0.000000</td>\n",
       "      <td>0.000000</td>\n",
       "      <td>0.000000</td>\n",
       "      <td>0.000000</td>\n",
       "      <td>0.000000</td>\n",
       "      <td>0.000000</td>\n",
       "    </tr>\n",
       "    <tr>\n",
       "      <th>50%</th>\n",
       "      <td>19581.000000</td>\n",
       "      <td>6.000000</td>\n",
       "      <td>6.000000</td>\n",
       "      <td>2.000000</td>\n",
       "      <td>0.000000</td>\n",
       "      <td>0.000000</td>\n",
       "      <td>0.000000</td>\n",
       "      <td>0.000000</td>\n",
       "      <td>0.000000</td>\n",
       "      <td>0.000000</td>\n",
       "      <td>0.000000</td>\n",
       "      <td>0.000000</td>\n",
       "      <td>0.000000</td>\n",
       "      <td>0.000000</td>\n",
       "      <td>0.000000</td>\n",
       "      <td>0.000000</td>\n",
       "      <td>0.000000</td>\n",
       "    </tr>\n",
       "    <tr>\n",
       "      <th>75%</th>\n",
       "      <td>29371.000000</td>\n",
       "      <td>9.000000</td>\n",
       "      <td>8.000000</td>\n",
       "      <td>3.000000</td>\n",
       "      <td>1.000000</td>\n",
       "      <td>0.000000</td>\n",
       "      <td>0.000000</td>\n",
       "      <td>0.000000</td>\n",
       "      <td>0.000000</td>\n",
       "      <td>1.000000</td>\n",
       "      <td>1.000000</td>\n",
       "      <td>0.000000</td>\n",
       "      <td>0.000000</td>\n",
       "      <td>0.000000</td>\n",
       "      <td>0.000000</td>\n",
       "      <td>0.000000</td>\n",
       "      <td>0.000000</td>\n",
       "    </tr>\n",
       "    <tr>\n",
       "      <th>max</th>\n",
       "      <td>39161.000000</td>\n",
       "      <td>16.000000</td>\n",
       "      <td>15.000000</td>\n",
       "      <td>4.000000</td>\n",
       "      <td>3.000000</td>\n",
       "      <td>1.000000</td>\n",
       "      <td>1.000000</td>\n",
       "      <td>1.000000</td>\n",
       "      <td>2.000000</td>\n",
       "      <td>3.000000</td>\n",
       "      <td>2.000000</td>\n",
       "      <td>2.000000</td>\n",
       "      <td>1.000000</td>\n",
       "      <td>1.000000</td>\n",
       "      <td>4.000000</td>\n",
       "      <td>1.000000</td>\n",
       "      <td>1.000000</td>\n",
       "    </tr>\n",
       "  </tbody>\n",
       "</table>\n",
       "</div>"
      ],
      "text/plain": [
       "                 id  campaign_var_1  campaign_var_2  products_purchased  \\\n",
       "count  39161.000000    39161.000000    39161.000000        18250.000000   \n",
       "mean   19581.000000        6.523812        6.452746            2.154137   \n",
       "std    11304.951283        3.472944        2.614296            0.779815   \n",
       "min        1.000000        1.000000        1.000000            1.000000   \n",
       "25%     9791.000000        4.000000        5.000000            2.000000   \n",
       "50%    19581.000000        6.000000        6.000000            2.000000   \n",
       "75%    29371.000000        9.000000        8.000000            3.000000   \n",
       "max    39161.000000       16.000000       15.000000            4.000000   \n",
       "\n",
       "       user_activity_var_1  user_activity_var_2  user_activity_var_3  \\\n",
       "count         39161.000000         39161.000000         39161.000000   \n",
       "mean              0.400092             0.006716             0.102832   \n",
       "std               0.509194             0.081676             0.303743   \n",
       "min               0.000000             0.000000             0.000000   \n",
       "25%               0.000000             0.000000             0.000000   \n",
       "50%               0.000000             0.000000             0.000000   \n",
       "75%               1.000000             0.000000             0.000000   \n",
       "max               3.000000             1.000000             1.000000   \n",
       "\n",
       "       user_activity_var_4  user_activity_var_5  user_activity_var_6  \\\n",
       "count         39161.000000         39161.000000         39161.000000   \n",
       "mean              0.011465             0.151503             0.499834   \n",
       "std               0.106463             0.359681             0.558166   \n",
       "min               0.000000             0.000000             0.000000   \n",
       "25%               0.000000             0.000000             0.000000   \n",
       "50%               0.000000             0.000000             0.000000   \n",
       "75%               0.000000             0.000000             1.000000   \n",
       "max               1.000000             2.000000             3.000000   \n",
       "\n",
       "       user_activity_var_7  user_activity_var_8  user_activity_var_9  \\\n",
       "count         39161.000000         39161.000000         39161.000000   \n",
       "mean              0.286612             0.174434             0.011440   \n",
       "std               0.455784             0.379689             0.106346   \n",
       "min               0.000000             0.000000             0.000000   \n",
       "25%               0.000000             0.000000             0.000000   \n",
       "50%               0.000000             0.000000             0.000000   \n",
       "75%               1.000000             0.000000             0.000000   \n",
       "max               2.000000             2.000000             1.000000   \n",
       "\n",
       "       user_activity_var_10  user_activity_var_11  user_activity_var_12  \\\n",
       "count          39161.000000          39161.000000          39161.000000   \n",
       "mean               0.000383              0.218942              0.000562   \n",
       "std                0.019568              0.431544              0.023696   \n",
       "min                0.000000              0.000000              0.000000   \n",
       "25%                0.000000              0.000000              0.000000   \n",
       "50%                0.000000              0.000000              0.000000   \n",
       "75%                0.000000              0.000000              0.000000   \n",
       "max                1.000000              4.000000              1.000000   \n",
       "\n",
       "                buy  \n",
       "count  39161.000000  \n",
       "mean       0.051020  \n",
       "std        0.220042  \n",
       "min        0.000000  \n",
       "25%        0.000000  \n",
       "50%        0.000000  \n",
       "75%        0.000000  \n",
       "max        1.000000  "
      ]
     },
     "execution_count": 14,
     "metadata": {},
     "output_type": "execute_result"
    }
   ],
   "source": [
    "train.describe()"
   ]
  },
  {
   "cell_type": "code",
   "execution_count": 6,
   "id": "762f3d94",
   "metadata": {},
   "outputs": [
    {
     "data": {
      "text/plain": [
       "id                       0.000000\n",
       "created_at               0.000000\n",
       "campaign_var_1           0.000000\n",
       "campaign_var_2           0.000000\n",
       "products_purchased      53.397513\n",
       "signup_date             38.591966\n",
       "user_activity_var_1      0.000000\n",
       "user_activity_var_2      0.000000\n",
       "user_activity_var_3      0.000000\n",
       "user_activity_var_4      0.000000\n",
       "user_activity_var_5      0.000000\n",
       "user_activity_var_6      0.000000\n",
       "user_activity_var_7      0.000000\n",
       "user_activity_var_8      0.000000\n",
       "user_activity_var_9      0.000000\n",
       "user_activity_var_10     0.000000\n",
       "user_activity_var_11     0.000000\n",
       "user_activity_var_12     0.000000\n",
       "buy                      0.000000\n",
       "dtype: float64"
      ]
     },
     "execution_count": 6,
     "metadata": {},
     "output_type": "execute_result"
    }
   ],
   "source": [
    "# Check for percentage of missing values\n",
    "train.isnull().sum()/train.shape[0] * 100"
   ]
  },
  {
   "cell_type": "markdown",
   "id": "08b05a4c",
   "metadata": {},
   "source": [
    "**products_purchased has 53.4 % of missing values whereas signup_date has 38.6% missing values**\n",
    "**Let us see how to take care of them.**"
   ]
  },
  {
   "cell_type": "code",
   "execution_count": 4,
   "id": "1123c56e",
   "metadata": {},
   "outputs": [
    {
     "data": {
      "text/html": [
       "<div>\n",
       "<style scoped>\n",
       "    .dataframe tbody tr th:only-of-type {\n",
       "        vertical-align: middle;\n",
       "    }\n",
       "\n",
       "    .dataframe tbody tr th {\n",
       "        vertical-align: top;\n",
       "    }\n",
       "\n",
       "    .dataframe thead th {\n",
       "        text-align: right;\n",
       "    }\n",
       "</style>\n",
       "<table border=\"1\" class=\"dataframe\">\n",
       "  <thead>\n",
       "    <tr style=\"text-align: right;\">\n",
       "      <th></th>\n",
       "      <th>id</th>\n",
       "      <th>created_at</th>\n",
       "      <th>campaign_var_1</th>\n",
       "      <th>campaign_var_2</th>\n",
       "      <th>products_purchased</th>\n",
       "      <th>signup_date</th>\n",
       "      <th>user_activity_var_1</th>\n",
       "      <th>user_activity_var_2</th>\n",
       "      <th>user_activity_var_3</th>\n",
       "      <th>user_activity_var_4</th>\n",
       "      <th>user_activity_var_5</th>\n",
       "      <th>user_activity_var_6</th>\n",
       "      <th>user_activity_var_7</th>\n",
       "      <th>user_activity_var_8</th>\n",
       "      <th>user_activity_var_9</th>\n",
       "      <th>user_activity_var_10</th>\n",
       "      <th>user_activity_var_11</th>\n",
       "      <th>user_activity_var_12</th>\n",
       "      <th>buy</th>\n",
       "    </tr>\n",
       "  </thead>\n",
       "  <tbody>\n",
       "    <tr>\n",
       "      <th>0</th>\n",
       "      <td>1</td>\n",
       "      <td>2021-01-01</td>\n",
       "      <td>1</td>\n",
       "      <td>2</td>\n",
       "      <td>2.0</td>\n",
       "      <td>2020-09-24</td>\n",
       "      <td>0</td>\n",
       "      <td>0</td>\n",
       "      <td>0</td>\n",
       "      <td>0</td>\n",
       "      <td>0</td>\n",
       "      <td>0</td>\n",
       "      <td>1</td>\n",
       "      <td>1</td>\n",
       "      <td>0</td>\n",
       "      <td>0</td>\n",
       "      <td>0</td>\n",
       "      <td>0</td>\n",
       "      <td>0</td>\n",
       "    </tr>\n",
       "    <tr>\n",
       "      <th>1</th>\n",
       "      <td>2</td>\n",
       "      <td>2021-01-01</td>\n",
       "      <td>2</td>\n",
       "      <td>1</td>\n",
       "      <td>2.0</td>\n",
       "      <td>2020-09-19</td>\n",
       "      <td>1</td>\n",
       "      <td>0</td>\n",
       "      <td>1</td>\n",
       "      <td>0</td>\n",
       "      <td>0</td>\n",
       "      <td>0</td>\n",
       "      <td>1</td>\n",
       "      <td>0</td>\n",
       "      <td>0</td>\n",
       "      <td>0</td>\n",
       "      <td>0</td>\n",
       "      <td>0</td>\n",
       "      <td>0</td>\n",
       "    </tr>\n",
       "    <tr>\n",
       "      <th>2</th>\n",
       "      <td>3</td>\n",
       "      <td>2021-01-01</td>\n",
       "      <td>9</td>\n",
       "      <td>3</td>\n",
       "      <td>3.0</td>\n",
       "      <td>2021-08-11</td>\n",
       "      <td>1</td>\n",
       "      <td>0</td>\n",
       "      <td>0</td>\n",
       "      <td>0</td>\n",
       "      <td>0</td>\n",
       "      <td>0</td>\n",
       "      <td>0</td>\n",
       "      <td>0</td>\n",
       "      <td>0</td>\n",
       "      <td>0</td>\n",
       "      <td>0</td>\n",
       "      <td>0</td>\n",
       "      <td>0</td>\n",
       "    </tr>\n",
       "    <tr>\n",
       "      <th>3</th>\n",
       "      <td>4</td>\n",
       "      <td>2021-01-01</td>\n",
       "      <td>6</td>\n",
       "      <td>7</td>\n",
       "      <td>2.0</td>\n",
       "      <td>2017-10-04</td>\n",
       "      <td>0</td>\n",
       "      <td>0</td>\n",
       "      <td>0</td>\n",
       "      <td>0</td>\n",
       "      <td>0</td>\n",
       "      <td>0</td>\n",
       "      <td>0</td>\n",
       "      <td>0</td>\n",
       "      <td>0</td>\n",
       "      <td>0</td>\n",
       "      <td>0</td>\n",
       "      <td>0</td>\n",
       "      <td>0</td>\n",
       "    </tr>\n",
       "    <tr>\n",
       "      <th>4</th>\n",
       "      <td>5</td>\n",
       "      <td>2021-01-01</td>\n",
       "      <td>4</td>\n",
       "      <td>6</td>\n",
       "      <td>NaN</td>\n",
       "      <td>2020-06-08</td>\n",
       "      <td>0</td>\n",
       "      <td>0</td>\n",
       "      <td>0</td>\n",
       "      <td>0</td>\n",
       "      <td>0</td>\n",
       "      <td>0</td>\n",
       "      <td>1</td>\n",
       "      <td>0</td>\n",
       "      <td>0</td>\n",
       "      <td>0</td>\n",
       "      <td>1</td>\n",
       "      <td>0</td>\n",
       "      <td>0</td>\n",
       "    </tr>\n",
       "  </tbody>\n",
       "</table>\n",
       "</div>"
      ],
      "text/plain": [
       "   id  created_at  campaign_var_1  campaign_var_2  products_purchased  \\\n",
       "0   1  2021-01-01               1               2                 2.0   \n",
       "1   2  2021-01-01               2               1                 2.0   \n",
       "2   3  2021-01-01               9               3                 3.0   \n",
       "3   4  2021-01-01               6               7                 2.0   \n",
       "4   5  2021-01-01               4               6                 NaN   \n",
       "\n",
       "  signup_date  user_activity_var_1  user_activity_var_2  user_activity_var_3  \\\n",
       "0  2020-09-24                    0                    0                    0   \n",
       "1  2020-09-19                    1                    0                    1   \n",
       "2  2021-08-11                    1                    0                    0   \n",
       "3  2017-10-04                    0                    0                    0   \n",
       "4  2020-06-08                    0                    0                    0   \n",
       "\n",
       "   user_activity_var_4  user_activity_var_5  user_activity_var_6  \\\n",
       "0                    0                    0                    0   \n",
       "1                    0                    0                    0   \n",
       "2                    0                    0                    0   \n",
       "3                    0                    0                    0   \n",
       "4                    0                    0                    0   \n",
       "\n",
       "   user_activity_var_7  user_activity_var_8  user_activity_var_9  \\\n",
       "0                    1                    1                    0   \n",
       "1                    1                    0                    0   \n",
       "2                    0                    0                    0   \n",
       "3                    0                    0                    0   \n",
       "4                    1                    0                    0   \n",
       "\n",
       "   user_activity_var_10  user_activity_var_11  user_activity_var_12  buy  \n",
       "0                     0                     0                     0    0  \n",
       "1                     0                     0                     0    0  \n",
       "2                     0                     0                     0    0  \n",
       "3                     0                     0                     0    0  \n",
       "4                     0                     1                     0    0  "
      ]
     },
     "execution_count": 4,
     "metadata": {},
     "output_type": "execute_result"
    }
   ],
   "source": [
    "train.head()"
   ]
  },
  {
   "cell_type": "code",
   "execution_count": 7,
   "id": "94221482",
   "metadata": {},
   "outputs": [
    {
     "data": {
      "text/plain": [
       "0    94.897985\n",
       "1     5.102015\n",
       "Name: buy, dtype: float64"
      ]
     },
     "execution_count": 7,
     "metadata": {},
     "output_type": "execute_result"
    }
   ],
   "source": [
    "# Percentage of Class 0(Not) and Class 1(User will buy the product)\n",
    "train['buy'].value_counts(normalize=True)*100"
   ]
  },
  {
   "cell_type": "code",
   "execution_count": 8,
   "id": "c88d6b09",
   "metadata": {},
   "outputs": [
    {
     "data": {
      "text/plain": [
       "<AxesSubplot:xlabel='buy', ylabel='count'>"
      ]
     },
     "execution_count": 8,
     "metadata": {},
     "output_type": "execute_result"
    },
    {
     "data": {
      "image/png": "[encoded data removed]",
      "text/plain": [
       "<Figure size 432x288 with 1 Axes>"
      ]
     },
     "metadata": {
      "needs_background": "light"
     },
     "output_type": "display_data"
    }
   ],
   "source": [
    "sns.countplot(x='buy',data=train)"
   ]
  },
  {
   "cell_type": "markdown",
   "id": "1ef111a6",
   "metadata": {},
   "source": [
    "**Dataset is highly imbalanced as only 5% of the records say that user buys the product.Model will not be able to predict the minority class properly if we donot take necessary steps**\n",
    "\n",
    "**Let us look at the independent variables**"
   ]
  },
  {
   "cell_type": "code",
   "execution_count": 15,
   "id": "92255999",
   "metadata": {},
   "outputs": [
    {
     "data": {
      "text/plain": [
       "<AxesSubplot:xlabel='user_activity_var_4', ylabel='count'>"
      ]
     },
     "execution_count": 15,
     "metadata": {},
     "output_type": "execute_result"
    },
    {
     "data": {
      "image/png": "[encoded data removed]",
      "text/plain": [
       "<Figure size 432x288 with 1 Axes>"
      ]
     },
     "metadata": {
      "needs_background": "light"
     },
     "output_type": "display_data"
    }
   ],
   "source": [
    "sns.countplot(x='user_activity_var_4',data=train)"
   ]
  },
  {
   "cell_type": "markdown",
   "id": "f1d440e2",
   "metadata": {},
   "source": [
    "**For products_purchased column, the reason for missing values might be products not purchased at all. So, Instead of imputing with mode or Dropping the records which will result in losing information or any other techniques,just replace missing values with 0.** "
   ]
  },
  {
   "cell_type": "code",
   "execution_count": 17,
   "id": "9903dacc",
   "metadata": {},
   "outputs": [],
   "source": [
    "#Creating a copy\n",
    "train1 = train.copy()\n",
    "test1 = test.copy()\n",
    "dataset = [train1,test1]\n",
    "for i in dataset:\n",
    "    i['products_purchased'].fillna(0,inplace=True)\n",
    "  "
   ]
  },
  {
   "cell_type": "code",
   "execution_count": 18,
   "id": "d925fe02",
   "metadata": {},
   "outputs": [
    {
     "data": {
      "text/plain": [
       "id                          0\n",
       "created_at                  0\n",
       "campaign_var_1              0\n",
       "campaign_var_2              0\n",
       "products_purchased          0\n",
       "signup_date             15113\n",
       "user_activity_var_1         0\n",
       "user_activity_var_2         0\n",
       "user_activity_var_3         0\n",
       "user_activity_var_4         0\n",
       "user_activity_var_5         0\n",
       "user_activity_var_6         0\n",
       "user_activity_var_7         0\n",
       "user_activity_var_8         0\n",
       "user_activity_var_9         0\n",
       "user_activity_var_10        0\n",
       "user_activity_var_11        0\n",
       "user_activity_var_12        0\n",
       "buy                         0\n",
       "dtype: int64"
      ]
     },
     "execution_count": 18,
     "metadata": {},
     "output_type": "execute_result"
    }
   ],
   "source": [
    "#Check again\n",
    "train1.isnull().sum()  "
   ]
  },
  {
   "cell_type": "code",
   "execution_count": 19,
   "id": "63fab013",
   "metadata": {},
   "outputs": [
    {
     "data": {
      "text/plain": [
       "id                         0\n",
       "created_at                 0\n",
       "campaign_var_1             0\n",
       "campaign_var_2             0\n",
       "products_purchased         0\n",
       "signup_date             6649\n",
       "user_activity_var_1        0\n",
       "user_activity_var_2        0\n",
       "user_activity_var_3        0\n",
       "user_activity_var_4        0\n",
       "user_activity_var_5        0\n",
       "user_activity_var_6        0\n",
       "user_activity_var_7        0\n",
       "user_activity_var_8        0\n",
       "user_activity_var_9        0\n",
       "user_activity_var_10       0\n",
       "user_activity_var_11       0\n",
       "user_activity_var_12       0\n",
       "dtype: int64"
      ]
     },
     "execution_count": 19,
     "metadata": {},
     "output_type": "execute_result"
    }
   ],
   "source": [
    "test1.isnull().sum()"
   ]
  },
  {
   "cell_type": "markdown",
   "id": "c276dcef",
   "metadata": {},
   "source": [
    "**We can check the relation between the independent variables and the target variable**"
   ]
  },
  {
   "cell_type": "code",
   "execution_count": 32,
   "id": "0bae05b8",
   "metadata": {},
   "outputs": [
    {
     "data": {
      "text/plain": [
       "<AxesSubplot:xlabel='products_purchased'>"
      ]
     },
     "execution_count": 32,
     "metadata": {},
     "output_type": "execute_result"
    },
    {
     "data": {
      "image/png": "[encoded data removed]",
      "text/plain": [
       "<Figure size 432x288 with 1 Axes>"
      ]
     },
     "metadata": {
      "needs_background": "light"
     },
     "output_type": "display_data"
    }
   ],
   "source": [
    "pd.crosstab(train1['products_purchased'], train1['buy'],normalize=True).plot(kind='bar')"
   ]
  },
  {
   "cell_type": "code",
   "execution_count": 27,
   "id": "b1eca391",
   "metadata": {},
   "outputs": [
    {
     "data": {
      "text/plain": [
       "2021-12-26    181\n",
       "2021-12-09    180\n",
       "2021-12-21    179\n",
       "2021-12-07    179\n",
       "2021-12-04    178\n",
       "             ... \n",
       "2021-01-07     34\n",
       "2021-01-14     33\n",
       "2021-01-06     29\n",
       "2021-01-22     26\n",
       "2021-01-01     21\n",
       "Name: created_at, Length: 365, dtype: int64"
      ]
     },
     "execution_count": 27,
     "metadata": {},
     "output_type": "execute_result"
    }
   ],
   "source": [
    "#Check if there are unique dates\n",
    "train1.created_at.value_counts()"
   ]
  },
  {
   "cell_type": "code",
   "execution_count": 31,
   "id": "1ff1f512",
   "metadata": {},
   "outputs": [
    {
     "data": {
      "text/plain": [
       "<AxesSubplot:xlabel='campaign_var_1'>"
      ]
     },
     "execution_count": 31,
     "metadata": {},
     "output_type": "execute_result"
    },
    {
     "data": {
      "image/png": "[encoded data removed]",
      "text/plain": [
       "<Figure size 432x288 with 1 Axes>"
      ]
     },
     "metadata": {
      "needs_background": "light"
     },
     "output_type": "display_data"
    }
   ],
   "source": [
    "pd.crosstab(train1['campaign_var_1'], train1['buy'],margins=False).plot(kind='bar')"
   ]
  },
  {
   "cell_type": "code",
   "execution_count": 33,
   "id": "65d880b1",
   "metadata": {},
   "outputs": [
    {
     "data": {
      "text/plain": [
       "<AxesSubplot:xlabel='campaign_var_2'>"
      ]
     },
     "execution_count": 33,
     "metadata": {},
     "output_type": "execute_result"
    },
    {
     "data": {
      "image/png": "[encoded data removed]",
      "text/plain": [
       "<Figure size 432x288 with 1 Axes>"
      ]
     },
     "metadata": {
      "needs_background": "light"
     },
     "output_type": "display_data"
    }
   ],
   "source": [
    "pd.crosstab(train1['campaign_var_2'], train1['buy'],margins=False).plot(kind='bar')"
   ]
  },
  {
   "cell_type": "code",
   "execution_count": 35,
   "id": "653896dc",
   "metadata": {},
   "outputs": [
    {
     "data": {
      "text/plain": [
       "0        2020-09-24\n",
       "1        2020-09-19\n",
       "2        2021-08-11\n",
       "3        2017-10-04\n",
       "4        2020-06-08\n",
       "            ...    \n",
       "39156    2017-10-19\n",
       "39157           NaN\n",
       "39158           NaN\n",
       "39159           NaN\n",
       "39160    2019-08-11\n",
       "Name: signup_date, Length: 39161, dtype: object"
      ]
     },
     "execution_count": 35,
     "metadata": {},
     "output_type": "execute_result"
    }
   ],
   "source": [
    "train1['signup_date']"
   ]
  },
  {
   "cell_type": "markdown",
   "id": "d4a53edf",
   "metadata": {},
   "source": [
    "**There are missing values in the signup_date column.It can be imputed with mode or using ffill or bfill method.\n",
    "Here,I have used bfill for train data and ffill for test data**"
   ]
  },
  {
   "cell_type": "code",
   "execution_count": 36,
   "id": "e72c2061",
   "metadata": {},
   "outputs": [],
   "source": [
    "train1['signup_date'].bfill(inplace=True)"
   ]
  },
  {
   "cell_type": "code",
   "execution_count": 39,
   "id": "5ac2fcce",
   "metadata": {},
   "outputs": [],
   "source": [
    "test1['signup_date'].ffill(inplace=True)"
   ]
  },
  {
   "cell_type": "code",
   "execution_count": 40,
   "id": "9e173e89",
   "metadata": {},
   "outputs": [
    {
     "data": {
      "text/plain": [
       "id                      0\n",
       "created_at              0\n",
       "campaign_var_1          0\n",
       "campaign_var_2          0\n",
       "products_purchased      0\n",
       "signup_date             0\n",
       "user_activity_var_1     0\n",
       "user_activity_var_2     0\n",
       "user_activity_var_3     0\n",
       "user_activity_var_4     0\n",
       "user_activity_var_5     0\n",
       "user_activity_var_6     0\n",
       "user_activity_var_7     0\n",
       "user_activity_var_8     0\n",
       "user_activity_var_9     0\n",
       "user_activity_var_10    0\n",
       "user_activity_var_11    0\n",
       "user_activity_var_12    0\n",
       "dtype: int64"
      ]
     },
     "execution_count": 40,
     "metadata": {},
     "output_type": "execute_result"
    }
   ],
   "source": [
    "#Check again as there are chances the missing values still present if using bfill or ffill.\n",
    "test1.isnull().sum()"
   ]
  },
  {
   "cell_type": "code",
   "execution_count": 41,
   "id": "bcd1fbec",
   "metadata": {},
   "outputs": [
    {
     "data": {
      "text/plain": [
       "id                      0\n",
       "created_at              0\n",
       "campaign_var_1          0\n",
       "campaign_var_2          0\n",
       "products_purchased      0\n",
       "signup_date             0\n",
       "user_activity_var_1     0\n",
       "user_activity_var_2     0\n",
       "user_activity_var_3     0\n",
       "user_activity_var_4     0\n",
       "user_activity_var_5     0\n",
       "user_activity_var_6     0\n",
       "user_activity_var_7     0\n",
       "user_activity_var_8     0\n",
       "user_activity_var_9     0\n",
       "user_activity_var_10    0\n",
       "user_activity_var_11    0\n",
       "user_activity_var_12    0\n",
       "buy                     0\n",
       "dtype: int64"
      ]
     },
     "execution_count": 41,
     "metadata": {},
     "output_type": "execute_result"
    }
   ],
   "source": [
    "train1.isnull().sum()"
   ]
  },
  {
   "cell_type": "code",
   "execution_count": 42,
   "id": "62d918ba",
   "metadata": {},
   "outputs": [],
   "source": [
    "dataset=[train1,test1]\n",
    "for i in dataset:\n",
    "    i['created_at'] = pd.to_datetime(i['created_at'])\n",
    "    i['signup_date']= pd.to_datetime(i['signup_date'])"
   ]
  },
  {
   "cell_type": "code",
   "execution_count": 43,
   "id": "a08b8679",
   "metadata": {},
   "outputs": [
    {
     "name": "stdout",
     "output_type": "stream",
     "text": [
      "<class 'pandas.core.frame.DataFrame'>\n",
      "RangeIndex: 39161 entries, 0 to 39160\n",
      "Data columns (total 19 columns):\n",
      " #   Column                Non-Null Count  Dtype         \n",
      "---  ------                --------------  -----         \n",
      " 0   id                    39161 non-null  int64         \n",
      " 1   created_at            39161 non-null  datetime64[ns]\n",
      " 2   campaign_var_1        39161 non-null  int64         \n",
      " 3   campaign_var_2        39161 non-null  int64         \n",
      " 4   products_purchased    39161 non-null  float64       \n",
      " 5   signup_date           39161 non-null  datetime64[ns]\n",
      " 6   user_activity_var_1   39161 non-null  int64         \n",
      " 7   user_activity_var_2   39161 non-null  int64         \n",
      " 8   user_activity_var_3   39161 non-null  int64         \n",
      " 9   user_activity_var_4   39161 non-null  int64         \n",
      " 10  user_activity_var_5   39161 non-null  int64         \n",
      " 11  user_activity_var_6   39161 non-null  int64         \n",
      " 12  user_activity_var_7   39161 non-null  int64         \n",
      " 13  user_activity_var_8   39161 non-null  int64         \n",
      " 14  user_activity_var_9   39161 non-null  int64         \n",
      " 15  user_activity_var_10  39161 non-null  int64         \n",
      " 16  user_activity_var_11  39161 non-null  int64         \n",
      " 17  user_activity_var_12  39161 non-null  int64         \n",
      " 18  buy                   39161 non-null  int64         \n",
      "dtypes: datetime64[ns](2), float64(1), int64(16)\n",
      "memory usage: 5.7 MB\n"
     ]
    }
   ],
   "source": [
    "#check if converted to datetime format\n",
    "train1.info()"
   ]
  },
  {
   "cell_type": "code",
   "execution_count": 44,
   "id": "6f78f927",
   "metadata": {},
   "outputs": [],
   "source": [
    "dataset=[train1,test1]\n",
    "for i in dataset:\n",
    "    i['created_at_day'] = i['created_at'].dt.day\n",
    "    i['created_at_month'] = i['created_at'].dt.month\n",
    "    i['signup_date_year'] = i['signup_date'].dt.year\n",
    "    i['signup_date_month'] = i['signup_date'].dt.month\n",
    "    i['signup_date_day'] = i['signup_date'].dt.day"
   ]
  },
  {
   "cell_type": "code",
   "execution_count": 45,
   "id": "8365d12a",
   "metadata": {},
   "outputs": [
    {
     "name": "stdout",
     "output_type": "stream",
     "text": [
      "<class 'pandas.core.frame.DataFrame'>\n",
      "RangeIndex: 39161 entries, 0 to 39160\n",
      "Data columns (total 24 columns):\n",
      " #   Column                Non-Null Count  Dtype         \n",
      "---  ------                --------------  -----         \n",
      " 0   id                    39161 non-null  int64         \n",
      " 1   created_at            39161 non-null  datetime64[ns]\n",
      " 2   campaign_var_1        39161 non-null  int64         \n",
      " 3   campaign_var_2        39161 non-null  int64         \n",
      " 4   products_purchased    39161 non-null  float64       \n",
      " 5   signup_date           39161 non-null  datetime64[ns]\n",
      " 6   user_activity_var_1   39161 non-null  int64         \n",
      " 7   user_activity_var_2   39161 non-null  int64         \n",
      " 8   user_activity_var_3   39161 non-null  int64         \n",
      " 9   user_activity_var_4   39161 non-null  int64         \n",
      " 10  user_activity_var_5   39161 non-null  int64         \n",
      " 11  user_activity_var_6   39161 non-null  int64         \n",
      " 12  user_activity_var_7   39161 non-null  int64         \n",
      " 13  user_activity_var_8   39161 non-null  int64         \n",
      " 14  user_activity_var_9   39161 non-null  int64         \n",
      " 15  user_activity_var_10  39161 non-null  int64         \n",
      " 16  user_activity_var_11  39161 non-null  int64         \n",
      " 17  user_activity_var_12  39161 non-null  int64         \n",
      " 18  buy                   39161 non-null  int64         \n",
      " 19  created_at_day        39161 non-null  int64         \n",
      " 20  created_at_month      39161 non-null  int64         \n",
      " 21  signup_date_year      39161 non-null  int64         \n",
      " 22  signup_date_month     39161 non-null  int64         \n",
      " 23  signup_date_day       39161 non-null  int64         \n",
      "dtypes: datetime64[ns](2), float64(1), int64(21)\n",
      "memory usage: 7.2 MB\n"
     ]
    }
   ],
   "source": [
    "train1.info()"
   ]
  },
  {
   "cell_type": "code",
   "execution_count": 46,
   "id": "dceaf77a",
   "metadata": {},
   "outputs": [],
   "source": [
    "#Drop the signup_date and created_at columns as they are not needed anymore\n",
    "dataset=[train1,test1]\n",
    "for i in dataset:\n",
    "     i.drop(columns=['signup_date','created_at'],inplace=True)"
   ]
  },
  {
   "cell_type": "code",
   "execution_count": 47,
   "id": "9e2e0dec",
   "metadata": {},
   "outputs": [
    {
     "name": "stdout",
     "output_type": "stream",
     "text": [
      "<class 'pandas.core.frame.DataFrame'>\n",
      "RangeIndex: 39161 entries, 0 to 39160\n",
      "Data columns (total 22 columns):\n",
      " #   Column                Non-Null Count  Dtype  \n",
      "---  ------                --------------  -----  \n",
      " 0   id                    39161 non-null  int64  \n",
      " 1   campaign_var_1        39161 non-null  int64  \n",
      " 2   campaign_var_2        39161 non-null  int64  \n",
      " 3   products_purchased    39161 non-null  float64\n",
      " 4   user_activity_var_1   39161 non-null  int64  \n",
      " 5   user_activity_var_2   39161 non-null  int64  \n",
      " 6   user_activity_var_3   39161 non-null  int64  \n",
      " 7   user_activity_var_4   39161 non-null  int64  \n",
      " 8   user_activity_var_5   39161 non-null  int64  \n",
      " 9   user_activity_var_6   39161 non-null  int64  \n",
      " 10  user_activity_var_7   39161 non-null  int64  \n",
      " 11  user_activity_var_8   39161 non-null  int64  \n",
      " 12  user_activity_var_9   39161 non-null  int64  \n",
      " 13  user_activity_var_10  39161 non-null  int64  \n",
      " 14  user_activity_var_11  39161 non-null  int64  \n",
      " 15  user_activity_var_12  39161 non-null  int64  \n",
      " 16  buy                   39161 non-null  int64  \n",
      " 17  created_at_day        39161 non-null  int64  \n",
      " 18  created_at_month      39161 non-null  int64  \n",
      " 19  signup_date_year      39161 non-null  int64  \n",
      " 20  signup_date_month     39161 non-null  int64  \n",
      " 21  signup_date_day       39161 non-null  int64  \n",
      "dtypes: float64(1), int64(21)\n",
      "memory usage: 6.6 MB\n"
     ]
    }
   ],
   "source": [
    "train1.info()"
   ]
  },
  {
   "cell_type": "code",
   "execution_count": 50,
   "id": "369e5be2",
   "metadata": {},
   "outputs": [],
   "source": [
    "#Change products_purchased to int\n",
    "dataset=[train1,test1]\n",
    "for i in dataset:\n",
    "    i['products_purchased'] = i['products_purchased'].astype('int64')"
   ]
  },
  {
   "cell_type": "code",
   "execution_count": 51,
   "id": "9c7db4c2",
   "metadata": {},
   "outputs": [
    {
     "name": "stdout",
     "output_type": "stream",
     "text": [
      "<class 'pandas.core.frame.DataFrame'>\n",
      "RangeIndex: 39161 entries, 0 to 39160\n",
      "Data columns (total 22 columns):\n",
      " #   Column                Non-Null Count  Dtype\n",
      "---  ------                --------------  -----\n",
      " 0   id                    39161 non-null  int64\n",
      " 1   campaign_var_1        39161 non-null  int64\n",
      " 2   campaign_var_2        39161 non-null  int64\n",
      " 3   products_purchased    39161 non-null  int64\n",
      " 4   user_activity_var_1   39161 non-null  int64\n",
      " 5   user_activity_var_2   39161 non-null  int64\n",
      " 6   user_activity_var_3   39161 non-null  int64\n",
      " 7   user_activity_var_4   39161 non-null  int64\n",
      " 8   user_activity_var_5   39161 non-null  int64\n",
      " 9   user_activity_var_6   39161 non-null  int64\n",
      " 10  user_activity_var_7   39161 non-null  int64\n",
      " 11  user_activity_var_8   39161 non-null  int64\n",
      " 12  user_activity_var_9   39161 non-null  int64\n",
      " 13  user_activity_var_10  39161 non-null  int64\n",
      " 14  user_activity_var_11  39161 non-null  int64\n",
      " 15  user_activity_var_12  39161 non-null  int64\n",
      " 16  buy                   39161 non-null  int64\n",
      " 17  created_at_day        39161 non-null  int64\n",
      " 18  created_at_month      39161 non-null  int64\n",
      " 19  signup_date_year      39161 non-null  int64\n",
      " 20  signup_date_month     39161 non-null  int64\n",
      " 21  signup_date_day       39161 non-null  int64\n",
      "dtypes: int64(22)\n",
      "memory usage: 6.6 MB\n"
     ]
    }
   ],
   "source": [
    "train1.info()"
   ]
  },
  {
   "cell_type": "code",
   "execution_count": 52,
   "id": "8a10d3ca",
   "metadata": {},
   "outputs": [],
   "source": [
    "#Split into X(independent features) and y(target variable)\n",
    "#Drop id variable as it doesnot help in prediction\n",
    "X = train1.drop(columns=['id','buy'],axis=1)\n",
    "y = train1['buy']"
   ]
  },
  {
   "cell_type": "code",
   "execution_count": 53,
   "id": "745c3122",
   "metadata": {},
   "outputs": [],
   "source": [
    "#Even in test data remove id column\n",
    "dftest1 = test1.drop('id',axis=1)"
   ]
  },
  {
   "cell_type": "code",
   "execution_count": 54,
   "id": "7e4254b5",
   "metadata": {},
   "outputs": [],
   "source": [
    "#Apply standardscaler method\n",
    "sc = StandardScaler()\n",
    "for col in X.columns:\n",
    "    X[col] = sc.fit_transform(X[col].values.reshape(-1,1))"
   ]
  },
  {
   "cell_type": "code",
   "execution_count": 55,
   "id": "503ec9b4",
   "metadata": {},
   "outputs": [],
   "source": [
    "for col in dftest1.columns:\n",
    "    dftest1[col] = sc.fit_transform(dftest1[col].values.reshape(-1,1))"
   ]
  },
  {
   "cell_type": "markdown",
   "id": "e543e227",
   "metadata": {},
   "source": [
    "**Have tried the following methods**\n",
    "\n",
    "- Split into train and test with stratify=y\n",
    "- Tried SMOTE on train data\n",
    "- Compared the classifiers - DecisionTree Classifier,RandomForest Classifier,XGBoost,CatBoost and lightGBM\n",
    "- Also applied hyperparameter tuning - GridsearchCV and RandomizedSearchCV\n",
    "- Compared StratifiedKFold,RepeatedStratifiedKFold,StratifiedShuffleSplit with splits-10 -Not much difference in the results\n",
    "- Finally Stratified K fold sampling with Random Forest classifier model along with certain hyperparameters gave the best result"
   ]
  },
  {
   "cell_type": "code",
   "execution_count": 83,
   "id": "3e57fc39",
   "metadata": {},
   "outputs": [],
   "source": [
    "skf = StratifiedShuffleSplit(n_splits=10)\n",
    "model = RandomForestClassifier(max_depth=14, max_features='log2', n_estimators=41)\n",
    "def training(train, test, fold_no):\n",
    "    x_train = train.drop(['id','buy'],axis=1)\n",
    "    y_train = train.buy\n",
    "    x_test = test.drop(['id','buy'],axis=1)\n",
    "    y_test = test.buy\n",
    "    model.fit(x_train, y_train)\n",
    "    y_pred = model.predict(x_test)\n",
    "    score = model.score(x_test,y_test)\n",
    "    print('For Fold {} the accuracy is {}'.format(str(fold_no),score))\n",
    "    print(f'f1 score is {f1_score(y_test,y_pred)}')"
   ]
  },
  {
   "cell_type": "code",
   "execution_count": 74,
   "id": "07fd3b30",
   "metadata": {},
   "outputs": [
    {
     "name": "stdout",
     "output_type": "stream",
     "text": [
      "For Fold 1 the accuracy is 0.9767679346438601\n",
      "f1 score is 0.7129337539432177\n",
      "For Fold 2 the accuracy is 0.9757467449578759\n",
      "f1 score is 0.6964856230031949\n",
      "For Fold 3 the accuracy is 0.9780444217513403\n",
      "f1 score is 0.7345679012345679\n",
      "For Fold 4 the accuracy is 0.976512637222364\n",
      "f1 score is 0.7051282051282052\n",
      "For Fold 5 the accuracy is 0.9721725810569313\n",
      "f1 score is 0.6378737541528239\n",
      "For Fold 6 the accuracy is 0.9770232320653561\n",
      "f1 score is 0.7169811320754716\n",
      "For Fold 7 the accuracy is 0.976512637222364\n",
      "f1 score is 0.7088607594936709\n",
      "For Fold 8 the accuracy is 0.9770232320653561\n",
      "f1 score is 0.7204968944099378\n",
      "For Fold 9 the accuracy is 0.976257339800868\n",
      "f1 score is 0.7028753993610224\n",
      "For Fold 10 the accuracy is 0.9742149604288997\n",
      "f1 score is 0.6731391585760519\n"
     ]
    }
   ],
   "source": [
    "fold_no = 1\n",
    "for train_index,test_index in skf.split(X, y):\n",
    "    train = train1.iloc[train_index,:]\n",
    "    test = train1.iloc[test_index,:]\n",
    "    training(train, test, fold_no)\n",
    "    fold_no += 1\n"
   ]
  },
  {
   "cell_type": "code",
   "execution_count": 75,
   "id": "b100f746",
   "metadata": {},
   "outputs": [
    {
     "data": {
      "text/plain": [
       "array([1, 0, 1, ..., 0, 1, 1], dtype=int64)"
      ]
     },
     "execution_count": 75,
     "metadata": {},
     "output_type": "execute_result"
    }
   ],
   "source": [
    "target = model.predict(dftest1)\n",
    "target"
   ]
  },
  {
   "cell_type": "code",
   "execution_count": 76,
   "id": "309af8cf",
   "metadata": {},
   "outputs": [
    {
     "data": {
      "text/plain": [
       "Index(['id', 'campaign_var_1', 'campaign_var_2', 'products_purchased',\n",
       "       'user_activity_var_1', 'user_activity_var_2', 'user_activity_var_3',\n",
       "       'user_activity_var_4', 'user_activity_var_5', 'user_activity_var_6',\n",
       "       'user_activity_var_7', 'user_activity_var_8', 'user_activity_var_9',\n",
       "       'user_activity_var_10', 'user_activity_var_11', 'user_activity_var_12',\n",
       "       'created_at_day', 'created_at_month', 'signup_date_year',\n",
       "       'signup_date_month', 'signup_date_day'],\n",
       "      dtype='object')"
      ]
     },
     "execution_count": 76,
     "metadata": {},
     "output_type": "execute_result"
    }
   ],
   "source": [
    "test1.columns"
   ]
  },
  {
   "cell_type": "code",
   "execution_count": 77,
   "id": "498ed0e0",
   "metadata": {},
   "outputs": [],
   "source": [
    "res = pd.DataFrame(target) #the final predictions of model on input features of new unseen test data\n",
    "res.index = test1.id # its important for comparison. Here \"new_test_data\" is the new test dataset\n",
    "res.columns = [\"buy\"]\n",
    "res.to_csv(\"prediction.csv\") "
   ]
  },
  {
   "cell_type": "code",
   "execution_count": null,
   "id": "c9ec7508",
   "metadata": {},
   "outputs": [],
   "source": [
    "#end of notebook"
   ]
  }
 ],
 "metadata": {
  "kernelspec": {
   "display_name": "Python 3",
   "language": "python",
   "name": "python3"
  },
  "language_info": {
   "codemirror_mode": {
    "name": "ipython",
    "version": 3
   },
   "file_extension": ".py",
   "mimetype": "text/x-python",
   "name": "python",
   "nbconvert_exporter": "python",
   "pygments_lexer": "ipython3",
   "version": "3.8.8"
  }
 },
 "nbformat": 4,
 "nbformat_minor": 5
}
