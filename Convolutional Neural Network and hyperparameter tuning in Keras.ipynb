{
 "cells": [
  {
   "cell_type": "code",
   "execution_count": 1,
   "metadata": {
    "colab": {},
    "colab_type": "code",
    "id": "-JkenOoojxcW"
   },
   "outputs": [
    {
     "name": "stderr",
     "output_type": "stream",
     "text": [
      "UsageError: Line magic function `%tensorflow_version` not found.\n"
     ]
    }
   ],
   "source": [
    "%tensorflow_version 1.x"
   ]
  },
  {
   "cell_type": "markdown",
   "metadata": {
    "colab_type": "text",
    "id": "IxgcP-B3ejGc"
   },
   "source": [
    "# Steps to build CNN to solve Emergency vs Non-Emergency vehicle classification problem\n",
    "\n",
    "1. Loading the Dataset\n",
    "2. Pre-processing the Data\n",
    "3. Creating Training and Validation set\n",
    "4. Defining the Model Architecture\n",
    "5. Compiling the Model\n",
    "6. Training the Model\n",
    "7. Evaluating model performance"
   ]
  },
  {
   "cell_type": "markdown",
   "metadata": {
    "colab_type": "text",
    "id": "hNWck_ZahKLA"
   },
   "source": [
    "## 1. Loading the Dataset"
   ]
  },
  {
   "cell_type": "code",
   "execution_count": 2,
   "metadata": {
    "colab": {},
    "colab_type": "code",
    "id": "Kf2C4oSfhKLH"
   },
   "outputs": [
    {
     "name": "stderr",
     "output_type": "stream",
     "text": [
      "2023-11-28 15:25:40.244849: I external/local_tsl/tsl/cuda/cudart_stub.cc:31] Could not find cuda drivers on your machine, GPU will not be used.\n",
      "2023-11-28 15:25:40.286035: E external/local_xla/xla/stream_executor/cuda/cuda_dnn.cc:9261] Unable to register cuDNN factory: Attempting to register factory for plugin cuDNN when one has already been registered\n",
      "2023-11-28 15:25:40.286076: E external/local_xla/xla/stream_executor/cuda/cuda_fft.cc:607] Unable to register cuFFT factory: Attempting to register factory for plugin cuFFT when one has already been registered\n",
      "2023-11-28 15:25:40.287512: E external/local_xla/xla/stream_executor/cuda/cuda_blas.cc:1515] Unable to register cuBLAS factory: Attempting to register factory for plugin cuBLAS when one has already been registered\n",
      "2023-11-28 15:25:40.294628: I external/local_tsl/tsl/cuda/cudart_stub.cc:31] Could not find cuda drivers on your machine, GPU will not be used.\n",
      "2023-11-28 15:25:40.295329: I tensorflow/core/platform/cpu_feature_guard.cc:182] This TensorFlow binary is optimized to use available CPU instructions in performance-critical operations.\n",
      "To enable the following instructions: AVX2 FMA, in other operations, rebuild TensorFlow with the appropriate compiler flags.\n",
      "2023-11-28 15:25:41.009055: W tensorflow/compiler/tf2tensorrt/utils/py_utils.cc:38] TF-TRT Warning: Could not find TensorRT\n"
     ]
    }
   ],
   "source": [
    "# import necessary libraries and functions\n",
    "import numpy as np\n",
    "import pandas as pd\n",
    "import matplotlib.pyplot as plt\n",
    "%matplotlib inline\n",
    "\n",
    "# importing layers from keras\n",
    "from keras.layers import Dense, InputLayer, BatchNormalization, Dropout\n",
    "from keras.models import Sequential\n",
    "# importing adam optimizer from keras optimizer module \n",
    "from keras.optimizers import Adam\n",
    "\n",
    "# train_test_split to create training and validation set\n",
    "from sklearn.model_selection import train_test_split\n",
    "# accuracy_score to calculate the accuracy of predictions\n",
    "from sklearn.metrics import accuracy_score"
   ]
  },
  {
   "cell_type": "code",
   "execution_count": null,
   "metadata": {
    "colab": {
     "base_uri": "https://localhost:8080/",
     "height": 34
    },
    "colab_type": "code",
    "executionInfo": {
     "elapsed": 2209,
     "status": "ok",
     "timestamp": 1585229924282,
     "user": {
      "displayName": "Aishwarya Singh",
      "photoUrl": "https://lh3.googleusercontent.com/a-/AOh14GgeJwfn4BdBDCAplWi_kdtB9FRssOpXO7T_aMgg=s64",
      "userId": "01105858832371513140"
     },
     "user_tz": -330
    },
    "id": "x_VY_HZ5hm-z",
    "outputId": "cb2104ed-b655-4a40-92fa-95df6616dc13"
   },
   "outputs": [
    {
     "name": "stdout",
     "output_type": "stream",
     "text": [
      "Drive already mounted at /content/drive; to attempt to forcibly remount, call drive.mount(\"/content/drive\", force_remount=True).\n"
     ]
    }
   ],
   "source": [
    "from google.colab import drive\n",
    "drive.mount('/content/drive')"
   ]
  },
  {
   "cell_type": "code",
   "execution_count": null,
   "metadata": {
    "colab": {},
    "colab_type": "code",
    "id": "1bb6wmB1hmvk"
   },
   "outputs": [],
   "source": [
    "# unzipping the Dataset.zip file\n",
    "!unzip /content/drive/My\\ Drive/Dataset.zip"
   ]
  },
  {
   "cell_type": "code",
   "execution_count": 3,
   "metadata": {
    "colab": {},
    "colab_type": "code",
    "id": "ZCK0i2SAhKLa"
   },
   "outputs": [],
   "source": [
    "# create random number generator\n",
    "seed = 42"
   ]
  },
  {
   "cell_type": "code",
   "execution_count": 4,
   "metadata": {
    "colab": {},
    "colab_type": "code",
    "id": "_MKVrwevhKLk"
   },
   "outputs": [],
   "source": [
    "# reading the csv file\n",
    "data = pd.read_csv('Dataset/emergency_classification.csv')"
   ]
  },
  {
   "cell_type": "code",
   "execution_count": 5,
   "metadata": {
    "colab": {},
    "colab_type": "code",
    "id": "OUcBZmDLhKLt"
   },
   "outputs": [],
   "source": [
    "# load images and store it in numpy array\n",
    "\n",
    "# empty list to store the images\n",
    "X = []\n",
    "# iterating over each image\n",
    "for img_name in data.image_names:\n",
    "    # loading the image using its name\n",
    "    img = plt.imread('Dataset/images/' + img_name)\n",
    "    # saving each image in the list\n",
    "    X.append(img)\n",
    "    \n",
    "# converting the list of images into array\n",
    "X=np.array(X)\n",
    "\n",
    "# storing the target variable in separate variable\n",
    "y = data.emergency_or_not.values"
   ]
  },
  {
   "cell_type": "code",
   "execution_count": 6,
   "metadata": {
    "colab": {
     "base_uri": "https://localhost:8080/",
     "height": 34
    },
    "colab_type": "code",
    "executionInfo": {
     "elapsed": 3402,
     "status": "ok",
     "timestamp": 1585229944951,
     "user": {
      "displayName": "Aishwarya Singh",
      "photoUrl": "https://lh3.googleusercontent.com/a-/AOh14GgeJwfn4BdBDCAplWi_kdtB9FRssOpXO7T_aMgg=s64",
      "userId": "01105858832371513140"
     },
     "user_tz": -330
    },
    "id": "teJk4rIThKL2",
    "outputId": "504522ff-f061-48dd-815a-c92c19b5fde7"
   },
   "outputs": [
    {
     "data": {
      "text/plain": [
       "(2352, 224, 224, 3)"
      ]
     },
     "execution_count": 6,
     "metadata": {},
     "output_type": "execute_result"
    }
   ],
   "source": [
    "# shape of the images\n",
    "X.shape"
   ]
  },
  {
   "cell_type": "markdown",
   "metadata": {
    "colab_type": "text",
    "id": "nKxqxL45ijJX"
   },
   "source": [
    "## 2. Pre-processing the Data"
   ]
  },
  {
   "cell_type": "code",
   "execution_count": 7,
   "metadata": {
    "colab": {},
    "colab_type": "code",
    "id": "Ei6lZu3JFStn"
   },
   "outputs": [],
   "source": [
    "# since we are using CNN, we do not have to resize the images into 1D array. "
   ]
  },
  {
   "cell_type": "code",
   "execution_count": 8,
   "metadata": {
    "colab": {},
    "colab_type": "code",
    "id": "9HXsTHmJhKL_"
   },
   "outputs": [],
   "source": [
    "# normalizing the pixel values\n",
    "X = X / X.max()"
   ]
  },
  {
   "cell_type": "markdown",
   "metadata": {
    "colab_type": "text",
    "id": "WDM9Hjsiisyl"
   },
   "source": [
    "## 3. Creating Training and Validation set"
   ]
  },
  {
   "cell_type": "code",
   "execution_count": 9,
   "metadata": {
    "colab": {},
    "colab_type": "code",
    "id": "JIO9W5ihhKMF"
   },
   "outputs": [],
   "source": [
    "# creating a training and validation set\n",
    "X_train, X_valid, y_train, y_valid=train_test_split(X,y,test_size=0.3, random_state=seed)"
   ]
  },
  {
   "cell_type": "code",
   "execution_count": 10,
   "metadata": {
    "colab": {
     "base_uri": "https://localhost:8080/",
     "height": 34
    },
    "colab_type": "code",
    "executionInfo": {
     "elapsed": 648,
     "status": "ok",
     "timestamp": 1585230060706,
     "user": {
      "displayName": "Aishwarya Singh",
      "photoUrl": "https://lh3.googleusercontent.com/a-/AOh14GgeJwfn4BdBDCAplWi_kdtB9FRssOpXO7T_aMgg=s64",
      "userId": "01105858832371513140"
     },
     "user_tz": -330
    },
    "id": "66pP0PgXiz5U",
    "outputId": "392e292e-5d17-4b2e-eb53-a4a364bcae6f"
   },
   "outputs": [
    {
     "data": {
      "text/plain": [
       "(((1646, 224, 224, 3), (1646,)), ((706, 224, 224, 3), (706,)))"
      ]
     },
     "execution_count": 10,
     "metadata": {},
     "output_type": "execute_result"
    }
   ],
   "source": [
    "# shape of training and validation set\n",
    "(X_train.shape, y_train.shape), (X_valid.shape, y_valid.shape)"
   ]
  },
  {
   "cell_type": "markdown",
   "metadata": {
    "colab_type": "text",
    "id": "f_HSxXtVhKMO"
   },
   "source": [
    "## 4. Defining the Model Architecture"
   ]
  },
  {
   "cell_type": "markdown",
   "metadata": {
    "colab_type": "text",
    "id": "-ckn_9ZSg_Um"
   },
   "source": [
    "![alt text](https://drive.google.com/uc?id=1qsops2ZfESuzjg7-V0rmOfVE0PtErYrJ)"
   ]
  },
  {
   "cell_type": "code",
   "execution_count": 11,
   "metadata": {
    "colab": {},
    "colab_type": "code",
    "id": "8H-ihteG_y4_"
   },
   "outputs": [],
   "source": [
    "# importing the convolutional and flatten layer from keras\n",
    "from keras.layers import Conv2D, Flatten"
   ]
  },
  {
   "cell_type": "code",
   "execution_count": 12,
   "metadata": {
    "colab": {
     "base_uri": "https://localhost:8080/",
     "height": 141
    },
    "colab_type": "code",
    "executionInfo": {
     "elapsed": 13529,
     "status": "ok",
     "timestamp": 1585227647476,
     "user": {
      "displayName": "Aishwarya Singh",
      "photoUrl": "https://lh3.googleusercontent.com/a-/AOh14GgeJwfn4BdBDCAplWi_kdtB9FRssOpXO7T_aMgg=s64",
      "userId": "01105858832371513140"
     },
     "user_tz": -330
    },
    "id": "elD4F16q_uRQ",
    "outputId": "96fe91d1-81a7-419b-8ce1-b936ba0d2e9d"
   },
   "outputs": [
    {
     "name": "stderr",
     "output_type": "stream",
     "text": [
      "2023-11-28 15:26:03.274337: W external/local_tsl/tsl/framework/cpu_allocator_impl.cc:83] Allocation of 933120000 exceeds 10% of free system memory.\n",
      "2023-11-28 15:26:03.751478: W external/local_tsl/tsl/framework/cpu_allocator_impl.cc:83] Allocation of 933120000 exceeds 10% of free system memory.\n",
      "2023-11-28 15:26:04.275263: W external/local_tsl/tsl/framework/cpu_allocator_impl.cc:83] Allocation of 933120000 exceeds 10% of free system memory.\n"
     ]
    }
   ],
   "source": [
    "# defining the model architecture\n",
    "\n",
    "# creating a sequential model \n",
    "model = Sequential()\n",
    "    \n",
    "# defining input layer with 3D input of shape (224,224,3)\n",
    "model.add(InputLayer(input_shape=(224, 224, 3)))\n",
    "\n",
    "# defining the first convolutional layer with 25 filters of size (5,5)\n",
    "model.add(Conv2D(25, (5, 5), activation='relu', strides=(1, 1), padding='valid'))\n",
    "# defining the second convolutional layer with 50 filters of size (5,5)\n",
    "model.add(Conv2D(50, (5, 5), activation='relu', strides=(1, 1), padding='valid'))\n",
    "\n",
    "# flattening the output from convolutional layers so that it can be forwarded to the dense layers\n",
    "model.add(Flatten())\n",
    "\n",
    "# defining the first dense or fully connected layer with 100 neurons\n",
    "model.add(Dense(units=100, activation='sigmoid'))\n",
    "# defining the output layer with 1 neuron since it is a binary classification problem\n",
    "model.add(Dense(units=1, activation='sigmoid'))"
   ]
  },
  {
   "cell_type": "code",
   "execution_count": 13,
   "metadata": {
    "colab": {
     "base_uri": "https://localhost:8080/",
     "height": 330
    },
    "colab_type": "code",
    "executionInfo": {
     "elapsed": 13515,
     "status": "ok",
     "timestamp": 1585227647477,
     "user": {
      "displayName": "Aishwarya Singh",
      "photoUrl": "https://lh3.googleusercontent.com/a-/AOh14GgeJwfn4BdBDCAplWi_kdtB9FRssOpXO7T_aMgg=s64",
      "userId": "01105858832371513140"
     },
     "user_tz": -330
    },
    "id": "BBwKWQjE_v4j",
    "outputId": "e20bf351-8b6e-4c59-b796-06ee7a0148ec"
   },
   "outputs": [
    {
     "name": "stdout",
     "output_type": "stream",
     "text": [
      "Model: \"sequential\"\n",
      "_________________________________________________________________\n",
      " Layer (type)                Output Shape              Param #   \n",
      "=================================================================\n",
      " conv2d (Conv2D)             (None, 220, 220, 25)      1900      \n",
      "                                                                 \n",
      " conv2d_1 (Conv2D)           (None, 216, 216, 50)      31300     \n",
      "                                                                 \n",
      " flatten (Flatten)           (None, 2332800)           0         \n",
      "                                                                 \n",
      " dense (Dense)               (None, 100)               233280100 \n",
      "                                                                 \n",
      " dense_1 (Dense)             (None, 1)                 101       \n",
      "                                                                 \n",
      "=================================================================\n",
      "Total params: 233313401 (890.02 MB)\n",
      "Trainable params: 233313401 (890.02 MB)\n",
      "Non-trainable params: 0 (0.00 Byte)\n",
      "_________________________________________________________________\n"
     ]
    }
   ],
   "source": [
    "# printing summary of the model\n",
    "model.summary()"
   ]
  },
  {
   "cell_type": "markdown",
   "metadata": {
    "colab_type": "text",
    "id": "l_9WzJ2akEXt"
   },
   "source": [
    "## Understanding the Architecture\n",
    "*  Input shape is (224,224,3) since images are of this shape\n",
    "*  We then applied 25 filters each of shape (5,5) and stride is (1,1)\n",
    "*  So the output from first convolutional layer is: **(224-5+1,224-5+1,25)** which is **(220,220,25)**\n",
    "*  We then applied 50 filters of shape (5,5) each with stride (1,1)\n",
    "*  Then the output is **(220-5+1,220-5+1,50)** which is **(216,216,50)**\n",
    "*  Then this output is flattened which resulted in 216 X 216 X 50 = 2332800 features\n",
    "*  Finally these features are passed through the fully connected layers.\n"
   ]
  },
  {
   "cell_type": "markdown",
   "metadata": {
    "colab_type": "text",
    "id": "cLtyLYpykEUT"
   },
   "source": [
    "## Understanding the number of parameters of different layers\n",
    "\n",
    "1.   First Convolutional Layer\n",
    "    * Number of input channels = 3\n",
    "    * Number of filters = 25\n",
    "    * Filter Size = (5,5)\n",
    "    * Learnable parameters = **25 * 5 * 5 * 3 + 25** (1 bias for each filter) = **1900**\n",
    "2.   Second Convolutional Layer\n",
    "    * Number of input channels = 25\n",
    "    * Number of filters = 50\n",
    "    * Filter Size = (5,5)\n",
    "    * Learnable parameters = **50 * 5 * 5 * 25 + 50** (1 bias for each filter) = **31300**\n",
    "3.   First Fully Connected Layer\n",
    "    * Number of input features = 216 * 216 * 50 = 2332800\n",
    "    * Number of neurons in this hidden layer = 100\n",
    "    * Learnable parameters = **2332800 * 100 + 100** (1 bias for each neuron) = **233280100**\n",
    "3.   Output Layer\n",
    "    * Number of input features = 100\n",
    "    * Number of neurons in this layer = 1\n",
    "    * Learnable parameters = **100 * 1 + 1** (1 bias for each neuron) = **101**\n",
    "\n"
   ]
  },
  {
   "cell_type": "markdown",
   "metadata": {
    "colab_type": "text",
    "id": "Ih1KTM7MF1-2"
   },
   "source": [
    "## 5. Compiling the Model"
   ]
  },
  {
   "cell_type": "code",
   "execution_count": 14,
   "metadata": {
    "colab": {
     "base_uri": "https://localhost:8080/",
     "height": 159
    },
    "colab_type": "code",
    "executionInfo": {
     "elapsed": 12761,
     "status": "ok",
     "timestamp": 1585227647478,
     "user": {
      "displayName": "Aishwarya Singh",
      "photoUrl": "https://lh3.googleusercontent.com/a-/AOh14GgeJwfn4BdBDCAplWi_kdtB9FRssOpXO7T_aMgg=s64",
      "userId": "01105858832371513140"
     },
     "user_tz": -330
    },
    "id": "uXF1_OIWhKMg",
    "outputId": "d912f9c2-e3ba-4bbb-e0b3-bdbc1fe8ef9f"
   },
   "outputs": [],
   "source": [
    "# compiling the model\n",
    "model.compile(loss='binary_crossentropy', optimizer=\"sgd\", metrics=['accuracy'])"
   ]
  },
  {
   "cell_type": "markdown",
   "metadata": {
    "colab_type": "text",
    "id": "6L1-5Ik4GC1y"
   },
   "source": [
    "## 6. Training the Model"
   ]
  },
  {
   "cell_type": "code",
   "execution_count": 16,
   "metadata": {
    "colab": {
     "base_uri": "https://localhost:8080/",
     "height": 680
    },
    "colab_type": "code",
    "executionInfo": {
     "elapsed": 266082,
     "status": "ok",
     "timestamp": 1585227901500,
     "user": {
      "displayName": "Aishwarya Singh",
      "photoUrl": "https://lh3.googleusercontent.com/a-/AOh14GgeJwfn4BdBDCAplWi_kdtB9FRssOpXO7T_aMgg=s64",
      "userId": "01105858832371513140"
     },
     "user_tz": -330
    },
    "id": "JF4dEvsrhKMo",
    "outputId": "fd4b5728-7770-41b8-c762-21976396511e"
   },
   "outputs": [
    {
     "name": "stdout",
     "output_type": "stream",
     "text": [
      "13/13 [==============================] - 159s 12s/step - loss: 0.6749 - accuracy: 0.5826 - val_loss: 0.6516 - val_accuracy: 0.6232\n"
     ]
    }
   ],
   "source": [
    "# training the model\n",
    "model_history = model.fit(X_train, y_train, epochs=1, batch_size=128,validation_data=(X_valid,y_valid))"
   ]
  },
  {
   "cell_type": "markdown",
   "metadata": {
    "colab_type": "text",
    "id": "wmOIR4_PHKFE"
   },
   "source": [
    "## 7. Evaluating model performance"
   ]
  },
  {
   "cell_type": "code",
   "execution_count": 19,
   "metadata": {
    "colab": {
     "base_uri": "https://localhost:8080/",
     "height": 34
    },
    "colab_type": "code",
    "executionInfo": {
     "elapsed": 270882,
     "status": "ok",
     "timestamp": 1585227907392,
     "user": {
      "displayName": "Aishwarya Singh",
      "photoUrl": "https://lh3.googleusercontent.com/a-/AOh14GgeJwfn4BdBDCAplWi_kdtB9FRssOpXO7T_aMgg=s64",
      "userId": "01105858832371513140"
     },
     "user_tz": -330
    },
    "id": "4VqAxVzGGXk9",
    "outputId": "7581451c-b624-4e2e-8702-e351e8bac56f"
   },
   "outputs": [
    {
     "name": "stdout",
     "output_type": "stream",
     "text": [
      "Accuracy on training set: 0.6318347509113001 %\n"
     ]
    }
   ],
   "source": [
    "# accuracy on training set\n",
    "print('Accuracy on training set:', accuracy_score(y_train, np.where(model.predict(X_train)[:,0]) < 0.5, 0,1))"
   ]
  },
  {
   "cell_type": "code",
   "execution_count": 21,
   "metadata": {
    "colab": {
     "base_uri": "https://localhost:8080/",
     "height": 34
    },
    "colab_type": "code",
    "executionInfo": {
     "elapsed": 273619,
     "status": "ok",
     "timestamp": 1585227910434,
     "user": {
      "displayName": "Aishwarya Singh",
      "photoUrl": "https://lh3.googleusercontent.com/a-/AOh14GgeJwfn4BdBDCAplWi_kdtB9FRssOpXO7T_aMgg=s64",
      "userId": "01105858832371513140"
     },
     "user_tz": -330
    },
    "id": "HG13Xm6bGXQg",
    "outputId": "f6af5e11-f340-43df-cc88-08ed728239a1"
   },
   "outputs": [
    {
     "name": "stdout",
     "output_type": "stream",
     "text": [
      "Accuracy on validation set: 0.623229461756374 %\n"
     ]
    }
   ],
   "source": [
    "# accuracy on validation set\n",
    "print('Accuracy on validation set:', accuracy_score(y_valid, np.where(model.predict(X_valid)[:,0]) < 0.5, 0,1))"
   ]
  },
  {
   "cell_type": "code",
   "execution_count": 22,
   "metadata": {
    "colab": {
     "base_uri": "https://localhost:8080/",
     "height": 295
    },
    "colab_type": "code",
    "executionInfo": {
     "elapsed": 273064,
     "status": "ok",
     "timestamp": 1585227910438,
     "user": {
      "displayName": "Aishwarya Singh",
      "photoUrl": "https://lh3.googleusercontent.com/a-/AOh14GgeJwfn4BdBDCAplWi_kdtB9FRssOpXO7T_aMgg=s64",
      "userId": "01105858832371513140"
     },
     "user_tz": -330
    },
    "id": "jKrOiGaDGXLK",
    "outputId": "930405b8-d430-4cc2-bbc8-b8c3d42746c8"
   },
   "outputs": [
    {
     "data": {
      "image/png": "[encoded data removed]",
      "text/plain": [
       "<Figure size 640x480 with 1 Axes>"
      ]
     },
     "metadata": {},
     "output_type": "display_data"
    }
   ],
   "source": [
    "# summarize history for loss\n",
    "plt.plot(model_history.history['loss'])\n",
    "plt.plot(model_history.history['val_loss'])\n",
    "plt.title('model loss')\n",
    "plt.ylabel('loss')\n",
    "plt.xlabel('epoch')\n",
    "plt.legend(['train', 'validation'], loc='upper left')\n",
    "plt.show()"
   ]
  },
  {
   "cell_type": "code",
   "execution_count": 24,
   "metadata": {
    "colab": {
     "base_uri": "https://localhost:8080/",
     "height": 295
    },
    "colab_type": "code",
    "executionInfo": {
     "elapsed": 271578,
     "status": "ok",
     "timestamp": 1585227910440,
     "user": {
      "displayName": "Aishwarya Singh",
      "photoUrl": "https://lh3.googleusercontent.com/a-/AOh14GgeJwfn4BdBDCAplWi_kdtB9FRssOpXO7T_aMgg=s64",
      "userId": "01105858832371513140"
     },
     "user_tz": -330
    },
    "id": "VNAd2anFHqjn",
    "outputId": "3e8dc07b-fed6-4374-be90-113aa52dfc00"
   },
   "outputs": [
    {
     "data": {
      "image/png": "[encoded data removed]",
      "text/plain": [
       "<Figure size 640x480 with 1 Axes>"
      ]
     },
     "metadata": {},
     "output_type": "display_data"
    }
   ],
   "source": [
    "# summarize history for accuracy\n",
    "plt.plot(model_history.history['accuracy'])\n",
    "plt.plot(model_history.history['val_accuracy'])\n",
    "plt.title('model accuracy')\n",
    "plt.ylabel('accuracy')\n",
    "plt.xlabel('epoch')\n",
    "plt.legend(['train', 'validation'], loc='upper left')\n",
    "plt.show()"
   ]
  },
  {
   "cell_type": "markdown",
   "metadata": {
    "colab_type": "text",
    "id": "Hd7JfLeiHtX2"
   },
   "source": [
    "## Adding Maxpool layer to reduce parameters"
   ]
  },
  {
   "cell_type": "code",
   "execution_count": 25,
   "metadata": {
    "colab": {},
    "colab_type": "code",
    "id": "hxymlVBrIOQu"
   },
   "outputs": [],
   "source": [
    "# importing maxpool layer from keras\n",
    "from keras.layers import MaxPool2D"
   ]
  },
  {
   "cell_type": "code",
   "execution_count": 26,
   "metadata": {
    "colab": {
     "base_uri": "https://localhost:8080/",
     "height": 72
    },
    "colab_type": "code",
    "executionInfo": {
     "elapsed": 270388,
     "status": "ok",
     "timestamp": 1585227910842,
     "user": {
      "displayName": "Aishwarya Singh",
      "photoUrl": "https://lh3.googleusercontent.com/a-/AOh14GgeJwfn4BdBDCAplWi_kdtB9FRssOpXO7T_aMgg=s64",
      "userId": "01105858832371513140"
     },
     "user_tz": -330
    },
    "id": "ouFTqkMuhKMw",
    "outputId": "93ed9f2f-cc08-4ae6-89da-c87fc0ffec89"
   },
   "outputs": [],
   "source": [
    "# defining the model architecture with maxpool layer\n",
    "model = Sequential()\n",
    "    \n",
    "model.add(InputLayer(input_shape=(224, 224, 3)))\n",
    "\n",
    "model.add(Conv2D(25, (5, 5), activation='relu', strides=(1, 1), padding='valid'))\n",
    "model.add(Conv2D(50, (5, 5), activation='relu', strides=(1, 1), padding='valid'))\n",
    "# adding maxpool layer after the convolutional layers\n",
    "model.add(MaxPool2D(pool_size=(4, 4), padding='valid'))\n",
    "model.add(Flatten())\n",
    "\n",
    "model.add(Dense(units=100, activation='sigmoid'))\n",
    "model.add(Dense(units=1, activation='sigmoid'))\n",
    "\n",
    "# compiling the model\n",
    "model.compile(loss='binary_crossentropy', optimizer=\"sgd\", metrics=['accuracy'])"
   ]
  },
  {
   "cell_type": "code",
   "execution_count": 27,
   "metadata": {
    "colab": {
     "base_uri": "https://localhost:8080/",
     "height": 364
    },
    "colab_type": "code",
    "executionInfo": {
     "elapsed": 270101,
     "status": "ok",
     "timestamp": 1585227910845,
     "user": {
      "displayName": "Aishwarya Singh",
      "photoUrl": "https://lh3.googleusercontent.com/a-/AOh14GgeJwfn4BdBDCAplWi_kdtB9FRssOpXO7T_aMgg=s64",
      "userId": "01105858832371513140"
     },
     "user_tz": -330
    },
    "id": "8WRfKOU_hKM4",
    "outputId": "b5bcc2a9-b5c6-44fe-ecd4-fec2d91b8800"
   },
   "outputs": [
    {
     "name": "stdout",
     "output_type": "stream",
     "text": [
      "Model: \"sequential_1\"\n",
      "_________________________________________________________________\n",
      " Layer (type)                Output Shape              Param #   \n",
      "=================================================================\n",
      " conv2d_2 (Conv2D)           (None, 220, 220, 25)      1900      \n",
      "                                                                 \n",
      " conv2d_3 (Conv2D)           (None, 216, 216, 50)      31300     \n",
      "                                                                 \n",
      " max_pooling2d (MaxPooling2  (None, 54, 54, 50)        0         \n",
      " D)                                                              \n",
      "                                                                 \n",
      " flatten_1 (Flatten)         (None, 145800)            0         \n",
      "                                                                 \n",
      " dense_2 (Dense)             (None, 100)               14580100  \n",
      "                                                                 \n",
      " dense_3 (Dense)             (None, 1)                 101       \n",
      "                                                                 \n",
      "=================================================================\n",
      "Total params: 14613401 (55.75 MB)\n",
      "Trainable params: 14613401 (55.75 MB)\n",
      "Non-trainable params: 0 (0.00 Byte)\n",
      "_________________________________________________________________\n"
     ]
    }
   ],
   "source": [
    "# summary of the model\n",
    "model.summary()"
   ]
  },
  {
   "cell_type": "code",
   "execution_count": 29,
   "metadata": {
    "colab": {
     "base_uri": "https://localhost:8080/",
     "height": 382
    },
    "colab_type": "code",
    "executionInfo": {
     "elapsed": 411283,
     "status": "ok",
     "timestamp": 1585228052942,
     "user": {
      "displayName": "Aishwarya Singh",
      "photoUrl": "https://lh3.googleusercontent.com/a-/AOh14GgeJwfn4BdBDCAplWi_kdtB9FRssOpXO7T_aMgg=s64",
      "userId": "01105858832371513140"
     },
     "user_tz": -330
    },
    "id": "F5ZLlBqQhKM9",
    "outputId": "2078c591-cece-48ce-c464-80ee82621fdf"
   },
   "outputs": [
    {
     "name": "stdout",
     "output_type": "stream",
     "text": [
      "13/13 [==============================] - 146s 11s/step - loss: 0.6779 - accuracy: 0.5863 - val_loss: 0.6793 - val_accuracy: 0.5609\n"
     ]
    }
   ],
   "source": [
    "# training the model\n",
    "model_history = model.fit(X_train, y_train, epochs=1, batch_size=128,validation_data=(X_valid,y_valid))"
   ]
  },
  {
   "cell_type": "code",
   "execution_count": 19,
   "metadata": {
    "colab": {
     "base_uri": "https://localhost:8080/",
     "height": 34
    },
    "colab_type": "code",
    "executionInfo": {
     "elapsed": 270882,
     "status": "ok",
     "timestamp": 1585227907392,
     "user": {
      "displayName": "Aishwarya Singh",
      "photoUrl": "https://lh3.googleusercontent.com/a-/AOh14GgeJwfn4BdBDCAplWi_kdtB9FRssOpXO7T_aMgg=s64",
      "userId": "01105858832371513140"
     },
     "user_tz": -330
    },
    "id": "4VqAxVzGGXk9",
    "outputId": "7581451c-b624-4e2e-8702-e351e8bac56f"
   },
   "outputs": [
    {
     "name": "stdout",
     "output_type": "stream",
     "text": [
      "Accuracy on training set: 0.6318347509113001 %\n"
     ]
    }
   ],
   "source": [
    "# accuracy on training set\n",
    "print('Accuracy on training set:', accuracy_score(y_train, np.where(model.predict(X_train)[:,0]) < 0.5, 0,1))"
   ]
  },
  {
   "cell_type": "code",
   "execution_count": 21,
   "metadata": {
    "colab": {
     "base_uri": "https://localhost:8080/",
     "height": 34
    },
    "colab_type": "code",
    "executionInfo": {
     "elapsed": 273619,
     "status": "ok",
     "timestamp": 1585227910434,
     "user": {
      "displayName": "Aishwarya Singh",
      "photoUrl": "https://lh3.googleusercontent.com/a-/AOh14GgeJwfn4BdBDCAplWi_kdtB9FRssOpXO7T_aMgg=s64",
      "userId": "01105858832371513140"
     },
     "user_tz": -330
    },
    "id": "HG13Xm6bGXQg",
    "outputId": "f6af5e11-f340-43df-cc88-08ed728239a1"
   },
   "outputs": [
    {
     "name": "stdout",
     "output_type": "stream",
     "text": [
      "Accuracy on validation set: 0.623229461756374 %\n"
     ]
    }
   ],
   "source": [
    "# accuracy on validation set\n",
    "print('Accuracy on validation set:', accuracy_score(y_valid, np.where(model.predict(X_valid)[:,0]) < 0.5, 0,1))"
   ]
  },
  {
   "cell_type": "code",
   "execution_count": 34,
   "metadata": {
    "colab": {
     "base_uri": "https://localhost:8080/",
     "height": 295
    },
    "colab_type": "code",
    "executionInfo": {
     "elapsed": 417007,
     "status": "ok",
     "timestamp": 1585228060182,
     "user": {
      "displayName": "Aishwarya Singh",
      "photoUrl": "https://lh3.googleusercontent.com/a-/AOh14GgeJwfn4BdBDCAplWi_kdtB9FRssOpXO7T_aMgg=s64",
      "userId": "01105858832371513140"
     },
     "user_tz": -330
    },
    "id": "vYMP4z8FKJlK",
    "outputId": "5de93518-f2a0-4373-cd50-fb5105c333c0"
   },
   "outputs": [
    {
     "data": {
      "image/png": "[encoded data removed]",
      "text/plain": [
       "<Figure size 640x480 with 1 Axes>"
      ]
     },
     "metadata": {},
     "output_type": "display_data"
    }
   ],
   "source": [
    "# summarize history for loss\n",
    "plt.plot(model_history.history['loss'])\n",
    "plt.plot(model_history.history['val_loss'])\n",
    "plt.title('model loss')\n",
    "plt.ylabel('loss')\n",
    "plt.xlabel('epoch')\n",
    "plt.legend(['train', 'validation'], loc='upper left')\n",
    "plt.show()"
   ]
  },
  {
   "cell_type": "code",
   "execution_count": 35,
   "metadata": {
    "colab": {
     "base_uri": "https://localhost:8080/",
     "height": 295
    },
    "colab_type": "code",
    "executionInfo": {
     "elapsed": 416544,
     "status": "ok",
     "timestamp": 1585228060184,
     "user": {
      "displayName": "Aishwarya Singh",
      "photoUrl": "https://lh3.googleusercontent.com/a-/AOh14GgeJwfn4BdBDCAplWi_kdtB9FRssOpXO7T_aMgg=s64",
      "userId": "01105858832371513140"
     },
     "user_tz": -330
    },
    "id": "CGUdACeiKJle",
    "outputId": "2dc082d0-da24-4108-9b2b-a5f3750a14ed"
   },
   "outputs": [
    {
     "data": {
      "image/png": "[encoded data removed]",
      "text/plain": [
       "<Figure size 640x480 with 1 Axes>"
      ]
     },
     "metadata": {},
     "output_type": "display_data"
    }
   ],
   "source": [
    "# summarize history for accuracy\n",
    "plt.plot(model_history.history['accuracy'])\n",
    "plt.plot(model_history.history['val_accuracy'])\n",
    "plt.title('model accuracy')\n",
    "plt.ylabel('accuracy')\n",
    "plt.xlabel('epoch')\n",
    "plt.legend(['train', 'validation'], loc='upper left')\n",
    "plt.show()"
   ]
  },
  {
   "cell_type": "markdown",
   "metadata": {
    "colab_type": "text",
    "id": "eobCjMm_hKNd"
   },
   "source": [
    "## Hyperparameter Tuning of Convolutional Neural Networks\n",
    "\n",
    "1. increase number of convolutional layers\n",
    "2. increase number of pooling layers\n",
    "3. increase number of convolutional filters\n",
    "4. change size of convolutional filters\n",
    "5. change pooling type \n",
    "6. change padding technique\n",
    "7. change stride\n",
    "\n",
    "#### Hyperparameters of fully connected layers\n",
    "\n",
    "1. change activation function of hidden layer\n",
    "2. increase hidden neurons\n",
    "3. increase hidden layers\n",
    "4. increase number of epochs\n",
    "5. change optimizer\n",
    "6. add batch normalization layer\n",
    "7. add dropout layer"
   ]
  },
  {
   "cell_type": "markdown",
   "metadata": {
    "colab_type": "text",
    "id": "qG9SHyVzLfeA"
   },
   "source": [
    "## 1. Increasing number of convolutional layers"
   ]
  },
  {
   "cell_type": "code",
   "execution_count": 36,
   "metadata": {
    "colab": {
     "base_uri": "https://localhost:8080/",
     "height": 298
    },
    "colab_type": "code",
    "executionInfo": {
     "elapsed": 1588,
     "status": "ok",
     "timestamp": 1585230324852,
     "user": {
      "displayName": "Aishwarya Singh",
      "photoUrl": "https://lh3.googleusercontent.com/a-/AOh14GgeJwfn4BdBDCAplWi_kdtB9FRssOpXO7T_aMgg=s64",
      "userId": "01105858832371513140"
     },
     "user_tz": -330
    },
    "id": "rLe_T2IxhKNl",
    "outputId": "20b88b67-1ab3-49ed-99f4-65c209afa1f3"
   },
   "outputs": [],
   "source": [
    "# increase number of convolutional layers\n",
    "\n",
    "model = Sequential()\n",
    "    \n",
    "model.add(InputLayer(input_shape=(224, 224, 3)))\n",
    "\n",
    "model.add(Conv2D(25, (5, 5), activation='relu', strides=(1, 1), padding='valid'))\n",
    "model.add(Conv2D(50, (5, 5), activation='relu', strides=(1, 1), padding='valid'))\n",
    "model.add(Conv2D(50, (5, 5), activation='relu', strides=(1, 1), padding='valid'))\n",
    "model.add(MaxPool2D(pool_size=(4, 4), padding='valid'))\n",
    "\n",
    "model.add(Flatten())\n",
    "\n",
    "model.add(Dense(units=100, activation='sigmoid'))\n",
    "model.add(Dense(units=1, activation='sigmoid'))\n",
    "\n",
    "model.compile(loss='binary_crossentropy', optimizer=\"sgd\", metrics=['accuracy'])"
   ]
  },
  {
   "cell_type": "code",
   "execution_count": 37,
   "metadata": {
    "colab": {
     "base_uri": "https://localhost:8080/",
     "height": 399
    },
    "colab_type": "code",
    "executionInfo": {
     "elapsed": 1367,
     "status": "ok",
     "timestamp": 1585230324855,
     "user": {
      "displayName": "Aishwarya Singh",
      "photoUrl": "https://lh3.googleusercontent.com/a-/AOh14GgeJwfn4BdBDCAplWi_kdtB9FRssOpXO7T_aMgg=s64",
      "userId": "01105858832371513140"
     },
     "user_tz": -330
    },
    "id": "U1arli-EhKNq",
    "outputId": "910850a8-f5e1-4b79-8376-eba226afbf33"
   },
   "outputs": [
    {
     "name": "stdout",
     "output_type": "stream",
     "text": [
      "Model: \"sequential_2\"\n",
      "_________________________________________________________________\n",
      " Layer (type)                Output Shape              Param #   \n",
      "=================================================================\n",
      " conv2d_4 (Conv2D)           (None, 220, 220, 25)      1900      \n",
      "                                                                 \n",
      " conv2d_5 (Conv2D)           (None, 216, 216, 50)      31300     \n",
      "                                                                 \n",
      " conv2d_6 (Conv2D)           (None, 212, 212, 50)      62550     \n",
      "                                                                 \n",
      " max_pooling2d_1 (MaxPoolin  (None, 53, 53, 50)        0         \n",
      " g2D)                                                            \n",
      "                                                                 \n",
      " flatten_2 (Flatten)         (None, 140450)            0         \n",
      "                                                                 \n",
      " dense_4 (Dense)             (None, 100)               14045100  \n",
      "                                                                 \n",
      " dense_5 (Dense)             (None, 1)                 101       \n",
      "                                                                 \n",
      "=================================================================\n",
      "Total params: 14140951 (53.94 MB)\n",
      "Trainable params: 14140951 (53.94 MB)\n",
      "Non-trainable params: 0 (0.00 Byte)\n",
      "_________________________________________________________________\n"
     ]
    }
   ],
   "source": [
    "model.summary()"
   ]
  },
  {
   "cell_type": "code",
   "execution_count": null,
   "metadata": {
    "colab": {
     "base_uri": "https://localhost:8080/",
     "height": 382
    },
    "colab_type": "code",
    "executionInfo": {
     "elapsed": 316822,
     "status": "ok",
     "timestamp": 1585229255919,
     "user": {
      "displayName": "Aishwarya Singh",
      "photoUrl": "https://lh3.googleusercontent.com/a-/AOh14GgeJwfn4BdBDCAplWi_kdtB9FRssOpXO7T_aMgg=s64",
      "userId": "01105858832371513140"
     },
     "user_tz": -330
    },
    "id": "eaoHuj0ohKNy",
    "outputId": "dcccb26a-8ad1-41be-d071-9d02ebfffdf9"
   },
   "outputs": [
    {
     "name": "stdout",
     "output_type": "stream",
     "text": [
      "Train on 1646 samples, validate on 706 samples\n",
      "Epoch 1/10\n",
      "1646/1646 [==============================] - 45s 27ms/step - loss: 0.6797 - acc: 0.5857 - val_loss: 0.6766 - val_acc: 0.5609\n",
      "Epoch 2/10\n",
      "1646/1646 [==============================] - 30s 18ms/step - loss: 0.6687 - acc: 0.5869 - val_loss: 0.6661 - val_acc: 0.5652\n",
      "Epoch 3/10\n",
      "1646/1646 [==============================] - 30s 18ms/step - loss: 0.6597 - acc: 0.6009 - val_loss: 0.6572 - val_acc: 0.5892\n",
      "Epoch 4/10\n",
      "1646/1646 [==============================] - 30s 18ms/step - loss: 0.6502 - acc: 0.6179 - val_loss: 0.6447 - val_acc: 0.6530\n",
      "Epoch 5/10\n",
      "1646/1646 [==============================] - 30s 18ms/step - loss: 0.6447 - acc: 0.6252 - val_loss: 0.6306 - val_acc: 0.6501\n",
      "Epoch 6/10\n",
      "1646/1646 [==============================] - 30s 18ms/step - loss: 0.6330 - acc: 0.6452 - val_loss: 0.6230 - val_acc: 0.6671\n",
      "Epoch 7/10\n",
      "1646/1646 [==============================] - 30s 18ms/step - loss: 0.6262 - acc: 0.6640 - val_loss: 0.6195 - val_acc: 0.6586\n",
      "Epoch 8/10\n",
      "1646/1646 [==============================] - 30s 18ms/step - loss: 0.6176 - acc: 0.6574 - val_loss: 0.6091 - val_acc: 0.6700\n",
      "Epoch 9/10\n",
      "1646/1646 [==============================] - 30s 18ms/step - loss: 0.6232 - acc: 0.6549 - val_loss: 0.6064 - val_acc: 0.6785\n",
      "Epoch 10/10\n",
      "1646/1646 [==============================] - 30s 18ms/step - loss: 0.6120 - acc: 0.6689 - val_loss: 0.6051 - val_acc: 0.6728\n"
     ]
    }
   ],
   "source": [
    "# training the model\n",
    "model_history = model.fit(X_train, y_train, epochs=10, batch_size=128,validation_data=(X_valid,y_valid))"
   ]
  },
  {
   "cell_type": "code",
   "execution_count": 19,
   "metadata": {
    "colab": {
     "base_uri": "https://localhost:8080/",
     "height": 34
    },
    "colab_type": "code",
    "executionInfo": {
     "elapsed": 270882,
     "status": "ok",
     "timestamp": 1585227907392,
     "user": {
      "displayName": "Aishwarya Singh",
      "photoUrl": "https://lh3.googleusercontent.com/a-/AOh14GgeJwfn4BdBDCAplWi_kdtB9FRssOpXO7T_aMgg=s64",
      "userId": "01105858832371513140"
     },
     "user_tz": -330
    },
    "id": "4VqAxVzGGXk9",
    "outputId": "7581451c-b624-4e2e-8702-e351e8bac56f"
   },
   "outputs": [
    {
     "name": "stdout",
     "output_type": "stream",
     "text": [
      "Accuracy on training set: 0.6318347509113001 %\n"
     ]
    }
   ],
   "source": [
    "# accuracy on training set\n",
    "print('Accuracy on training set:', accuracy_score(y_train, np.where(model.predict(X_train)[:,0]) < 0.5, 0,1))"
   ]
  },
  {
   "cell_type": "code",
   "execution_count": 21,
   "metadata": {
    "colab": {
     "base_uri": "https://localhost:8080/",
     "height": 34
    },
    "colab_type": "code",
    "executionInfo": {
     "elapsed": 273619,
     "status": "ok",
     "timestamp": 1585227910434,
     "user": {
      "displayName": "Aishwarya Singh",
      "photoUrl": "https://lh3.googleusercontent.com/a-/AOh14GgeJwfn4BdBDCAplWi_kdtB9FRssOpXO7T_aMgg=s64",
      "userId": "01105858832371513140"
     },
     "user_tz": -330
    },
    "id": "HG13Xm6bGXQg",
    "outputId": "f6af5e11-f340-43df-cc88-08ed728239a1"
   },
   "outputs": [
    {
     "name": "stdout",
     "output_type": "stream",
     "text": [
      "Accuracy on validation set: 0.623229461756374 %\n"
     ]
    }
   ],
   "source": [
    "# accuracy on validation set\n",
    "print('Accuracy on validation set:', accuracy_score(y_valid, np.where(model.predict(X_valid)[:,0]) < 0.5, 0,1))"
   ]
  },
  {
   "cell_type": "markdown",
   "metadata": {
    "colab_type": "text",
    "id": "EohJWvwLL2kk"
   },
   "source": [
    "## 2. Increasing number of pooling layers"
   ]
  },
  {
   "cell_type": "code",
   "execution_count": null,
   "metadata": {
    "colab": {},
    "colab_type": "code",
    "id": "l5BHQGyCNFTB"
   },
   "outputs": [],
   "source": [
    "# increase number of pooling layers\n",
    "\n",
    "model = Sequential()\n",
    "    \n",
    "model.add(InputLayer(input_shape=(224, 224, 3)))\n",
    "\n",
    "model.add(Conv2D(25, (5, 5), activation='relu', strides=(1, 1), padding='valid'))\n",
    "model.add(MaxPool2D(pool_size=(4, 4), padding='valid'))\n",
    "model.add(Conv2D(50, (5, 5), activation='relu', strides=(1, 1), padding='valid'))\n",
    "model.add(MaxPool2D(pool_size=(4, 4), padding='valid'))\n",
    "\n",
    "model.add(Flatten())\n",
    "\n",
    "model.add(Dense(units=100, activation='sigmoid'))\n",
    "model.add(Dense(units=1, activation='sigmoid'))\n",
    "\n",
    "model.compile(loss='binary_crossentropy', optimizer=\"sgd\", metrics=['accuracy'])"
   ]
  },
  {
   "cell_type": "code",
   "execution_count": null,
   "metadata": {
    "colab": {
     "base_uri": "https://localhost:8080/",
     "height": 399
    },
    "colab_type": "code",
    "executionInfo": {
     "elapsed": 1086,
     "status": "ok",
     "timestamp": 1585230332097,
     "user": {
      "displayName": "Aishwarya Singh",
      "photoUrl": "https://lh3.googleusercontent.com/a-/AOh14GgeJwfn4BdBDCAplWi_kdtB9FRssOpXO7T_aMgg=s64",
      "userId": "01105858832371513140"
     },
     "user_tz": -330
    },
    "id": "2M42qtGdNFQb",
    "outputId": "82b9cbbf-06a5-40d6-e8c9-9e79ecd1676f"
   },
   "outputs": [
    {
     "name": "stdout",
     "output_type": "stream",
     "text": [
      "Model: \"sequential_2\"\n",
      "_________________________________________________________________\n",
      "Layer (type)                 Output Shape              Param #   \n",
      "=================================================================\n",
      "conv2d_4 (Conv2D)            (None, 220, 220, 25)      1900      \n",
      "_________________________________________________________________\n",
      "max_pooling2d_2 (MaxPooling2 (None, 55, 55, 25)        0         \n",
      "_________________________________________________________________\n",
      "conv2d_5 (Conv2D)            (None, 51, 51, 50)        31300     \n",
      "_________________________________________________________________\n",
      "max_pooling2d_3 (MaxPooling2 (None, 12, 12, 50)        0         \n",
      "_________________________________________________________________\n",
      "flatten_2 (Flatten)          (None, 7200)              0         \n",
      "_________________________________________________________________\n",
      "dense_3 (Dense)              (None, 100)               720100    \n",
      "_________________________________________________________________\n",
      "dense_4 (Dense)              (None, 1)                 101       \n",
      "=================================================================\n",
      "Total params: 753,401\n",
      "Trainable params: 753,401\n",
      "Non-trainable params: 0\n",
      "_________________________________________________________________\n"
     ]
    }
   ],
   "source": [
    "model.summary()"
   ]
  },
  {
   "cell_type": "code",
   "execution_count": null,
   "metadata": {
    "colab": {
     "base_uri": "https://localhost:8080/",
     "height": 382
    },
    "colab_type": "code",
    "executionInfo": {
     "elapsed": 42638,
     "status": "ok",
     "timestamp": 1585229423179,
     "user": {
      "displayName": "Aishwarya Singh",
      "photoUrl": "https://lh3.googleusercontent.com/a-/AOh14GgeJwfn4BdBDCAplWi_kdtB9FRssOpXO7T_aMgg=s64",
      "userId": "01105858832371513140"
     },
     "user_tz": -330
    },
    "id": "u_XrOnOZNFNh",
    "outputId": "e35f95cb-d830-4d1a-e3b7-f9ffbdaf455d"
   },
   "outputs": [
    {
     "name": "stdout",
     "output_type": "stream",
     "text": [
      "Train on 1646 samples, validate on 706 samples\n",
      "Epoch 1/10\n",
      "1646/1646 [==============================] - 5s 3ms/step - loss: 0.6820 - acc: 0.5832 - val_loss: 0.6840 - val_acc: 0.5609\n",
      "Epoch 2/10\n",
      "1646/1646 [==============================] - 4s 2ms/step - loss: 0.6764 - acc: 0.5863 - val_loss: 0.6836 - val_acc: 0.5609\n",
      "Epoch 3/10\n",
      "1646/1646 [==============================] - 4s 2ms/step - loss: 0.6753 - acc: 0.5863 - val_loss: 0.6831 - val_acc: 0.5609\n",
      "Epoch 4/10\n",
      "1646/1646 [==============================] - 4s 2ms/step - loss: 0.6741 - acc: 0.5863 - val_loss: 0.6828 - val_acc: 0.5609\n",
      "Epoch 5/10\n",
      "1646/1646 [==============================] - 4s 2ms/step - loss: 0.6731 - acc: 0.5863 - val_loss: 0.6809 - val_acc: 0.5609\n",
      "Epoch 6/10\n",
      "1646/1646 [==============================] - 4s 2ms/step - loss: 0.6727 - acc: 0.5863 - val_loss: 0.6801 - val_acc: 0.5609\n",
      "Epoch 7/10\n",
      "1646/1646 [==============================] - 4s 2ms/step - loss: 0.6711 - acc: 0.5863 - val_loss: 0.6790 - val_acc: 0.5609\n",
      "Epoch 8/10\n",
      "1646/1646 [==============================] - 4s 2ms/step - loss: 0.6700 - acc: 0.5863 - val_loss: 0.6791 - val_acc: 0.5609\n",
      "Epoch 9/10\n",
      "1646/1646 [==============================] - 4s 2ms/step - loss: 0.6693 - acc: 0.5863 - val_loss: 0.6772 - val_acc: 0.5609\n",
      "Epoch 10/10\n",
      "1646/1646 [==============================] - 4s 2ms/step - loss: 0.6677 - acc: 0.5863 - val_loss: 0.6748 - val_acc: 0.5609\n"
     ]
    }
   ],
   "source": [
    "# training the model\n",
    "model_history = model.fit(X_train, y_train, epochs=10, batch_size=128,validation_data=(X_valid,y_valid))"
   ]
  },
  {
   "cell_type": "code",
   "execution_count": 19,
   "metadata": {
    "colab": {
     "base_uri": "https://localhost:8080/",
     "height": 34
    },
    "colab_type": "code",
    "executionInfo": {
     "elapsed": 270882,
     "status": "ok",
     "timestamp": 1585227907392,
     "user": {
      "displayName": "Aishwarya Singh",
      "photoUrl": "https://lh3.googleusercontent.com/a-/AOh14GgeJwfn4BdBDCAplWi_kdtB9FRssOpXO7T_aMgg=s64",
      "userId": "01105858832371513140"
     },
     "user_tz": -330
    },
    "id": "4VqAxVzGGXk9",
    "outputId": "7581451c-b624-4e2e-8702-e351e8bac56f"
   },
   "outputs": [
    {
     "name": "stdout",
     "output_type": "stream",
     "text": [
      "Accuracy on training set: 0.6318347509113001 %\n"
     ]
    }
   ],
   "source": [
    "# accuracy on training set\n",
    "print('Accuracy on training set:', accuracy_score(y_train, np.where(model.predict(X_train)[:,0]) < 0.5, 0,1))"
   ]
  },
  {
   "cell_type": "code",
   "execution_count": 21,
   "metadata": {
    "colab": {
     "base_uri": "https://localhost:8080/",
     "height": 34
    },
    "colab_type": "code",
    "executionInfo": {
     "elapsed": 273619,
     "status": "ok",
     "timestamp": 1585227910434,
     "user": {
      "displayName": "Aishwarya Singh",
      "photoUrl": "https://lh3.googleusercontent.com/a-/AOh14GgeJwfn4BdBDCAplWi_kdtB9FRssOpXO7T_aMgg=s64",
      "userId": "01105858832371513140"
     },
     "user_tz": -330
    },
    "id": "HG13Xm6bGXQg",
    "outputId": "f6af5e11-f340-43df-cc88-08ed728239a1"
   },
   "outputs": [
    {
     "name": "stdout",
     "output_type": "stream",
     "text": [
      "Accuracy on validation set: 0.623229461756374 %\n"
     ]
    }
   ],
   "source": [
    "# accuracy on validation set\n",
    "print('Accuracy on validation set:', accuracy_score(y_valid, np.where(model.predict(X_valid)[:,0]) < 0.5, 0,1))"
   ]
  },
  {
   "cell_type": "markdown",
   "metadata": {
    "colab_type": "text",
    "id": "570Net31NpiN"
   },
   "source": [
    "## 3. Increasing number of convolutional filters"
   ]
  },
  {
   "cell_type": "code",
   "execution_count": null,
   "metadata": {
    "colab": {},
    "colab_type": "code",
    "id": "8jwO0VbKhKN9"
   },
   "outputs": [],
   "source": [
    "# increase number of convolutional filters\n",
    "\n",
    "model = Sequential()\n",
    "    \n",
    "model.add(InputLayer(input_shape=(224, 224, 3)))\n",
    "\n",
    "model.add(Conv2D(50, (5, 5), activation='relu', strides=(1, 1), padding='valid'))\n",
    "model.add(Conv2D(75, (5, 5), activation='relu', strides=(1, 1), padding='valid'))\n",
    "model.add(MaxPool2D(pool_size=(4, 4), padding='valid'))\n",
    "\n",
    "model.add(Flatten())\n",
    "\n",
    "model.add(Dense(units=100, activation='sigmoid'))\n",
    "model.add(Dense(units=1, activation='sigmoid'))\n",
    "\n",
    "model.compile(loss='binary_crossentropy', optimizer=\"sgd\", metrics=['accuracy'])"
   ]
  },
  {
   "cell_type": "code",
   "execution_count": null,
   "metadata": {
    "colab": {
     "base_uri": "https://localhost:8080/",
     "height": 364
    },
    "colab_type": "code",
    "executionInfo": {
     "elapsed": 898,
     "status": "ok",
     "timestamp": 1585230382615,
     "user": {
      "displayName": "Aishwarya Singh",
      "photoUrl": "https://lh3.googleusercontent.com/a-/AOh14GgeJwfn4BdBDCAplWi_kdtB9FRssOpXO7T_aMgg=s64",
      "userId": "01105858832371513140"
     },
     "user_tz": -330
    },
    "id": "nH2_XQPHN562",
    "outputId": "db3c1601-58d2-489e-a5e1-c00545f9addf"
   },
   "outputs": [
    {
     "name": "stdout",
     "output_type": "stream",
     "text": [
      "Model: \"sequential_5\"\n",
      "_________________________________________________________________\n",
      "Layer (type)                 Output Shape              Param #   \n",
      "=================================================================\n",
      "conv2d_10 (Conv2D)           (None, 220, 220, 50)      3800      \n",
      "_________________________________________________________________\n",
      "conv2d_11 (Conv2D)           (None, 216, 216, 75)      93825     \n",
      "_________________________________________________________________\n",
      "max_pooling2d_6 (MaxPooling2 (None, 54, 54, 75)        0         \n",
      "_________________________________________________________________\n",
      "flatten_5 (Flatten)          (None, 218700)            0         \n",
      "_________________________________________________________________\n",
      "dense_9 (Dense)              (None, 100)               21870100  \n",
      "_________________________________________________________________\n",
      "dense_10 (Dense)             (None, 1)                 101       \n",
      "=================================================================\n",
      "Total params: 21,967,826\n",
      "Trainable params: 21,967,826\n",
      "Non-trainable params: 0\n",
      "_________________________________________________________________\n"
     ]
    }
   ],
   "source": [
    "model.summary()"
   ]
  },
  {
   "cell_type": "code",
   "execution_count": null,
   "metadata": {
    "colab": {
     "base_uri": "https://localhost:8080/",
     "height": 471
    },
    "colab_type": "code",
    "executionInfo": {
     "elapsed": 325442,
     "status": "ok",
     "timestamp": 1585230768978,
     "user": {
      "displayName": "Aishwarya Singh",
      "photoUrl": "https://lh3.googleusercontent.com/a-/AOh14GgeJwfn4BdBDCAplWi_kdtB9FRssOpXO7T_aMgg=s64",
      "userId": "01105858832371513140"
     },
     "user_tz": -330
    },
    "id": "FPAQ7FBhN_sf",
    "outputId": "a061f366-d77b-4aa6-9c75-35bc7379c985"
   },
   "outputs": [
    {
     "name": "stdout",
     "output_type": "stream",
     "text": [
      "WARNING:tensorflow:From /usr/local/lib/python3.6/dist-packages/keras/backend/tensorflow_backend.py:1033: The name tf.assign_add is deprecated. Please use tf.compat.v1.assign_add instead.\n",
      "\n",
      "WARNING:tensorflow:From /usr/local/lib/python3.6/dist-packages/keras/backend/tensorflow_backend.py:1020: The name tf.assign is deprecated. Please use tf.compat.v1.assign instead.\n",
      "\n",
      "Train on 1646 samples, validate on 706 samples\n",
      "Epoch 1/10\n",
      "1646/1646 [==============================] - 53s 32ms/step - loss: 0.7113 - acc: 0.5468 - val_loss: 0.6912 - val_acc: 0.5510\n",
      "Epoch 2/10\n",
      "1646/1646 [==============================] - 30s 18ms/step - loss: 0.6662 - acc: 0.6063 - val_loss: 0.6732 - val_acc: 0.5609\n",
      "Epoch 3/10\n",
      "1646/1646 [==============================] - 30s 18ms/step - loss: 0.6532 - acc: 0.6173 - val_loss: 0.6541 - val_acc: 0.6034\n",
      "Epoch 4/10\n",
      "1646/1646 [==============================] - 30s 18ms/step - loss: 0.6375 - acc: 0.6513 - val_loss: 0.6341 - val_acc: 0.6530\n",
      "Epoch 5/10\n",
      "1646/1646 [==============================] - 30s 18ms/step - loss: 0.6394 - acc: 0.6495 - val_loss: 0.6355 - val_acc: 0.6303\n",
      "Epoch 6/10\n",
      "1646/1646 [==============================] - 30s 18ms/step - loss: 0.6349 - acc: 0.6440 - val_loss: 0.6250 - val_acc: 0.6530\n",
      "Epoch 7/10\n",
      "1646/1646 [==============================] - 30s 18ms/step - loss: 0.6257 - acc: 0.6519 - val_loss: 0.6087 - val_acc: 0.6728\n",
      "Epoch 8/10\n",
      "1646/1646 [==============================] - 30s 18ms/step - loss: 0.6092 - acc: 0.6738 - val_loss: 0.6407 - val_acc: 0.6261\n",
      "Epoch 9/10\n",
      "1646/1646 [==============================] - 30s 18ms/step - loss: 0.5982 - acc: 0.6810 - val_loss: 0.6598 - val_acc: 0.6119\n",
      "Epoch 10/10\n",
      "1646/1646 [==============================] - 30s 18ms/step - loss: 0.6104 - acc: 0.6719 - val_loss: 0.5837 - val_acc: 0.6884\n"
     ]
    }
   ],
   "source": [
    "# training the model\n",
    "model_history = model.fit(X_train, y_train, epochs=10, batch_size=128,validation_data=(X_valid,y_valid))"
   ]
  },
  {
   "cell_type": "code",
   "execution_count": 19,
   "metadata": {
    "colab": {
     "base_uri": "https://localhost:8080/",
     "height": 34
    },
    "colab_type": "code",
    "executionInfo": {
     "elapsed": 270882,
     "status": "ok",
     "timestamp": 1585227907392,
     "user": {
      "displayName": "Aishwarya Singh",
      "photoUrl": "https://lh3.googleusercontent.com/a-/AOh14GgeJwfn4BdBDCAplWi_kdtB9FRssOpXO7T_aMgg=s64",
      "userId": "01105858832371513140"
     },
     "user_tz": -330
    },
    "id": "4VqAxVzGGXk9",
    "outputId": "7581451c-b624-4e2e-8702-e351e8bac56f"
   },
   "outputs": [
    {
     "name": "stdout",
     "output_type": "stream",
     "text": [
      "Accuracy on training set: 0.6318347509113001 %\n"
     ]
    }
   ],
   "source": [
    "# accuracy on training set\n",
    "print('Accuracy on training set:', accuracy_score(y_train, np.where(model.predict(X_train)[:,0]) < 0.5, 0,1))"
   ]
  },
  {
   "cell_type": "code",
   "execution_count": 21,
   "metadata": {
    "colab": {
     "base_uri": "https://localhost:8080/",
     "height": 34
    },
    "colab_type": "code",
    "executionInfo": {
     "elapsed": 273619,
     "status": "ok",
     "timestamp": 1585227910434,
     "user": {
      "displayName": "Aishwarya Singh",
      "photoUrl": "https://lh3.googleusercontent.com/a-/AOh14GgeJwfn4BdBDCAplWi_kdtB9FRssOpXO7T_aMgg=s64",
      "userId": "01105858832371513140"
     },
     "user_tz": -330
    },
    "id": "HG13Xm6bGXQg",
    "outputId": "f6af5e11-f340-43df-cc88-08ed728239a1"
   },
   "outputs": [
    {
     "name": "stdout",
     "output_type": "stream",
     "text": [
      "Accuracy on validation set: 0.623229461756374 %\n"
     ]
    }
   ],
   "source": [
    "# accuracy on validation set\n",
    "print('Accuracy on validation set:', accuracy_score(y_valid, np.where(model.predict(X_valid)[:,0]) < 0.5, 0,1))"
   ]
  },
  {
   "cell_type": "markdown",
   "metadata": {
    "colab_type": "text",
    "id": "zJjMRdqpW2Rv"
   },
   "source": [
    "## 4. Changing size of convolutional filters"
   ]
  },
  {
   "cell_type": "code",
   "execution_count": null,
   "metadata": {
    "colab": {},
    "colab_type": "code",
    "id": "9of5ypRihKOH"
   },
   "outputs": [],
   "source": [
    "# change filter size for convolutional layer\n",
    "\n",
    "model = Sequential()\n",
    "    \n",
    "model.add(InputLayer(input_shape=(224, 224, 3)))\n",
    "\n",
    "model.add(Conv2D(25, (3, 3), activation='relu', strides=(1, 1), padding='valid'))\n",
    "model.add(Conv2D(50, (3, 3), activation='relu', strides=(1, 1), padding='valid'))\n",
    "model.add(MaxPool2D(pool_size=(4, 4), padding='valid'))\n",
    "\n",
    "model.add(Flatten())\n",
    "\n",
    "model.add(Dense(units=100, activation='sigmoid'))\n",
    "model.add(Dense(units=1, activation='sigmoid'))\n",
    "\n",
    "model.compile(loss='binary_crossentropy', optimizer=\"sgd\", metrics=['accuracy'])"
   ]
  },
  {
   "cell_type": "code",
   "execution_count": null,
   "metadata": {
    "colab": {
     "base_uri": "https://localhost:8080/",
     "height": 364
    },
    "colab_type": "code",
    "executionInfo": {
     "elapsed": 1050,
     "status": "ok",
     "timestamp": 1585230873007,
     "user": {
      "displayName": "Aishwarya Singh",
      "photoUrl": "https://lh3.googleusercontent.com/a-/AOh14GgeJwfn4BdBDCAplWi_kdtB9FRssOpXO7T_aMgg=s64",
      "userId": "01105858832371513140"
     },
     "user_tz": -330
    },
    "id": "Ax6l1FB9XZ1I",
    "outputId": "dd539302-5685-4d55-9ee6-e32d4adde3df"
   },
   "outputs": [
    {
     "name": "stdout",
     "output_type": "stream",
     "text": [
      "Model: \"sequential_6\"\n",
      "_________________________________________________________________\n",
      "Layer (type)                 Output Shape              Param #   \n",
      "=================================================================\n",
      "conv2d_12 (Conv2D)           (None, 222, 222, 25)      700       \n",
      "_________________________________________________________________\n",
      "conv2d_13 (Conv2D)           (None, 220, 220, 50)      11300     \n",
      "_________________________________________________________________\n",
      "max_pooling2d_7 (MaxPooling2 (None, 55, 55, 50)        0         \n",
      "_________________________________________________________________\n",
      "flatten_6 (Flatten)          (None, 151250)            0         \n",
      "_________________________________________________________________\n",
      "dense_11 (Dense)             (None, 100)               15125100  \n",
      "_________________________________________________________________\n",
      "dense_12 (Dense)             (None, 1)                 101       \n",
      "=================================================================\n",
      "Total params: 15,137,201\n",
      "Trainable params: 15,137,201\n",
      "Non-trainable params: 0\n",
      "_________________________________________________________________\n"
     ]
    }
   ],
   "source": [
    "model.summary()"
   ]
  },
  {
   "cell_type": "code",
   "execution_count": null,
   "metadata": {
    "colab": {
     "base_uri": "https://localhost:8080/",
     "height": 382
    },
    "colab_type": "code",
    "executionInfo": {
     "elapsed": 110980,
     "status": "ok",
     "timestamp": 1585230994913,
     "user": {
      "displayName": "Aishwarya Singh",
      "photoUrl": "https://lh3.googleusercontent.com/a-/AOh14GgeJwfn4BdBDCAplWi_kdtB9FRssOpXO7T_aMgg=s64",
      "userId": "01105858832371513140"
     },
     "user_tz": -330
    },
    "id": "HtwUPK-tXZ1l",
    "outputId": "800cffc9-1da0-4b77-ca6c-2f3f10a1d385"
   },
   "outputs": [
    {
     "name": "stdout",
     "output_type": "stream",
     "text": [
      "Train on 1646 samples, validate on 706 samples\n",
      "Epoch 1/10\n",
      "1646/1646 [==============================] - 18s 11ms/step - loss: 0.6765 - acc: 0.5863 - val_loss: 0.6781 - val_acc: 0.5609\n",
      "Epoch 2/10\n",
      "1646/1646 [==============================] - 10s 6ms/step - loss: 0.6675 - acc: 0.5863 - val_loss: 0.6679 - val_acc: 0.5609\n",
      "Epoch 3/10\n",
      "1646/1646 [==============================] - 10s 6ms/step - loss: 0.6594 - acc: 0.5923 - val_loss: 0.6606 - val_acc: 0.5652\n",
      "Epoch 4/10\n",
      "1646/1646 [==============================] - 10s 6ms/step - loss: 0.6520 - acc: 0.6118 - val_loss: 0.6514 - val_acc: 0.6062\n",
      "Epoch 5/10\n",
      "1646/1646 [==============================] - 10s 6ms/step - loss: 0.6445 - acc: 0.6245 - val_loss: 0.6423 - val_acc: 0.6360\n",
      "Epoch 6/10\n",
      "1646/1646 [==============================] - 10s 6ms/step - loss: 0.6354 - acc: 0.6555 - val_loss: 0.6371 - val_acc: 0.6133\n",
      "Epoch 7/10\n",
      "1646/1646 [==============================] - 10s 6ms/step - loss: 0.6261 - acc: 0.6725 - val_loss: 0.6306 - val_acc: 0.6246\n",
      "Epoch 8/10\n",
      "1646/1646 [==============================] - 10s 6ms/step - loss: 0.6167 - acc: 0.6762 - val_loss: 0.6136 - val_acc: 0.6969\n",
      "Epoch 9/10\n",
      "1646/1646 [==============================] - 10s 6ms/step - loss: 0.6084 - acc: 0.6926 - val_loss: 0.6111 - val_acc: 0.6657\n",
      "Epoch 10/10\n",
      "1646/1646 [==============================] - 10s 6ms/step - loss: 0.6001 - acc: 0.7023 - val_loss: 0.5981 - val_acc: 0.7096\n"
     ]
    }
   ],
   "source": [
    "# training the model\n",
    "model_history = model.fit(X_train, y_train, epochs=10, batch_size=128,validation_data=(X_valid,y_valid))"
   ]
  },
  {
   "cell_type": "code",
   "execution_count": 19,
   "metadata": {
    "colab": {
     "base_uri": "https://localhost:8080/",
     "height": 34
    },
    "colab_type": "code",
    "executionInfo": {
     "elapsed": 270882,
     "status": "ok",
     "timestamp": 1585227907392,
     "user": {
      "displayName": "Aishwarya Singh",
      "photoUrl": "https://lh3.googleusercontent.com/a-/AOh14GgeJwfn4BdBDCAplWi_kdtB9FRssOpXO7T_aMgg=s64",
      "userId": "01105858832371513140"
     },
     "user_tz": -330
    },
    "id": "4VqAxVzGGXk9",
    "outputId": "7581451c-b624-4e2e-8702-e351e8bac56f"
   },
   "outputs": [
    {
     "name": "stdout",
     "output_type": "stream",
     "text": [
      "Accuracy on training set: 0.6318347509113001 %\n"
     ]
    }
   ],
   "source": [
    "# accuracy on training set\n",
    "print('Accuracy on training set:', accuracy_score(y_train, np.where(model.predict(X_train)[:,0]) < 0.5, 0,1))"
   ]
  },
  {
   "cell_type": "code",
   "execution_count": 21,
   "metadata": {
    "colab": {
     "base_uri": "https://localhost:8080/",
     "height": 34
    },
    "colab_type": "code",
    "executionInfo": {
     "elapsed": 273619,
     "status": "ok",
     "timestamp": 1585227910434,
     "user": {
      "displayName": "Aishwarya Singh",
      "photoUrl": "https://lh3.googleusercontent.com/a-/AOh14GgeJwfn4BdBDCAplWi_kdtB9FRssOpXO7T_aMgg=s64",
      "userId": "01105858832371513140"
     },
     "user_tz": -330
    },
    "id": "HG13Xm6bGXQg",
    "outputId": "f6af5e11-f340-43df-cc88-08ed728239a1"
   },
   "outputs": [
    {
     "name": "stdout",
     "output_type": "stream",
     "text": [
      "Accuracy on validation set: 0.623229461756374 %\n"
     ]
    }
   ],
   "source": [
    "# accuracy on validation set\n",
    "print('Accuracy on validation set:', accuracy_score(y_valid, np.where(model.predict(X_valid)[:,0]) < 0.5, 0,1))"
   ]
  },
  {
   "cell_type": "markdown",
   "metadata": {
    "colab_type": "text",
    "id": "MugTAmQ7XcLq"
   },
   "source": [
    "## 5. Changing pooling size"
   ]
  },
  {
   "cell_type": "code",
   "execution_count": null,
   "metadata": {
    "colab": {},
    "colab_type": "code",
    "id": "1TlepUXsX-Pt"
   },
   "outputs": [],
   "source": [
    "# change pooling size\n",
    "\n",
    "model = Sequential()\n",
    "    \n",
    "model.add(InputLayer(input_shape=(224, 224, 3)))\n",
    "\n",
    "model.add(Conv2D(25, (5, 5), activation='relu', strides=(1, 1), padding='valid'))\n",
    "model.add(Conv2D(50, (5, 5), activation='relu', strides=(1, 1), padding='valid'))\n",
    "model.add(MaxPool2D(pool_size=(2, 2), padding='valid'))\n",
    "\n",
    "model.add(Flatten())\n",
    "\n",
    "model.add(Dense(units=100, activation='sigmoid'))\n",
    "model.add(Dense(units=1, activation='sigmoid'))\n",
    "\n",
    "model.compile(loss='binary_crossentropy', optimizer=\"sgd\", metrics=['accuracy'])"
   ]
  },
  {
   "cell_type": "code",
   "execution_count": null,
   "metadata": {
    "colab": {
     "base_uri": "https://localhost:8080/",
     "height": 364
    },
    "colab_type": "code",
    "executionInfo": {
     "elapsed": 3143,
     "status": "ok",
     "timestamp": 1585231114304,
     "user": {
      "displayName": "Aishwarya Singh",
      "photoUrl": "https://lh3.googleusercontent.com/a-/AOh14GgeJwfn4BdBDCAplWi_kdtB9FRssOpXO7T_aMgg=s64",
      "userId": "01105858832371513140"
     },
     "user_tz": -330
    },
    "id": "u5c9xliOX-QN",
    "outputId": "27084503-545e-41bb-f39f-2fb01f45b9dc"
   },
   "outputs": [
    {
     "name": "stdout",
     "output_type": "stream",
     "text": [
      "Model: \"sequential_7\"\n",
      "_________________________________________________________________\n",
      "Layer (type)                 Output Shape              Param #   \n",
      "=================================================================\n",
      "conv2d_14 (Conv2D)           (None, 220, 220, 25)      1900      \n",
      "_________________________________________________________________\n",
      "conv2d_15 (Conv2D)           (None, 216, 216, 50)      31300     \n",
      "_________________________________________________________________\n",
      "max_pooling2d_8 (MaxPooling2 (None, 108, 108, 50)      0         \n",
      "_________________________________________________________________\n",
      "flatten_7 (Flatten)          (None, 583200)            0         \n",
      "_________________________________________________________________\n",
      "dense_13 (Dense)             (None, 100)               58320100  \n",
      "_________________________________________________________________\n",
      "dense_14 (Dense)             (None, 1)                 101       \n",
      "=================================================================\n",
      "Total params: 58,353,401\n",
      "Trainable params: 58,353,401\n",
      "Non-trainable params: 0\n",
      "_________________________________________________________________\n"
     ]
    }
   ],
   "source": [
    "model.summary()"
   ]
  },
  {
   "cell_type": "code",
   "execution_count": null,
   "metadata": {
    "colab": {
     "base_uri": "https://localhost:8080/",
     "height": 382
    },
    "colab_type": "code",
    "executionInfo": {
     "elapsed": 153363,
     "status": "ok",
     "timestamp": 1585231293367,
     "user": {
      "displayName": "Aishwarya Singh",
      "photoUrl": "https://lh3.googleusercontent.com/a-/AOh14GgeJwfn4BdBDCAplWi_kdtB9FRssOpXO7T_aMgg=s64",
      "userId": "01105858832371513140"
     },
     "user_tz": -330
    },
    "id": "ObaTC2H-X-Qb",
    "outputId": "0e0cc31e-a486-476a-d4df-777687905e38"
   },
   "outputs": [
    {
     "name": "stdout",
     "output_type": "stream",
     "text": [
      "Train on 1646 samples, validate on 706 samples\n",
      "Epoch 1/10\n",
      "1646/1646 [==============================] - 26s 16ms/step - loss: 0.6931 - acc: 0.5699 - val_loss: 0.6813 - val_acc: 0.5538\n",
      "Epoch 2/10\n",
      "1646/1646 [==============================] - 14s 8ms/step - loss: 0.6568 - acc: 0.5930 - val_loss: 0.6549 - val_acc: 0.5751\n",
      "Epoch 3/10\n",
      "1646/1646 [==============================] - 14s 8ms/step - loss: 0.6389 - acc: 0.6440 - val_loss: 0.6649 - val_acc: 0.6034\n",
      "Epoch 4/10\n",
      "1646/1646 [==============================] - 14s 8ms/step - loss: 0.6316 - acc: 0.6379 - val_loss: 0.6089 - val_acc: 0.6771\n",
      "Epoch 5/10\n",
      "1646/1646 [==============================] - 14s 8ms/step - loss: 0.6169 - acc: 0.6677 - val_loss: 0.5992 - val_acc: 0.6841\n",
      "Epoch 6/10\n",
      "1646/1646 [==============================] - 14s 8ms/step - loss: 0.6320 - acc: 0.6440 - val_loss: 0.5894 - val_acc: 0.6983\n",
      "Epoch 7/10\n",
      "1646/1646 [==============================] - 14s 9ms/step - loss: 0.5779 - acc: 0.7175 - val_loss: 0.5742 - val_acc: 0.7040\n",
      "Epoch 8/10\n",
      "1646/1646 [==============================] - 14s 8ms/step - loss: 0.5813 - acc: 0.7017 - val_loss: 0.5639 - val_acc: 0.7054\n",
      "Epoch 9/10\n",
      "1646/1646 [==============================] - 14s 8ms/step - loss: 0.5494 - acc: 0.7266 - val_loss: 0.5590 - val_acc: 0.7011\n",
      "Epoch 10/10\n",
      "1646/1646 [==============================] - 14s 8ms/step - loss: 0.5772 - acc: 0.7145 - val_loss: 0.5541 - val_acc: 0.7210\n"
     ]
    }
   ],
   "source": [
    "# training the model\n",
    "model_history = model.fit(X_train, y_train, epochs=10, batch_size=128,validation_data=(X_valid,y_valid))"
   ]
  },
  {
   "cell_type": "code",
   "execution_count": 19,
   "metadata": {
    "colab": {
     "base_uri": "https://localhost:8080/",
     "height": 34
    },
    "colab_type": "code",
    "executionInfo": {
     "elapsed": 270882,
     "status": "ok",
     "timestamp": 1585227907392,
     "user": {
      "displayName": "Aishwarya Singh",
      "photoUrl": "https://lh3.googleusercontent.com/a-/AOh14GgeJwfn4BdBDCAplWi_kdtB9FRssOpXO7T_aMgg=s64",
      "userId": "01105858832371513140"
     },
     "user_tz": -330
    },
    "id": "4VqAxVzGGXk9",
    "outputId": "7581451c-b624-4e2e-8702-e351e8bac56f"
   },
   "outputs": [
    {
     "name": "stdout",
     "output_type": "stream",
     "text": [
      "Accuracy on training set: 0.6318347509113001 %\n"
     ]
    }
   ],
   "source": [
    "# accuracy on training set\n",
    "print('Accuracy on training set:', accuracy_score(y_train, np.where(model.predict(X_train)[:,0]) < 0.5, 0,1))"
   ]
  },
  {
   "cell_type": "code",
   "execution_count": 21,
   "metadata": {
    "colab": {
     "base_uri": "https://localhost:8080/",
     "height": 34
    },
    "colab_type": "code",
    "executionInfo": {
     "elapsed": 273619,
     "status": "ok",
     "timestamp": 1585227910434,
     "user": {
      "displayName": "Aishwarya Singh",
      "photoUrl": "https://lh3.googleusercontent.com/a-/AOh14GgeJwfn4BdBDCAplWi_kdtB9FRssOpXO7T_aMgg=s64",
      "userId": "01105858832371513140"
     },
     "user_tz": -330
    },
    "id": "HG13Xm6bGXQg",
    "outputId": "f6af5e11-f340-43df-cc88-08ed728239a1"
   },
   "outputs": [
    {
     "name": "stdout",
     "output_type": "stream",
     "text": [
      "Accuracy on validation set: 0.623229461756374 %\n"
     ]
    }
   ],
   "source": [
    "# accuracy on validation set\n",
    "print('Accuracy on validation set:', accuracy_score(y_valid, np.where(model.predict(X_valid)[:,0]) < 0.5, 0,1))"
   ]
  },
  {
   "cell_type": "markdown",
   "metadata": {
    "colab_type": "text",
    "id": "sOCZcGB5YQSx"
   },
   "source": [
    "## 6. Changing padding technique"
   ]
  },
  {
   "cell_type": "code",
   "execution_count": null,
   "metadata": {
    "colab": {},
    "colab_type": "code",
    "id": "pyvT1mT8hKOY"
   },
   "outputs": [],
   "source": [
    "# change padding technique\n",
    "\n",
    "model = Sequential()\n",
    "    \n",
    "model.add(InputLayer(input_shape=(224, 224, 3)))\n",
    "\n",
    "model.add(Conv2D(25, (5, 5), activation='relu', strides=(1, 1), padding='same'))\n",
    "model.add(Conv2D(50, (5, 5), activation='relu', strides=(1, 1), padding='same'))\n",
    "model.add(MaxPool2D(pool_size=(4, 4), padding='valid'))\n",
    "\n",
    "model.add(Flatten())\n",
    "\n",
    "model.add(Dense(units=100, activation='sigmoid'))\n",
    "model.add(Dense(units=1, activation='sigmoid'))\n",
    "\n",
    "model.compile(loss='binary_crossentropy', optimizer=\"sgd\", metrics=['accuracy'])"
   ]
  },
  {
   "cell_type": "code",
   "execution_count": null,
   "metadata": {
    "colab": {
     "base_uri": "https://localhost:8080/",
     "height": 364
    },
    "colab_type": "code",
    "executionInfo": {
     "elapsed": 1811,
     "status": "ok",
     "timestamp": 1585232067935,
     "user": {
      "displayName": "Aishwarya Singh",
      "photoUrl": "https://lh3.googleusercontent.com/a-/AOh14GgeJwfn4BdBDCAplWi_kdtB9FRssOpXO7T_aMgg=s64",
      "userId": "01105858832371513140"
     },
     "user_tz": -330
    },
    "id": "cf-z6vIBYyzH",
    "outputId": "4585e7f1-f78f-4ced-d956-645acc64e6bf"
   },
   "outputs": [
    {
     "name": "stdout",
     "output_type": "stream",
     "text": [
      "Model: \"sequential_8\"\n",
      "_________________________________________________________________\n",
      "Layer (type)                 Output Shape              Param #   \n",
      "=================================================================\n",
      "conv2d_16 (Conv2D)           (None, 224, 224, 25)      1900      \n",
      "_________________________________________________________________\n",
      "conv2d_17 (Conv2D)           (None, 224, 224, 50)      31300     \n",
      "_________________________________________________________________\n",
      "max_pooling2d_9 (MaxPooling2 (None, 56, 56, 50)        0         \n",
      "_________________________________________________________________\n",
      "flatten_8 (Flatten)          (None, 156800)            0         \n",
      "_________________________________________________________________\n",
      "dense_15 (Dense)             (None, 100)               15680100  \n",
      "_________________________________________________________________\n",
      "dense_16 (Dense)             (None, 1)                 101       \n",
      "=================================================================\n",
      "Total params: 15,713,401\n",
      "Trainable params: 15,713,401\n",
      "Non-trainable params: 0\n",
      "_________________________________________________________________\n"
     ]
    }
   ],
   "source": [
    "model.summary()"
   ]
  },
  {
   "cell_type": "code",
   "execution_count": null,
   "metadata": {
    "colab": {
     "base_uri": "https://localhost:8080/",
     "height": 382
    },
    "colab_type": "code",
    "executionInfo": {
     "elapsed": 132513,
     "status": "ok",
     "timestamp": 1585232234456,
     "user": {
      "displayName": "Aishwarya Singh",
      "photoUrl": "https://lh3.googleusercontent.com/a-/AOh14GgeJwfn4BdBDCAplWi_kdtB9FRssOpXO7T_aMgg=s64",
      "userId": "01105858832371513140"
     },
     "user_tz": -330
    },
    "id": "FfeXcq8xYyzp",
    "outputId": "8ff34394-a28d-487e-95af-c776531c92f8"
   },
   "outputs": [
    {
     "name": "stdout",
     "output_type": "stream",
     "text": [
      "Train on 1646 samples, validate on 706 samples\n",
      "Epoch 1/10\n",
      "1646/1646 [==============================] - 24s 14ms/step - loss: 0.6736 - acc: 0.5863 - val_loss: 0.6756 - val_acc: 0.5609\n",
      "Epoch 2/10\n",
      "1646/1646 [==============================] - 12s 7ms/step - loss: 0.6631 - acc: 0.5978 - val_loss: 0.6573 - val_acc: 0.6473\n",
      "Epoch 3/10\n",
      "1646/1646 [==============================] - 12s 7ms/step - loss: 0.6510 - acc: 0.6324 - val_loss: 0.6431 - val_acc: 0.6530\n",
      "Epoch 4/10\n",
      "1646/1646 [==============================] - 12s 7ms/step - loss: 0.6400 - acc: 0.6452 - val_loss: 0.6339 - val_acc: 0.6416\n",
      "Epoch 5/10\n",
      "1646/1646 [==============================] - 12s 7ms/step - loss: 0.6289 - acc: 0.6586 - val_loss: 0.6321 - val_acc: 0.6275\n",
      "Epoch 6/10\n",
      "1646/1646 [==============================] - 12s 7ms/step - loss: 0.6182 - acc: 0.6652 - val_loss: 0.6086 - val_acc: 0.6686\n",
      "Epoch 7/10\n",
      "1646/1646 [==============================] - 12s 7ms/step - loss: 0.6193 - acc: 0.6713 - val_loss: 0.6364 - val_acc: 0.6190\n",
      "Epoch 8/10\n",
      "1646/1646 [==============================] - 12s 7ms/step - loss: 0.6170 - acc: 0.6640 - val_loss: 0.6024 - val_acc: 0.6657\n",
      "Epoch 9/10\n",
      "1646/1646 [==============================] - 12s 7ms/step - loss: 0.5908 - acc: 0.7120 - val_loss: 0.5881 - val_acc: 0.6813\n",
      "Epoch 10/10\n",
      "1646/1646 [==============================] - 12s 7ms/step - loss: 0.5817 - acc: 0.6999 - val_loss: 0.5729 - val_acc: 0.7040\n"
     ]
    }
   ],
   "source": [
    "# training the model\n",
    "model_history = model.fit(X_train, y_train, epochs=10, batch_size=128,validation_data=(X_valid,y_valid))"
   ]
  },
  {
   "cell_type": "code",
   "execution_count": 19,
   "metadata": {
    "colab": {
     "base_uri": "https://localhost:8080/",
     "height": 34
    },
    "colab_type": "code",
    "executionInfo": {
     "elapsed": 270882,
     "status": "ok",
     "timestamp": 1585227907392,
     "user": {
      "displayName": "Aishwarya Singh",
      "photoUrl": "https://lh3.googleusercontent.com/a-/AOh14GgeJwfn4BdBDCAplWi_kdtB9FRssOpXO7T_aMgg=s64",
      "userId": "01105858832371513140"
     },
     "user_tz": -330
    },
    "id": "4VqAxVzGGXk9",
    "outputId": "7581451c-b624-4e2e-8702-e351e8bac56f"
   },
   "outputs": [
    {
     "name": "stdout",
     "output_type": "stream",
     "text": [
      "Accuracy on training set: 0.6318347509113001 %\n"
     ]
    }
   ],
   "source": [
    "# accuracy on training set\n",
    "print('Accuracy on training set:', accuracy_score(y_train, np.where(model.predict(X_train)[:,0]) < 0.5, 0,1))"
   ]
  },
  {
   "cell_type": "code",
   "execution_count": 21,
   "metadata": {
    "colab": {
     "base_uri": "https://localhost:8080/",
     "height": 34
    },
    "colab_type": "code",
    "executionInfo": {
     "elapsed": 273619,
     "status": "ok",
     "timestamp": 1585227910434,
     "user": {
      "displayName": "Aishwarya Singh",
      "photoUrl": "https://lh3.googleusercontent.com/a-/AOh14GgeJwfn4BdBDCAplWi_kdtB9FRssOpXO7T_aMgg=s64",
      "userId": "01105858832371513140"
     },
     "user_tz": -330
    },
    "id": "HG13Xm6bGXQg",
    "outputId": "f6af5e11-f340-43df-cc88-08ed728239a1"
   },
   "outputs": [
    {
     "name": "stdout",
     "output_type": "stream",
     "text": [
      "Accuracy on validation set: 0.623229461756374 %\n"
     ]
    }
   ],
   "source": [
    "# accuracy on validation set\n",
    "print('Accuracy on validation set:', accuracy_score(y_valid, np.where(model.predict(X_valid)[:,0]) < 0.5, 0,1))"
   ]
  },
  {
   "cell_type": "markdown",
   "metadata": {
    "colab_type": "text",
    "id": "gSYrnrv-Y3qZ"
   },
   "source": [
    "## 7. Changing stride"
   ]
  },
  {
   "cell_type": "code",
   "execution_count": null,
   "metadata": {
    "colab": {},
    "colab_type": "code",
    "id": "9l6Qo3oehKOm"
   },
   "outputs": [],
   "source": [
    "# changing stride\n",
    "\n",
    "model = Sequential()\n",
    "    \n",
    "model.add(InputLayer(input_shape=(224, 224, 3)))\n",
    "\n",
    "model.add(Conv2D(25, (5, 5), activation='relu', strides=(2, 2), padding='valid'))\n",
    "model.add(Conv2D(50, (5, 5), activation='relu', strides=(1, 1), padding='valid'))\n",
    "model.add(MaxPool2D(pool_size=(4, 4), padding='valid'))\n",
    "\n",
    "model.add(Flatten())\n",
    "\n",
    "model.add(Dense(units=100, activation='sigmoid'))\n",
    "model.add(Dense(units=1, activation='sigmoid'))\n",
    "\n",
    "model.compile(loss='binary_crossentropy', optimizer=\"sgd\", metrics=['accuracy'])"
   ]
  },
  {
   "cell_type": "code",
   "execution_count": null,
   "metadata": {
    "colab": {
     "base_uri": "https://localhost:8080/",
     "height": 364
    },
    "colab_type": "code",
    "executionInfo": {
     "elapsed": 710,
     "status": "ok",
     "timestamp": 1585232299373,
     "user": {
      "displayName": "Aishwarya Singh",
      "photoUrl": "https://lh3.googleusercontent.com/a-/AOh14GgeJwfn4BdBDCAplWi_kdtB9FRssOpXO7T_aMgg=s64",
      "userId": "01105858832371513140"
     },
     "user_tz": -330
    },
    "id": "tctf_89BhKO0",
    "outputId": "50d22b6a-9aec-4755-8d8f-db05d17cf8fb"
   },
   "outputs": [
    {
     "name": "stdout",
     "output_type": "stream",
     "text": [
      "Model: \"sequential_9\"\n",
      "_________________________________________________________________\n",
      "Layer (type)                 Output Shape              Param #   \n",
      "=================================================================\n",
      "conv2d_18 (Conv2D)           (None, 110, 110, 25)      1900      \n",
      "_________________________________________________________________\n",
      "conv2d_19 (Conv2D)           (None, 106, 106, 50)      31300     \n",
      "_________________________________________________________________\n",
      "max_pooling2d_10 (MaxPooling (None, 26, 26, 50)        0         \n",
      "_________________________________________________________________\n",
      "flatten_9 (Flatten)          (None, 33800)             0         \n",
      "_________________________________________________________________\n",
      "dense_17 (Dense)             (None, 100)               3380100   \n",
      "_________________________________________________________________\n",
      "dense_18 (Dense)             (None, 1)                 101       \n",
      "=================================================================\n",
      "Total params: 3,413,401\n",
      "Trainable params: 3,413,401\n",
      "Non-trainable params: 0\n",
      "_________________________________________________________________\n"
     ]
    }
   ],
   "source": [
    "model.summary()"
   ]
  },
  {
   "cell_type": "code",
   "execution_count": null,
   "metadata": {
    "colab": {
     "base_uri": "https://localhost:8080/",
     "height": 382
    },
    "colab_type": "code",
    "executionInfo": {
     "elapsed": 43149,
     "status": "ok",
     "timestamp": 1585232371336,
     "user": {
      "displayName": "Aishwarya Singh",
      "photoUrl": "https://lh3.googleusercontent.com/a-/AOh14GgeJwfn4BdBDCAplWi_kdtB9FRssOpXO7T_aMgg=s64",
      "userId": "01105858832371513140"
     },
     "user_tz": -330
    },
    "id": "Nb5q7nbpZ5ua",
    "outputId": "4deab1d9-6c44-4a1d-a6fc-f6d389ef4bd8"
   },
   "outputs": [
    {
     "name": "stdout",
     "output_type": "stream",
     "text": [
      "Train on 1646 samples, validate on 706 samples\n",
      "Epoch 1/10\n",
      "1646/1646 [==============================] - 7s 4ms/step - loss: 0.6764 - acc: 0.5863 - val_loss: 0.6826 - val_acc: 0.5609\n",
      "Epoch 2/10\n",
      "1646/1646 [==============================] - 4s 2ms/step - loss: 0.6726 - acc: 0.5869 - val_loss: 0.6832 - val_acc: 0.5609\n",
      "Epoch 3/10\n",
      "1646/1646 [==============================] - 4s 2ms/step - loss: 0.6698 - acc: 0.5863 - val_loss: 0.6743 - val_acc: 0.5609\n",
      "Epoch 4/10\n",
      "1646/1646 [==============================] - 4s 2ms/step - loss: 0.6647 - acc: 0.5863 - val_loss: 0.6675 - val_acc: 0.5609\n",
      "Epoch 5/10\n",
      "1646/1646 [==============================] - 4s 2ms/step - loss: 0.6613 - acc: 0.5923 - val_loss: 0.6634 - val_acc: 0.5609\n",
      "Epoch 6/10\n",
      "1646/1646 [==============================] - 4s 2ms/step - loss: 0.6583 - acc: 0.5960 - val_loss: 0.6576 - val_acc: 0.5793\n",
      "Epoch 7/10\n",
      "1646/1646 [==============================] - 4s 2ms/step - loss: 0.6532 - acc: 0.6118 - val_loss: 0.6537 - val_acc: 0.5779\n",
      "Epoch 8/10\n",
      "1646/1646 [==============================] - 4s 2ms/step - loss: 0.6461 - acc: 0.6160 - val_loss: 0.6442 - val_acc: 0.6686\n",
      "Epoch 9/10\n",
      "1646/1646 [==============================] - 4s 2ms/step - loss: 0.6413 - acc: 0.6337 - val_loss: 0.6451 - val_acc: 0.5963\n",
      "Epoch 10/10\n",
      "1646/1646 [==============================] - 4s 2ms/step - loss: 0.6358 - acc: 0.6488 - val_loss: 0.6319 - val_acc: 0.6572\n"
     ]
    }
   ],
   "source": [
    "# training the model\n",
    "model_history = model.fit(X_train, y_train, epochs=10, batch_size=128,validation_data=(X_valid,y_valid))"
   ]
  },
  {
   "cell_type": "code",
   "execution_count": 19,
   "metadata": {
    "colab": {
     "base_uri": "https://localhost:8080/",
     "height": 34
    },
    "colab_type": "code",
    "executionInfo": {
     "elapsed": 270882,
     "status": "ok",
     "timestamp": 1585227907392,
     "user": {
      "displayName": "Aishwarya Singh",
      "photoUrl": "https://lh3.googleusercontent.com/a-/AOh14GgeJwfn4BdBDCAplWi_kdtB9FRssOpXO7T_aMgg=s64",
      "userId": "01105858832371513140"
     },
     "user_tz": -330
    },
    "id": "4VqAxVzGGXk9",
    "outputId": "7581451c-b624-4e2e-8702-e351e8bac56f"
   },
   "outputs": [
    {
     "name": "stdout",
     "output_type": "stream",
     "text": [
      "Accuracy on training set: 0.6318347509113001 %\n"
     ]
    }
   ],
   "source": [
    "# accuracy on training set\n",
    "print('Accuracy on training set:', accuracy_score(y_train, np.where(model.predict(X_train)[:,0]) < 0.5, 0,1))"
   ]
  },
  {
   "cell_type": "code",
   "execution_count": 21,
   "metadata": {
    "colab": {
     "base_uri": "https://localhost:8080/",
     "height": 34
    },
    "colab_type": "code",
    "executionInfo": {
     "elapsed": 273619,
     "status": "ok",
     "timestamp": 1585227910434,
     "user": {
      "displayName": "Aishwarya Singh",
      "photoUrl": "https://lh3.googleusercontent.com/a-/AOh14GgeJwfn4BdBDCAplWi_kdtB9FRssOpXO7T_aMgg=s64",
      "userId": "01105858832371513140"
     },
     "user_tz": -330
    },
    "id": "HG13Xm6bGXQg",
    "outputId": "f6af5e11-f340-43df-cc88-08ed728239a1"
   },
   "outputs": [
    {
     "name": "stdout",
     "output_type": "stream",
     "text": [
      "Accuracy on validation set: 0.623229461756374 %\n"
     ]
    }
   ],
   "source": [
    "# accuracy on validation set\n",
    "print('Accuracy on validation set:', accuracy_score(y_valid, np.where(model.predict(X_valid)[:,0]) < 0.5, 0,1))"
   ]
  },
  {
   "cell_type": "markdown",
   "metadata": {
    "colab_type": "text",
    "id": "8TUZlzVvb7EW"
   },
   "source": [
    "## Combining Hyperparameter tuning"
   ]
  },
  {
   "cell_type": "code",
   "execution_count": null,
   "metadata": {
    "colab": {
     "base_uri": "https://localhost:8080/",
     "height": 159
    },
    "colab_type": "code",
    "executionInfo": {
     "elapsed": 1140,
     "status": "ok",
     "timestamp": 1585232531911,
     "user": {
      "displayName": "Aishwarya Singh",
      "photoUrl": "https://lh3.googleusercontent.com/a-/AOh14GgeJwfn4BdBDCAplWi_kdtB9FRssOpXO7T_aMgg=s64",
      "userId": "01105858832371513140"
     },
     "user_tz": -330
    },
    "id": "D5fIqq0ocA5r",
    "outputId": "3bd9c917-0def-4cdb-c3b4-dee80e3e8cd7"
   },
   "outputs": [
    {
     "name": "stdout",
     "output_type": "stream",
     "text": [
      "WARNING:tensorflow:From /usr/local/lib/python3.6/dist-packages/keras/backend/tensorflow_backend.py:148: The name tf.placeholder_with_default is deprecated. Please use tf.compat.v1.placeholder_with_default instead.\n",
      "\n",
      "WARNING:tensorflow:From /usr/local/lib/python3.6/dist-packages/keras/backend/tensorflow_backend.py:3733: calling dropout (from tensorflow.python.ops.nn_ops) with keep_prob is deprecated and will be removed in a future version.\n",
      "Instructions for updating:\n",
      "Please use `rate` instead of `keep_prob`. Rate should be set to `rate = 1 - keep_prob`.\n",
      "WARNING:tensorflow:Large dropout rate: 0.6 (>0.5). In TensorFlow 2.x, dropout() uses dropout rate instead of keep_prob. Please ensure that this is intended.\n",
      "WARNING:tensorflow:Large dropout rate: 0.6 (>0.5). In TensorFlow 2.x, dropout() uses dropout rate instead of keep_prob. Please ensure that this is intended.\n"
     ]
    }
   ],
   "source": [
    "# defining the model architecture with maxpool layer\n",
    "\n",
    "model = Sequential()\n",
    "    \n",
    "model.add(InputLayer(input_shape=(224, 224, 3)))\n",
    "\n",
    "model.add(Conv2D(50, (5, 5), activation='relu', strides=(1, 1), padding='valid'))\n",
    "model.add(MaxPool2D(pool_size=(2, 2), padding='valid'))\n",
    "model.add(Conv2D(50, (5, 5), activation='relu', strides=(1, 1), padding='valid'))\n",
    "model.add(MaxPool2D(pool_size=(4, 4), padding='valid'))\n",
    "\n",
    "model.add(Flatten())\n",
    "\n",
    "model.add(Dense(units=100, activation='relu'))\n",
    "model.add(BatchNormalization())\n",
    "model.add(Dropout(rate=0.6))\n",
    "model.add(Dense(units=100, activation='relu'))\n",
    "model.add(BatchNormalization())\n",
    "model.add(Dropout(rate=0.6))\n",
    "model.add(Dense(units=1, activation='sigmoid'))\n",
    "\n",
    "# compiling the model\n",
    "model.compile(loss='binary_crossentropy', optimizer=\"adam\", metrics=['accuracy'])"
   ]
  },
  {
   "cell_type": "code",
   "execution_count": null,
   "metadata": {
    "colab": {
     "base_uri": "https://localhost:8080/",
     "height": 573
    },
    "colab_type": "code",
    "executionInfo": {
     "elapsed": 1048,
     "status": "ok",
     "timestamp": 1585232533269,
     "user": {
      "displayName": "Aishwarya Singh",
      "photoUrl": "https://lh3.googleusercontent.com/a-/AOh14GgeJwfn4BdBDCAplWi_kdtB9FRssOpXO7T_aMgg=s64",
      "userId": "01105858832371513140"
     },
     "user_tz": -330
    },
    "id": "3-SYPJ7ccxO_",
    "outputId": "2a8b2b33-1fc1-49ae-9c85-f7e2f17774d6"
   },
   "outputs": [
    {
     "name": "stdout",
     "output_type": "stream",
     "text": [
      "Model: \"sequential_11\"\n",
      "_________________________________________________________________\n",
      "Layer (type)                 Output Shape              Param #   \n",
      "=================================================================\n",
      "conv2d_22 (Conv2D)           (None, 220, 220, 50)      3800      \n",
      "_________________________________________________________________\n",
      "max_pooling2d_13 (MaxPooling (None, 110, 110, 50)      0         \n",
      "_________________________________________________________________\n",
      "conv2d_23 (Conv2D)           (None, 106, 106, 50)      62550     \n",
      "_________________________________________________________________\n",
      "max_pooling2d_14 (MaxPooling (None, 26, 26, 50)        0         \n",
      "_________________________________________________________________\n",
      "flatten_11 (Flatten)         (None, 33800)             0         \n",
      "_________________________________________________________________\n",
      "dense_20 (Dense)             (None, 100)               3380100   \n",
      "_________________________________________________________________\n",
      "batch_normalization_1 (Batch (None, 100)               400       \n",
      "_________________________________________________________________\n",
      "dropout_1 (Dropout)          (None, 100)               0         \n",
      "_________________________________________________________________\n",
      "dense_21 (Dense)             (None, 100)               10100     \n",
      "_________________________________________________________________\n",
      "batch_normalization_2 (Batch (None, 100)               400       \n",
      "_________________________________________________________________\n",
      "dropout_2 (Dropout)          (None, 100)               0         \n",
      "_________________________________________________________________\n",
      "dense_22 (Dense)             (None, 1)                 101       \n",
      "=================================================================\n",
      "Total params: 3,457,451\n",
      "Trainable params: 3,457,051\n",
      "Non-trainable params: 400\n",
      "_________________________________________________________________\n"
     ]
    }
   ],
   "source": [
    "model.summary()"
   ]
  },
  {
   "cell_type": "code",
   "execution_count": null,
   "metadata": {
    "colab": {
     "base_uri": "https://localhost:8080/",
     "height": 1000
    },
    "colab_type": "code",
    "executionInfo": {
     "elapsed": 805264,
     "status": "ok",
     "timestamp": 1585233348857,
     "user": {
      "displayName": "Aishwarya Singh",
      "photoUrl": "https://lh3.googleusercontent.com/a-/AOh14GgeJwfn4BdBDCAplWi_kdtB9FRssOpXO7T_aMgg=s64",
      "userId": "01105858832371513140"
     },
     "user_tz": -330
    },
    "id": "z4r5Ujo4cxPg",
    "outputId": "08c4023a-8806-4550-8865-4aded9658c00"
   },
   "outputs": [
    {
     "name": "stdout",
     "output_type": "stream",
     "text": [
      "Train on 1646 samples, validate on 706 samples\n",
      "Epoch 1/100\n",
      "1646/1646 [==============================] - 14s 8ms/step - loss: 0.8870 - acc: 0.5820 - val_loss: 0.9441 - val_acc: 0.6261\n",
      "Epoch 2/100\n",
      "1646/1646 [==============================] - 8s 5ms/step - loss: 0.6971 - acc: 0.6950 - val_loss: 0.5143 - val_acc: 0.7635\n",
      "Epoch 3/100\n",
      "1646/1646 [==============================] - 8s 5ms/step - loss: 0.5948 - acc: 0.7266 - val_loss: 0.4687 - val_acc: 0.7762\n",
      "Epoch 4/100\n",
      "1646/1646 [==============================] - 8s 5ms/step - loss: 0.5238 - acc: 0.7618 - val_loss: 0.4894 - val_acc: 0.7677\n",
      "Epoch 5/100\n",
      "1646/1646 [==============================] - 8s 5ms/step - loss: 0.4799 - acc: 0.8001 - val_loss: 0.5443 - val_acc: 0.7337\n",
      "Epoch 6/100\n",
      "1646/1646 [==============================] - 8s 5ms/step - loss: 0.4545 - acc: 0.8001 - val_loss: 0.6658 - val_acc: 0.7181\n",
      "Epoch 7/100\n",
      "1646/1646 [==============================] - 8s 5ms/step - loss: 0.3866 - acc: 0.8256 - val_loss: 0.6150 - val_acc: 0.7153\n",
      "Epoch 8/100\n",
      "1646/1646 [==============================] - 8s 5ms/step - loss: 0.3266 - acc: 0.8700 - val_loss: 0.3744 - val_acc: 0.8428\n",
      "Epoch 9/100\n",
      "1646/1646 [==============================] - 8s 5ms/step - loss: 0.3082 - acc: 0.8730 - val_loss: 0.3762 - val_acc: 0.8173\n",
      "Epoch 10/100\n",
      "1646/1646 [==============================] - 8s 5ms/step - loss: 0.2466 - acc: 0.8955 - val_loss: 0.3540 - val_acc: 0.8484\n",
      "Epoch 11/100\n",
      "1646/1646 [==============================] - 8s 5ms/step - loss: 0.2185 - acc: 0.9162 - val_loss: 0.4747 - val_acc: 0.7833\n",
      "Epoch 12/100\n",
      "1646/1646 [==============================] - 8s 5ms/step - loss: 0.1971 - acc: 0.9216 - val_loss: 0.6530 - val_acc: 0.7266\n",
      "Epoch 13/100\n",
      "1646/1646 [==============================] - 8s 5ms/step - loss: 0.1566 - acc: 0.9399 - val_loss: 0.7989 - val_acc: 0.7054\n",
      "Epoch 14/100\n",
      "1646/1646 [==============================] - 8s 5ms/step - loss: 0.1607 - acc: 0.9374 - val_loss: 0.4130 - val_acc: 0.8258\n",
      "Epoch 15/100\n",
      "1646/1646 [==============================] - 8s 5ms/step - loss: 0.1143 - acc: 0.9629 - val_loss: 0.5298 - val_acc: 0.7776\n",
      "Epoch 16/100\n",
      "1646/1646 [==============================] - 8s 5ms/step - loss: 0.0916 - acc: 0.9690 - val_loss: 0.6220 - val_acc: 0.7521\n",
      "Epoch 17/100\n",
      "1646/1646 [==============================] - 8s 5ms/step - loss: 0.0925 - acc: 0.9666 - val_loss: 0.8685 - val_acc: 0.6884\n",
      "Epoch 18/100\n",
      "1646/1646 [==============================] - 8s 5ms/step - loss: 0.0706 - acc: 0.9812 - val_loss: 0.6384 - val_acc: 0.7408\n",
      "Epoch 19/100\n",
      "1646/1646 [==============================] - 8s 5ms/step - loss: 0.0608 - acc: 0.9860 - val_loss: 0.3760 - val_acc: 0.8555\n",
      "Epoch 20/100\n",
      "1646/1646 [==============================] - 8s 5ms/step - loss: 0.0714 - acc: 0.9769 - val_loss: 0.5040 - val_acc: 0.8088\n",
      "Epoch 21/100\n",
      "1646/1646 [==============================] - 8s 5ms/step - loss: 0.0515 - acc: 0.9854 - val_loss: 0.5570 - val_acc: 0.8102\n",
      "Epoch 22/100\n",
      "1646/1646 [==============================] - 8s 5ms/step - loss: 0.0444 - acc: 0.9872 - val_loss: 0.8956 - val_acc: 0.7436\n",
      "Epoch 23/100\n",
      "1646/1646 [==============================] - 8s 5ms/step - loss: 0.0562 - acc: 0.9836 - val_loss: 0.8303 - val_acc: 0.7946\n",
      "Epoch 24/100\n",
      "1646/1646 [==============================] - 8s 5ms/step - loss: 0.0510 - acc: 0.9872 - val_loss: 0.4352 - val_acc: 0.8513\n",
      "Epoch 25/100\n",
      "1646/1646 [==============================] - 8s 5ms/step - loss: 0.0382 - acc: 0.9891 - val_loss: 0.4537 - val_acc: 0.8343\n",
      "Epoch 26/100\n",
      "1646/1646 [==============================] - 8s 5ms/step - loss: 0.0449 - acc: 0.9891 - val_loss: 0.5381 - val_acc: 0.8428\n",
      "Epoch 27/100\n",
      "1646/1646 [==============================] - 8s 5ms/step - loss: 0.0322 - acc: 0.9933 - val_loss: 0.5808 - val_acc: 0.8258\n",
      "Epoch 28/100\n",
      "1646/1646 [==============================] - 8s 5ms/step - loss: 0.0421 - acc: 0.9885 - val_loss: 0.8769 - val_acc: 0.7762\n",
      "Epoch 29/100\n",
      "1646/1646 [==============================] - 8s 5ms/step - loss: 0.0312 - acc: 0.9909 - val_loss: 0.4759 - val_acc: 0.8640\n",
      "Epoch 30/100\n",
      "1646/1646 [==============================] - 8s 5ms/step - loss: 0.0291 - acc: 0.9957 - val_loss: 0.4874 - val_acc: 0.8527\n",
      "Epoch 31/100\n",
      "1646/1646 [==============================] - 8s 5ms/step - loss: 0.0323 - acc: 0.9939 - val_loss: 1.5394 - val_acc: 0.6799\n",
      "Epoch 32/100\n",
      "1646/1646 [==============================] - 8s 5ms/step - loss: 0.0317 - acc: 0.9921 - val_loss: 0.6682 - val_acc: 0.8244\n",
      "Epoch 33/100\n",
      "1646/1646 [==============================] - 8s 5ms/step - loss: 0.0248 - acc: 0.9945 - val_loss: 0.5972 - val_acc: 0.8499\n",
      "Epoch 34/100\n",
      "1646/1646 [==============================] - 8s 5ms/step - loss: 0.0325 - acc: 0.9945 - val_loss: 0.5794 - val_acc: 0.8399\n",
      "Epoch 35/100\n",
      "1646/1646 [==============================] - 8s 5ms/step - loss: 0.0320 - acc: 0.9921 - val_loss: 0.9024 - val_acc: 0.7918\n",
      "Epoch 36/100\n",
      "1646/1646 [==============================] - 8s 5ms/step - loss: 0.0288 - acc: 0.9939 - val_loss: 0.6474 - val_acc: 0.8300\n",
      "Epoch 37/100\n",
      "1646/1646 [==============================] - 8s 5ms/step - loss: 0.0161 - acc: 0.9970 - val_loss: 0.7969 - val_acc: 0.8102\n",
      "Epoch 38/100\n",
      "1646/1646 [==============================] - 8s 5ms/step - loss: 0.0249 - acc: 0.9927 - val_loss: 0.4859 - val_acc: 0.8555\n",
      "Epoch 39/100\n",
      "1646/1646 [==============================] - 8s 5ms/step - loss: 0.0171 - acc: 0.9970 - val_loss: 0.6151 - val_acc: 0.8357\n",
      "Epoch 40/100\n",
      "1646/1646 [==============================] - 8s 5ms/step - loss: 0.0209 - acc: 0.9933 - val_loss: 0.6870 - val_acc: 0.8314\n",
      "Epoch 41/100\n",
      "1646/1646 [==============================] - 8s 5ms/step - loss: 0.0199 - acc: 0.9945 - val_loss: 0.9041 - val_acc: 0.8017\n",
      "Epoch 42/100\n",
      "1646/1646 [==============================] - 8s 5ms/step - loss: 0.0233 - acc: 0.9964 - val_loss: 0.7282 - val_acc: 0.8215\n",
      "Epoch 43/100\n",
      "1646/1646 [==============================] - 8s 5ms/step - loss: 0.0351 - acc: 0.9915 - val_loss: 0.6487 - val_acc: 0.8569\n",
      "Epoch 44/100\n",
      "1646/1646 [==============================] - 8s 5ms/step - loss: 0.0138 - acc: 0.9970 - val_loss: 0.6534 - val_acc: 0.8371\n",
      "Epoch 45/100\n",
      "1646/1646 [==============================] - 8s 5ms/step - loss: 0.0238 - acc: 0.9951 - val_loss: 0.6509 - val_acc: 0.8371\n",
      "Epoch 46/100\n",
      "1646/1646 [==============================] - 8s 5ms/step - loss: 0.0215 - acc: 0.9957 - val_loss: 0.6949 - val_acc: 0.8357\n",
      "Epoch 47/100\n",
      "1646/1646 [==============================] - 8s 5ms/step - loss: 0.0185 - acc: 0.9964 - val_loss: 0.5924 - val_acc: 0.8442\n",
      "Epoch 48/100\n",
      "1646/1646 [==============================] - 8s 5ms/step - loss: 0.0302 - acc: 0.9939 - val_loss: 0.9009 - val_acc: 0.7833\n",
      "Epoch 49/100\n",
      "1646/1646 [==============================] - 8s 5ms/step - loss: 0.0267 - acc: 0.9945 - val_loss: 0.7192 - val_acc: 0.8399\n",
      "Epoch 50/100\n",
      "1646/1646 [==============================] - 8s 5ms/step - loss: 0.0193 - acc: 0.9970 - val_loss: 0.6411 - val_acc: 0.8541\n",
      "Epoch 51/100\n",
      "1646/1646 [==============================] - 8s 5ms/step - loss: 0.0209 - acc: 0.9921 - val_loss: 0.7124 - val_acc: 0.8314\n",
      "Epoch 52/100\n",
      "1646/1646 [==============================] - 8s 5ms/step - loss: 0.0165 - acc: 0.9982 - val_loss: 0.7367 - val_acc: 0.8357\n",
      "Epoch 53/100\n",
      "1646/1646 [==============================] - 8s 5ms/step - loss: 0.0224 - acc: 0.9939 - val_loss: 0.7987 - val_acc: 0.8229\n",
      "Epoch 54/100\n",
      "1646/1646 [==============================] - 8s 5ms/step - loss: 0.0106 - acc: 0.9976 - val_loss: 0.9168 - val_acc: 0.8272\n",
      "Epoch 55/100\n",
      "1646/1646 [==============================] - 8s 5ms/step - loss: 0.0122 - acc: 0.9964 - val_loss: 1.0060 - val_acc: 0.8045\n",
      "Epoch 56/100\n",
      "1646/1646 [==============================] - 8s 5ms/step - loss: 0.0147 - acc: 0.9951 - val_loss: 0.7914 - val_acc: 0.8343\n",
      "Epoch 57/100\n",
      "1646/1646 [==============================] - 8s 5ms/step - loss: 0.0173 - acc: 0.9933 - val_loss: 1.4293 - val_acc: 0.7748\n",
      "Epoch 58/100\n",
      "1646/1646 [==============================] - 8s 5ms/step - loss: 0.0142 - acc: 0.9964 - val_loss: 0.6311 - val_acc: 0.8456\n",
      "Epoch 59/100\n",
      "1646/1646 [==============================] - 8s 5ms/step - loss: 0.0196 - acc: 0.9957 - val_loss: 1.5057 - val_acc: 0.7082\n",
      "Epoch 60/100\n",
      "1646/1646 [==============================] - 8s 5ms/step - loss: 0.0176 - acc: 0.9970 - val_loss: 0.8405 - val_acc: 0.7861\n",
      "Epoch 61/100\n",
      "1646/1646 [==============================] - 8s 5ms/step - loss: 0.0091 - acc: 0.9976 - val_loss: 0.6720 - val_acc: 0.7833\n",
      "Epoch 62/100\n",
      "1646/1646 [==============================] - 8s 5ms/step - loss: 0.0164 - acc: 0.9957 - val_loss: 0.5793 - val_acc: 0.8314\n",
      "Epoch 63/100\n",
      "1646/1646 [==============================] - 8s 5ms/step - loss: 0.0153 - acc: 0.9964 - val_loss: 0.8058 - val_acc: 0.8187\n",
      "Epoch 64/100\n",
      "1646/1646 [==============================] - 8s 5ms/step - loss: 0.0192 - acc: 0.9982 - val_loss: 0.6427 - val_acc: 0.8357\n",
      "Epoch 65/100\n",
      "1646/1646 [==============================] - 8s 5ms/step - loss: 0.0256 - acc: 0.9945 - val_loss: 0.6354 - val_acc: 0.8399\n",
      "Epoch 66/100\n",
      "1646/1646 [==============================] - 8s 5ms/step - loss: 0.0087 - acc: 0.9976 - val_loss: 1.1352 - val_acc: 0.8031\n",
      "Epoch 67/100\n",
      "1646/1646 [==============================] - 8s 5ms/step - loss: 0.0098 - acc: 0.9982 - val_loss: 0.7392 - val_acc: 0.8329\n",
      "Epoch 68/100\n",
      "1646/1646 [==============================] - 8s 5ms/step - loss: 0.0163 - acc: 0.9957 - val_loss: 0.7132 - val_acc: 0.8314\n",
      "Epoch 69/100\n",
      "1646/1646 [==============================] - 8s 5ms/step - loss: 0.0126 - acc: 0.9982 - val_loss: 1.3324 - val_acc: 0.7762\n",
      "Epoch 70/100\n",
      "1646/1646 [==============================] - 8s 5ms/step - loss: 0.0145 - acc: 0.9957 - val_loss: 0.8261 - val_acc: 0.8385\n",
      "Epoch 71/100\n",
      "1646/1646 [==============================] - 8s 5ms/step - loss: 0.0110 - acc: 0.9976 - val_loss: 1.3603 - val_acc: 0.7833\n",
      "Epoch 72/100\n",
      "1646/1646 [==============================] - 8s 5ms/step - loss: 0.0132 - acc: 0.9982 - val_loss: 0.6580 - val_acc: 0.8343\n",
      "Epoch 73/100\n",
      "1646/1646 [==============================] - 8s 5ms/step - loss: 0.0173 - acc: 0.9957 - val_loss: 0.8770 - val_acc: 0.8286\n",
      "Epoch 74/100\n",
      "1646/1646 [==============================] - 8s 5ms/step - loss: 0.0089 - acc: 0.9964 - val_loss: 1.4165 - val_acc: 0.7734\n",
      "Epoch 75/100\n",
      "1646/1646 [==============================] - 8s 5ms/step - loss: 0.0074 - acc: 0.9976 - val_loss: 0.8365 - val_acc: 0.8329\n",
      "Epoch 76/100\n",
      "1646/1646 [==============================] - 8s 5ms/step - loss: 0.0102 - acc: 0.9970 - val_loss: 0.8406 - val_acc: 0.8456\n",
      "Epoch 77/100\n",
      "1646/1646 [==============================] - 8s 5ms/step - loss: 0.0051 - acc: 0.9988 - val_loss: 0.8357 - val_acc: 0.8399\n",
      "Epoch 78/100\n",
      "1646/1646 [==============================] - 8s 5ms/step - loss: 0.0098 - acc: 0.9976 - val_loss: 0.7536 - val_acc: 0.8598\n",
      "Epoch 79/100\n",
      "1646/1646 [==============================] - 8s 5ms/step - loss: 0.0127 - acc: 0.9964 - val_loss: 0.8296 - val_acc: 0.8484\n",
      "Epoch 80/100\n",
      "1646/1646 [==============================] - 8s 5ms/step - loss: 0.0104 - acc: 0.9964 - val_loss: 0.7752 - val_acc: 0.8513\n",
      "Epoch 81/100\n",
      "1646/1646 [==============================] - 8s 5ms/step - loss: 0.0169 - acc: 0.9957 - val_loss: 0.7257 - val_acc: 0.8399\n",
      "Epoch 82/100\n",
      "1646/1646 [==============================] - 8s 5ms/step - loss: 0.0056 - acc: 0.9982 - val_loss: 0.7513 - val_acc: 0.8343\n",
      "Epoch 83/100\n",
      "1646/1646 [==============================] - 8s 5ms/step - loss: 0.0106 - acc: 0.9970 - val_loss: 0.7079 - val_acc: 0.8428\n",
      "Epoch 84/100\n",
      "1646/1646 [==============================] - 8s 5ms/step - loss: 0.0172 - acc: 0.9970 - val_loss: 1.1716 - val_acc: 0.7904\n",
      "Epoch 85/100\n",
      "1646/1646 [==============================] - 8s 5ms/step - loss: 0.0114 - acc: 0.9957 - val_loss: 1.0705 - val_acc: 0.8187\n",
      "Epoch 86/100\n",
      "1646/1646 [==============================] - 8s 5ms/step - loss: 0.0111 - acc: 0.9976 - val_loss: 0.8891 - val_acc: 0.8201\n",
      "Epoch 87/100\n",
      "1646/1646 [==============================] - 8s 5ms/step - loss: 0.0103 - acc: 0.9982 - val_loss: 0.7137 - val_acc: 0.8456\n",
      "Epoch 88/100\n",
      "1646/1646 [==============================] - 8s 5ms/step - loss: 0.0161 - acc: 0.9957 - val_loss: 0.6900 - val_acc: 0.8385\n",
      "Epoch 89/100\n",
      "1646/1646 [==============================] - 8s 5ms/step - loss: 0.0180 - acc: 0.9957 - val_loss: 0.7273 - val_acc: 0.8399\n",
      "Epoch 90/100\n",
      "1646/1646 [==============================] - 8s 5ms/step - loss: 0.0112 - acc: 0.9964 - val_loss: 0.8926 - val_acc: 0.8258\n",
      "Epoch 91/100\n",
      "1646/1646 [==============================] - 8s 5ms/step - loss: 0.0163 - acc: 0.9964 - val_loss: 0.7593 - val_acc: 0.8399\n",
      "Epoch 92/100\n",
      "1646/1646 [==============================] - 8s 5ms/step - loss: 0.0078 - acc: 0.9957 - val_loss: 1.3285 - val_acc: 0.7904\n",
      "Epoch 93/100\n",
      "1646/1646 [==============================] - 8s 5ms/step - loss: 0.0092 - acc: 0.9964 - val_loss: 0.8840 - val_acc: 0.8343\n",
      "Epoch 94/100\n",
      "1646/1646 [==============================] - 8s 5ms/step - loss: 0.0092 - acc: 0.9976 - val_loss: 1.0456 - val_acc: 0.8215\n",
      "Epoch 95/100\n",
      "1646/1646 [==============================] - 8s 5ms/step - loss: 0.0087 - acc: 0.9964 - val_loss: 1.2494 - val_acc: 0.7960\n",
      "Epoch 96/100\n",
      "1646/1646 [==============================] - 8s 5ms/step - loss: 0.0141 - acc: 0.9939 - val_loss: 0.9138 - val_acc: 0.8144\n",
      "Epoch 97/100\n",
      "1646/1646 [==============================] - 8s 5ms/step - loss: 0.0177 - acc: 0.9945 - val_loss: 0.9685 - val_acc: 0.8088\n",
      "Epoch 98/100\n",
      "1646/1646 [==============================] - 8s 5ms/step - loss: 0.0133 - acc: 0.9957 - val_loss: 1.1182 - val_acc: 0.8116\n",
      "Epoch 99/100\n",
      "1646/1646 [==============================] - 8s 5ms/step - loss: 0.0143 - acc: 0.9951 - val_loss: 0.9488 - val_acc: 0.8258\n",
      "Epoch 100/100\n",
      "1646/1646 [==============================] - 8s 5ms/step - loss: 0.0210 - acc: 0.9951 - val_loss: 1.8198 - val_acc: 0.7195\n"
     ]
    }
   ],
   "source": [
    "# training the model for 100 epochs\n",
    "model_history = model.fit(X_train, y_train, epochs=100, batch_size=128,validation_data=(X_valid,y_valid))"
   ]
  },
  {
   "cell_type": "code",
   "execution_count": 19,
   "metadata": {
    "colab": {
     "base_uri": "https://localhost:8080/",
     "height": 34
    },
    "colab_type": "code",
    "executionInfo": {
     "elapsed": 270882,
     "status": "ok",
     "timestamp": 1585227907392,
     "user": {
      "displayName": "Aishwarya Singh",
      "photoUrl": "https://lh3.googleusercontent.com/a-/AOh14GgeJwfn4BdBDCAplWi_kdtB9FRssOpXO7T_aMgg=s64",
      "userId": "01105858832371513140"
     },
     "user_tz": -330
    },
    "id": "4VqAxVzGGXk9",
    "outputId": "7581451c-b624-4e2e-8702-e351e8bac56f"
   },
   "outputs": [
    {
     "name": "stdout",
     "output_type": "stream",
     "text": [
      "Accuracy on training set: 0.6318347509113001 %\n"
     ]
    }
   ],
   "source": [
    "# accuracy on training set\n",
    "print('Accuracy on training set:', accuracy_score(y_train, np.where(model.predict(X_train)[:,0]) < 0.5, 0,1))"
   ]
  },
  {
   "cell_type": "code",
   "execution_count": 21,
   "metadata": {
    "colab": {
     "base_uri": "https://localhost:8080/",
     "height": 34
    },
    "colab_type": "code",
    "executionInfo": {
     "elapsed": 273619,
     "status": "ok",
     "timestamp": 1585227910434,
     "user": {
      "displayName": "Aishwarya Singh",
      "photoUrl": "https://lh3.googleusercontent.com/a-/AOh14GgeJwfn4BdBDCAplWi_kdtB9FRssOpXO7T_aMgg=s64",
      "userId": "01105858832371513140"
     },
     "user_tz": -330
    },
    "id": "HG13Xm6bGXQg",
    "outputId": "f6af5e11-f340-43df-cc88-08ed728239a1"
   },
   "outputs": [
    {
     "name": "stdout",
     "output_type": "stream",
     "text": [
      "Accuracy on validation set: 0.623229461756374 %\n"
     ]
    }
   ],
   "source": [
    "# accuracy on validation set\n",
    "print('Accuracy on validation set:', accuracy_score(y_valid, np.where(model.predict(X_valid)[:,0]) < 0.5, 0,1))"
   ]
  },
  {
   "cell_type": "code",
   "execution_count": null,
   "metadata": {
    "colab": {
     "base_uri": "https://localhost:8080/",
     "height": 295
    },
    "colab_type": "code",
    "executionInfo": {
     "elapsed": 2108,
     "status": "ok",
     "timestamp": 1585233719536,
     "user": {
      "displayName": "Aishwarya Singh",
      "photoUrl": "https://lh3.googleusercontent.com/a-/AOh14GgeJwfn4BdBDCAplWi_kdtB9FRssOpXO7T_aMgg=s64",
      "userId": "01105858832371513140"
     },
     "user_tz": -330
    },
    "id": "icyVeIn0eIPG",
    "outputId": "5e0ac31a-c136-467b-966e-8266248dcfd0"
   },
   "outputs": [
    {
     "data": {
      "image/png": "[encoded data removed]",
      "text/plain": [
       "<Figure size 432x288 with 1 Axes>"
      ]
     },
     "metadata": {
      "tags": []
     },
     "output_type": "display_data"
    }
   ],
   "source": [
    "# summarize history for loss\n",
    "plt.plot(model_history.history['loss'])\n",
    "plt.plot(model_history.history['val_loss'])\n",
    "plt.title('model loss')\n",
    "plt.ylabel('loss')\n",
    "plt.xlabel('epoch')\n",
    "plt.legend(['train', 'validation'], loc='upper left')\n",
    "plt.show()"
   ]
  },
  {
   "cell_type": "code",
   "execution_count": null,
   "metadata": {
    "colab": {
     "base_uri": "https://localhost:8080/",
     "height": 295
    },
    "colab_type": "code",
    "executionInfo": {
     "elapsed": 1964,
     "status": "ok",
     "timestamp": 1585233721162,
     "user": {
      "displayName": "Aishwarya Singh",
      "photoUrl": "https://lh3.googleusercontent.com/a-/AOh14GgeJwfn4BdBDCAplWi_kdtB9FRssOpXO7T_aMgg=s64",
      "userId": "01105858832371513140"
     },
     "user_tz": -330
    },
    "id": "oYJOcjiNeIPu",
    "outputId": "6ac13cf7-5adc-4c82-8542-c0f971893c8d"
   },
   "outputs": [
    {
     "data": {
      "image/png": "[encoded data removed]",
      "text/plain": [
       "<Figure size 432x288 with 1 Axes>"
      ]
     },
     "metadata": {
      "tags": []
     },
     "output_type": "display_data"
    }
   ],
   "source": [
    "# summarize history for accuracy\n",
    "plt.plot(model_history.history['accuracy'])\n",
    "plt.plot(model_history.history['val_accuracy'])\n",
    "plt.title('model accuracy')\n",
    "plt.ylabel('accuracy')\n",
    "plt.xlabel('epoch')\n",
    "plt.legend(['train', 'validation'], loc='upper left')\n",
    "plt.show()"
   ]
  },
  {
   "cell_type": "code",
   "execution_count": null,
   "metadata": {
    "colab": {},
    "colab_type": "code",
    "id": "wQ-rpxow7gzJ"
   },
   "outputs": [],
   "source": []
  }
 ],
 "metadata": {
  "accelerator": "GPU",
  "colab": {
   "collapsed_sections": [],
   "name": "Convolutional Neural Network in Keras.ipynb",
   "provenance": []
  },
  "kernelspec": {
   "display_name": "Python 3 (ipykernel)",
   "language": "python",
   "name": "python3"
  },
  "language_info": {
   "codemirror_mode": {
    "name": "ipython",
    "version": 3
   },
   "file_extension": ".py",
   "mimetype": "text/x-python",
   "name": "python",
   "nbconvert_exporter": "python",
   "pygments_lexer": "ipython3",
   "version": "3.11.5"
  }
 },
 "nbformat": 4,
 "nbformat_minor": 4
}
